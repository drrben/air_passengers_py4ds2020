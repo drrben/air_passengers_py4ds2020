{
 "cells": [
  {
   "cell_type": "markdown",
   "metadata": {},
   "source": [
    "# <a href=\"http://www.datascience-paris-saclay.fr\">Paris Saclay Center for Data Science</a>\n",
    "# <a href=https://www.ramp.studio/problems/air_passengers>RAMP</a> on predicting the number of air passengers\n",
    "\n",
    "<i> Balázs Kégl (LAL/CNRS), Alex Gramfort (Inria), Djalel Benbouzid (UPMC), Mehdi Cherti (LAL/CNRS) </i>"
   ]
  },
  {
   "cell_type": "markdown",
   "metadata": {},
   "source": [
    "## Introduction\n",
    "The data set was donated to us by an unnamed company handling flight ticket reservations. The data is thin, it contains\n",
    "<ul>\n",
    "<li> the date of departure\n",
    "<li> the departure airport\n",
    "<li> the arrival airport\n",
    "<li> the mean and standard deviation of the number of weeks of the reservations made before the departure date\n",
    "<li> a field called <code>log_PAX</code> which is related to the number of passengers (the actual number were changed for privacy reasons)\n",
    "</ul>\n",
    "\n",
    "The goal is to predict the <code>log_PAX</code> column. The prediction quality is measured by RMSE. \n",
    "\n",
    "The data is obviously limited, but since data and location informations are available, it can be joined to external data sets. <b>The challenge in this RAMP is to find good data that can be correlated to flight traffic</b>."
   ]
  },
  {
   "cell_type": "code",
   "execution_count": 1,
   "metadata": {},
   "outputs": [],
   "source": [
    "%matplotlib inline\n",
    "import os\n",
    "import importlib\n",
    "import numpy as np\n",
    "import pandas as pd\n",
    "import matplotlib.pyplot as plt\n",
    "pd.set_option('display.max_columns', None)"
   ]
  },
  {
   "cell_type": "code",
   "execution_count": 2,
   "metadata": {},
   "outputs": [
    {
     "data": {
      "application/javascript": [
       "\n",
       "            setTimeout(function() {\n",
       "                var nbb_cell_id = 2;\n",
       "                var nbb_unformatted_code = \"%load_ext nb_black\";\n",
       "                var nbb_formatted_code = \"%load_ext nb_black\";\n",
       "                var nbb_cells = Jupyter.notebook.get_cells();\n",
       "                for (var i = 0; i < nbb_cells.length; ++i) {\n",
       "                    if (nbb_cells[i].input_prompt_number == nbb_cell_id) {\n",
       "                        if (nbb_cells[i].get_text() == nbb_unformatted_code) {\n",
       "                             nbb_cells[i].set_text(nbb_formatted_code);\n",
       "                        }\n",
       "                        break;\n",
       "                    }\n",
       "                }\n",
       "            }, 500);\n",
       "            "
      ],
      "text/plain": [
       "<IPython.core.display.Javascript object>"
      ]
     },
     "metadata": {},
     "output_type": "display_data"
    }
   ],
   "source": [
    "%load_ext nb_black"
   ]
  },
  {
   "cell_type": "markdown",
   "metadata": {},
   "source": [
    "## Load the dataset using pandas"
   ]
  },
  {
   "cell_type": "markdown",
   "metadata": {},
   "source": [
    "The training and testing data are located in the folder `data`. They are compressed `csv` file (i.e. `csv.bz2`). We can load the dataset using pandas."
   ]
  },
  {
   "cell_type": "code",
   "execution_count": 3,
   "metadata": {},
   "outputs": [
    {
     "data": {
      "application/javascript": [
       "\n",
       "            setTimeout(function() {\n",
       "                var nbb_cell_id = 3;\n",
       "                var nbb_unformatted_code = \"data = pd.read_csv(os.path.join(\\\"data\\\", \\\"train.csv.bz2\\\"))\";\n",
       "                var nbb_formatted_code = \"data = pd.read_csv(os.path.join(\\\"data\\\", \\\"train.csv.bz2\\\"))\";\n",
       "                var nbb_cells = Jupyter.notebook.get_cells();\n",
       "                for (var i = 0; i < nbb_cells.length; ++i) {\n",
       "                    if (nbb_cells[i].input_prompt_number == nbb_cell_id) {\n",
       "                        if (nbb_cells[i].get_text() == nbb_unformatted_code) {\n",
       "                             nbb_cells[i].set_text(nbb_formatted_code);\n",
       "                        }\n",
       "                        break;\n",
       "                    }\n",
       "                }\n",
       "            }, 500);\n",
       "            "
      ],
      "text/plain": [
       "<IPython.core.display.Javascript object>"
      ]
     },
     "metadata": {},
     "output_type": "display_data"
    }
   ],
   "source": [
    "data = pd.read_csv(os.path.join(\"data\", \"train.csv.bz2\"))"
   ]
  },
  {
   "cell_type": "code",
   "execution_count": 4,
   "metadata": {},
   "outputs": [
    {
     "name": "stdout",
     "output_type": "stream",
     "text": [
      "<class 'pandas.core.frame.DataFrame'>\n",
      "RangeIndex: 8902 entries, 0 to 8901\n",
      "Data columns (total 6 columns):\n",
      " #   Column            Non-Null Count  Dtype  \n",
      "---  ------            --------------  -----  \n",
      " 0   DateOfDeparture   8902 non-null   object \n",
      " 1   Departure         8902 non-null   object \n",
      " 2   Arrival           8902 non-null   object \n",
      " 3   WeeksToDeparture  8902 non-null   float64\n",
      " 4   log_PAX           8902 non-null   float64\n",
      " 5   std_wtd           8902 non-null   float64\n",
      "dtypes: float64(3), object(3)\n",
      "memory usage: 417.4+ KB\n"
     ]
    },
    {
     "data": {
      "application/javascript": [
       "\n",
       "            setTimeout(function() {\n",
       "                var nbb_cell_id = 4;\n",
       "                var nbb_unformatted_code = \"data.info()\";\n",
       "                var nbb_formatted_code = \"data.info()\";\n",
       "                var nbb_cells = Jupyter.notebook.get_cells();\n",
       "                for (var i = 0; i < nbb_cells.length; ++i) {\n",
       "                    if (nbb_cells[i].input_prompt_number == nbb_cell_id) {\n",
       "                        if (nbb_cells[i].get_text() == nbb_unformatted_code) {\n",
       "                             nbb_cells[i].set_text(nbb_formatted_code);\n",
       "                        }\n",
       "                        break;\n",
       "                    }\n",
       "                }\n",
       "            }, 500);\n",
       "            "
      ],
      "text/plain": [
       "<IPython.core.display.Javascript object>"
      ]
     },
     "metadata": {},
     "output_type": "display_data"
    }
   ],
   "source": [
    "data.info()"
   ]
  },
  {
   "cell_type": "markdown",
   "metadata": {},
   "source": [
    "So as stated earlier, the column `log_PAX` is the target for our regression problem. The other columns are the features which will be used for our prediction problem. If we focus on the data type of the column, we can see that `DateOfDeparture`, `Departure`, and `Arrival` are of `object` dtype, meaning they are strings."
   ]
  },
  {
   "cell_type": "code",
   "execution_count": 5,
   "metadata": {},
   "outputs": [
    {
     "data": {
      "text/html": [
       "<div>\n",
       "<style scoped>\n",
       "    .dataframe tbody tr th:only-of-type {\n",
       "        vertical-align: middle;\n",
       "    }\n",
       "\n",
       "    .dataframe tbody tr th {\n",
       "        vertical-align: top;\n",
       "    }\n",
       "\n",
       "    .dataframe thead th {\n",
       "        text-align: right;\n",
       "    }\n",
       "</style>\n",
       "<table border=\"1\" class=\"dataframe\">\n",
       "  <thead>\n",
       "    <tr style=\"text-align: right;\">\n",
       "      <th></th>\n",
       "      <th>DateOfDeparture</th>\n",
       "      <th>Departure</th>\n",
       "      <th>Arrival</th>\n",
       "    </tr>\n",
       "  </thead>\n",
       "  <tbody>\n",
       "    <tr>\n",
       "      <th>0</th>\n",
       "      <td>2012-06-19</td>\n",
       "      <td>ORD</td>\n",
       "      <td>DFW</td>\n",
       "    </tr>\n",
       "    <tr>\n",
       "      <th>1</th>\n",
       "      <td>2012-09-10</td>\n",
       "      <td>LAS</td>\n",
       "      <td>DEN</td>\n",
       "    </tr>\n",
       "    <tr>\n",
       "      <th>2</th>\n",
       "      <td>2012-10-05</td>\n",
       "      <td>DEN</td>\n",
       "      <td>LAX</td>\n",
       "    </tr>\n",
       "    <tr>\n",
       "      <th>3</th>\n",
       "      <td>2011-10-09</td>\n",
       "      <td>ATL</td>\n",
       "      <td>ORD</td>\n",
       "    </tr>\n",
       "    <tr>\n",
       "      <th>4</th>\n",
       "      <td>2012-02-21</td>\n",
       "      <td>DEN</td>\n",
       "      <td>SFO</td>\n",
       "    </tr>\n",
       "  </tbody>\n",
       "</table>\n",
       "</div>"
      ],
      "text/plain": [
       "  DateOfDeparture Departure Arrival\n",
       "0      2012-06-19       ORD     DFW\n",
       "1      2012-09-10       LAS     DEN\n",
       "2      2012-10-05       DEN     LAX\n",
       "3      2011-10-09       ATL     ORD\n",
       "4      2012-02-21       DEN     SFO"
      ]
     },
     "execution_count": 5,
     "metadata": {},
     "output_type": "execute_result"
    },
    {
     "data": {
      "application/javascript": [
       "\n",
       "            setTimeout(function() {\n",
       "                var nbb_cell_id = 5;\n",
       "                var nbb_unformatted_code = \"data[[\\\"DateOfDeparture\\\", \\\"Departure\\\", \\\"Arrival\\\"]].head()\";\n",
       "                var nbb_formatted_code = \"data[[\\\"DateOfDeparture\\\", \\\"Departure\\\", \\\"Arrival\\\"]].head()\";\n",
       "                var nbb_cells = Jupyter.notebook.get_cells();\n",
       "                for (var i = 0; i < nbb_cells.length; ++i) {\n",
       "                    if (nbb_cells[i].input_prompt_number == nbb_cell_id) {\n",
       "                        if (nbb_cells[i].get_text() == nbb_unformatted_code) {\n",
       "                             nbb_cells[i].set_text(nbb_formatted_code);\n",
       "                        }\n",
       "                        break;\n",
       "                    }\n",
       "                }\n",
       "            }, 500);\n",
       "            "
      ],
      "text/plain": [
       "<IPython.core.display.Javascript object>"
      ]
     },
     "metadata": {},
     "output_type": "display_data"
    }
   ],
   "source": [
    "data[[\"DateOfDeparture\", \"Departure\", \"Arrival\"]].head()"
   ]
  },
  {
   "cell_type": "markdown",
   "metadata": {},
   "source": [
    "While it makes `Departure` and `Arrival` are the code of the airport, we see that the `DateOfDeparture` should be a date instead of string. We can use pandas to convert this data."
   ]
  },
  {
   "cell_type": "code",
   "execution_count": 6,
   "metadata": {},
   "outputs": [
    {
     "data": {
      "application/javascript": [
       "\n",
       "            setTimeout(function() {\n",
       "                var nbb_cell_id = 6;\n",
       "                var nbb_unformatted_code = \"data.loc[:, \\\"DateOfDeparture\\\"] = pd.to_datetime(data.loc[:, \\\"DateOfDeparture\\\"])\";\n",
       "                var nbb_formatted_code = \"data.loc[:, \\\"DateOfDeparture\\\"] = pd.to_datetime(data.loc[:, \\\"DateOfDeparture\\\"])\";\n",
       "                var nbb_cells = Jupyter.notebook.get_cells();\n",
       "                for (var i = 0; i < nbb_cells.length; ++i) {\n",
       "                    if (nbb_cells[i].input_prompt_number == nbb_cell_id) {\n",
       "                        if (nbb_cells[i].get_text() == nbb_unformatted_code) {\n",
       "                             nbb_cells[i].set_text(nbb_formatted_code);\n",
       "                        }\n",
       "                        break;\n",
       "                    }\n",
       "                }\n",
       "            }, 500);\n",
       "            "
      ],
      "text/plain": [
       "<IPython.core.display.Javascript object>"
      ]
     },
     "metadata": {},
     "output_type": "display_data"
    }
   ],
   "source": [
    "data.loc[:, \"DateOfDeparture\"] = pd.to_datetime(data.loc[:, \"DateOfDeparture\"])"
   ]
  },
  {
   "cell_type": "code",
   "execution_count": 7,
   "metadata": {},
   "outputs": [
    {
     "name": "stdout",
     "output_type": "stream",
     "text": [
      "<class 'pandas.core.frame.DataFrame'>\n",
      "RangeIndex: 8902 entries, 0 to 8901\n",
      "Data columns (total 6 columns):\n",
      " #   Column            Non-Null Count  Dtype         \n",
      "---  ------            --------------  -----         \n",
      " 0   DateOfDeparture   8902 non-null   datetime64[ns]\n",
      " 1   Departure         8902 non-null   object        \n",
      " 2   Arrival           8902 non-null   object        \n",
      " 3   WeeksToDeparture  8902 non-null   float64       \n",
      " 4   log_PAX           8902 non-null   float64       \n",
      " 5   std_wtd           8902 non-null   float64       \n",
      "dtypes: datetime64[ns](1), float64(3), object(2)\n",
      "memory usage: 417.4+ KB\n"
     ]
    },
    {
     "data": {
      "application/javascript": [
       "\n",
       "            setTimeout(function() {\n",
       "                var nbb_cell_id = 7;\n",
       "                var nbb_unformatted_code = \"data.info()\";\n",
       "                var nbb_formatted_code = \"data.info()\";\n",
       "                var nbb_cells = Jupyter.notebook.get_cells();\n",
       "                for (var i = 0; i < nbb_cells.length; ++i) {\n",
       "                    if (nbb_cells[i].input_prompt_number == nbb_cell_id) {\n",
       "                        if (nbb_cells[i].get_text() == nbb_unformatted_code) {\n",
       "                             nbb_cells[i].set_text(nbb_formatted_code);\n",
       "                        }\n",
       "                        break;\n",
       "                    }\n",
       "                }\n",
       "            }, 500);\n",
       "            "
      ],
      "text/plain": [
       "<IPython.core.display.Javascript object>"
      ]
     },
     "metadata": {},
     "output_type": "display_data"
    }
   ],
   "source": [
    "data.info()"
   ]
  },
  {
   "cell_type": "markdown",
   "metadata": {},
   "source": [
    "When you will create a submission, `ramp-workflow` will load the data for you and split into a data matrix `X` and a target vector `y`. It will also take care about splitting the data into a training and testing set. These utilities are available in the module `problem.py` which we will load."
   ]
  },
  {
   "cell_type": "code",
   "execution_count": 8,
   "metadata": {},
   "outputs": [
    {
     "data": {
      "application/javascript": [
       "\n",
       "            setTimeout(function() {\n",
       "                var nbb_cell_id = 8;\n",
       "                var nbb_unformatted_code = \"import problem\";\n",
       "                var nbb_formatted_code = \"import problem\";\n",
       "                var nbb_cells = Jupyter.notebook.get_cells();\n",
       "                for (var i = 0; i < nbb_cells.length; ++i) {\n",
       "                    if (nbb_cells[i].input_prompt_number == nbb_cell_id) {\n",
       "                        if (nbb_cells[i].get_text() == nbb_unformatted_code) {\n",
       "                             nbb_cells[i].set_text(nbb_formatted_code);\n",
       "                        }\n",
       "                        break;\n",
       "                    }\n",
       "                }\n",
       "            }, 500);\n",
       "            "
      ],
      "text/plain": [
       "<IPython.core.display.Javascript object>"
      ]
     },
     "metadata": {},
     "output_type": "display_data"
    }
   ],
   "source": [
    "import problem"
   ]
  },
  {
   "cell_type": "markdown",
   "metadata": {},
   "source": [
    "The function `get_train_data()` loads the training data and returns a pandas dataframe `X` and a numpy vector `y`."
   ]
  },
  {
   "cell_type": "code",
   "execution_count": 9,
   "metadata": {},
   "outputs": [
    {
     "data": {
      "application/javascript": [
       "\n",
       "            setTimeout(function() {\n",
       "                var nbb_cell_id = 9;\n",
       "                var nbb_unformatted_code = \"X, y = problem.get_train_data()\";\n",
       "                var nbb_formatted_code = \"X, y = problem.get_train_data()\";\n",
       "                var nbb_cells = Jupyter.notebook.get_cells();\n",
       "                for (var i = 0; i < nbb_cells.length; ++i) {\n",
       "                    if (nbb_cells[i].input_prompt_number == nbb_cell_id) {\n",
       "                        if (nbb_cells[i].get_text() == nbb_unformatted_code) {\n",
       "                             nbb_cells[i].set_text(nbb_formatted_code);\n",
       "                        }\n",
       "                        break;\n",
       "                    }\n",
       "                }\n",
       "            }, 500);\n",
       "            "
      ],
      "text/plain": [
       "<IPython.core.display.Javascript object>"
      ]
     },
     "metadata": {},
     "output_type": "display_data"
    }
   ],
   "source": [
    "X, y = problem.get_train_data()"
   ]
  },
  {
   "cell_type": "code",
   "execution_count": 10,
   "metadata": {},
   "outputs": [
    {
     "data": {
      "text/plain": [
       "pandas.core.frame.DataFrame"
      ]
     },
     "execution_count": 10,
     "metadata": {},
     "output_type": "execute_result"
    },
    {
     "data": {
      "application/javascript": [
       "\n",
       "            setTimeout(function() {\n",
       "                var nbb_cell_id = 10;\n",
       "                var nbb_unformatted_code = \"type(X)\";\n",
       "                var nbb_formatted_code = \"type(X)\";\n",
       "                var nbb_cells = Jupyter.notebook.get_cells();\n",
       "                for (var i = 0; i < nbb_cells.length; ++i) {\n",
       "                    if (nbb_cells[i].input_prompt_number == nbb_cell_id) {\n",
       "                        if (nbb_cells[i].get_text() == nbb_unformatted_code) {\n",
       "                             nbb_cells[i].set_text(nbb_formatted_code);\n",
       "                        }\n",
       "                        break;\n",
       "                    }\n",
       "                }\n",
       "            }, 500);\n",
       "            "
      ],
      "text/plain": [
       "<IPython.core.display.Javascript object>"
      ]
     },
     "metadata": {},
     "output_type": "display_data"
    }
   ],
   "source": [
    "type(X)"
   ]
  },
  {
   "cell_type": "code",
   "execution_count": 11,
   "metadata": {},
   "outputs": [
    {
     "data": {
      "text/plain": [
       "numpy.ndarray"
      ]
     },
     "execution_count": 11,
     "metadata": {},
     "output_type": "execute_result"
    },
    {
     "data": {
      "application/javascript": [
       "\n",
       "            setTimeout(function() {\n",
       "                var nbb_cell_id = 11;\n",
       "                var nbb_unformatted_code = \"type(y)\";\n",
       "                var nbb_formatted_code = \"type(y)\";\n",
       "                var nbb_cells = Jupyter.notebook.get_cells();\n",
       "                for (var i = 0; i < nbb_cells.length; ++i) {\n",
       "                    if (nbb_cells[i].input_prompt_number == nbb_cell_id) {\n",
       "                        if (nbb_cells[i].get_text() == nbb_unformatted_code) {\n",
       "                             nbb_cells[i].set_text(nbb_formatted_code);\n",
       "                        }\n",
       "                        break;\n",
       "                    }\n",
       "                }\n",
       "            }, 500);\n",
       "            "
      ],
      "text/plain": [
       "<IPython.core.display.Javascript object>"
      ]
     },
     "metadata": {},
     "output_type": "display_data"
    }
   ],
   "source": [
    "type(y)"
   ]
  },
  {
   "cell_type": "markdown",
   "metadata": {},
   "source": [
    "We can check the information of the data `X`"
   ]
  },
  {
   "cell_type": "code",
   "execution_count": 12,
   "metadata": {},
   "outputs": [
    {
     "name": "stdout",
     "output_type": "stream",
     "text": [
      "<class 'pandas.core.frame.DataFrame'>\n",
      "RangeIndex: 8902 entries, 0 to 8901\n",
      "Data columns (total 5 columns):\n",
      " #   Column            Non-Null Count  Dtype  \n",
      "---  ------            --------------  -----  \n",
      " 0   DateOfDeparture   8902 non-null   object \n",
      " 1   Departure         8902 non-null   object \n",
      " 2   Arrival           8902 non-null   object \n",
      " 3   WeeksToDeparture  8902 non-null   float64\n",
      " 4   std_wtd           8902 non-null   float64\n",
      "dtypes: float64(2), object(3)\n",
      "memory usage: 347.9+ KB\n"
     ]
    },
    {
     "data": {
      "application/javascript": [
       "\n",
       "            setTimeout(function() {\n",
       "                var nbb_cell_id = 12;\n",
       "                var nbb_unformatted_code = \"X.info()\";\n",
       "                var nbb_formatted_code = \"X.info()\";\n",
       "                var nbb_cells = Jupyter.notebook.get_cells();\n",
       "                for (var i = 0; i < nbb_cells.length; ++i) {\n",
       "                    if (nbb_cells[i].input_prompt_number == nbb_cell_id) {\n",
       "                        if (nbb_cells[i].get_text() == nbb_unformatted_code) {\n",
       "                             nbb_cells[i].set_text(nbb_formatted_code);\n",
       "                        }\n",
       "                        break;\n",
       "                    }\n",
       "                }\n",
       "            }, 500);\n",
       "            "
      ],
      "text/plain": [
       "<IPython.core.display.Javascript object>"
      ]
     },
     "metadata": {},
     "output_type": "display_data"
    }
   ],
   "source": [
    "X.info()"
   ]
  },
  {
   "cell_type": "code",
   "execution_count": 13,
   "metadata": {},
   "outputs": [
    {
     "data": {
      "text/html": [
       "<div>\n",
       "<style scoped>\n",
       "    .dataframe tbody tr th:only-of-type {\n",
       "        vertical-align: middle;\n",
       "    }\n",
       "\n",
       "    .dataframe tbody tr th {\n",
       "        vertical-align: top;\n",
       "    }\n",
       "\n",
       "    .dataframe thead th {\n",
       "        text-align: right;\n",
       "    }\n",
       "</style>\n",
       "<table border=\"1\" class=\"dataframe\">\n",
       "  <thead>\n",
       "    <tr style=\"text-align: right;\">\n",
       "      <th></th>\n",
       "      <th>DateOfDeparture</th>\n",
       "      <th>Departure</th>\n",
       "      <th>Arrival</th>\n",
       "      <th>WeeksToDeparture</th>\n",
       "      <th>std_wtd</th>\n",
       "    </tr>\n",
       "  </thead>\n",
       "  <tbody>\n",
       "    <tr>\n",
       "      <th>0</th>\n",
       "      <td>2012-06-19</td>\n",
       "      <td>ORD</td>\n",
       "      <td>DFW</td>\n",
       "      <td>12.875000</td>\n",
       "      <td>9.812647</td>\n",
       "    </tr>\n",
       "    <tr>\n",
       "      <th>1</th>\n",
       "      <td>2012-09-10</td>\n",
       "      <td>LAS</td>\n",
       "      <td>DEN</td>\n",
       "      <td>14.285714</td>\n",
       "      <td>9.466734</td>\n",
       "    </tr>\n",
       "    <tr>\n",
       "      <th>2</th>\n",
       "      <td>2012-10-05</td>\n",
       "      <td>DEN</td>\n",
       "      <td>LAX</td>\n",
       "      <td>10.863636</td>\n",
       "      <td>9.035883</td>\n",
       "    </tr>\n",
       "    <tr>\n",
       "      <th>3</th>\n",
       "      <td>2011-10-09</td>\n",
       "      <td>ATL</td>\n",
       "      <td>ORD</td>\n",
       "      <td>11.480000</td>\n",
       "      <td>7.990202</td>\n",
       "    </tr>\n",
       "    <tr>\n",
       "      <th>4</th>\n",
       "      <td>2012-02-21</td>\n",
       "      <td>DEN</td>\n",
       "      <td>SFO</td>\n",
       "      <td>11.450000</td>\n",
       "      <td>9.517159</td>\n",
       "    </tr>\n",
       "    <tr>\n",
       "      <th>...</th>\n",
       "      <td>...</td>\n",
       "      <td>...</td>\n",
       "      <td>...</td>\n",
       "      <td>...</td>\n",
       "      <td>...</td>\n",
       "    </tr>\n",
       "    <tr>\n",
       "      <th>8897</th>\n",
       "      <td>2011-10-02</td>\n",
       "      <td>DTW</td>\n",
       "      <td>ATL</td>\n",
       "      <td>9.263158</td>\n",
       "      <td>7.316967</td>\n",
       "    </tr>\n",
       "    <tr>\n",
       "      <th>8898</th>\n",
       "      <td>2012-09-25</td>\n",
       "      <td>DFW</td>\n",
       "      <td>ORD</td>\n",
       "      <td>12.772727</td>\n",
       "      <td>10.641034</td>\n",
       "    </tr>\n",
       "    <tr>\n",
       "      <th>8899</th>\n",
       "      <td>2012-01-19</td>\n",
       "      <td>SFO</td>\n",
       "      <td>LAS</td>\n",
       "      <td>11.047619</td>\n",
       "      <td>7.908705</td>\n",
       "    </tr>\n",
       "    <tr>\n",
       "      <th>8900</th>\n",
       "      <td>2013-02-03</td>\n",
       "      <td>ORD</td>\n",
       "      <td>PHL</td>\n",
       "      <td>6.076923</td>\n",
       "      <td>4.030334</td>\n",
       "    </tr>\n",
       "    <tr>\n",
       "      <th>8901</th>\n",
       "      <td>2011-11-26</td>\n",
       "      <td>DTW</td>\n",
       "      <td>ATL</td>\n",
       "      <td>9.526316</td>\n",
       "      <td>6.167733</td>\n",
       "    </tr>\n",
       "  </tbody>\n",
       "</table>\n",
       "<p>8902 rows × 5 columns</p>\n",
       "</div>"
      ],
      "text/plain": [
       "     DateOfDeparture Departure Arrival  WeeksToDeparture    std_wtd\n",
       "0         2012-06-19       ORD     DFW         12.875000   9.812647\n",
       "1         2012-09-10       LAS     DEN         14.285714   9.466734\n",
       "2         2012-10-05       DEN     LAX         10.863636   9.035883\n",
       "3         2011-10-09       ATL     ORD         11.480000   7.990202\n",
       "4         2012-02-21       DEN     SFO         11.450000   9.517159\n",
       "...              ...       ...     ...               ...        ...\n",
       "8897      2011-10-02       DTW     ATL          9.263158   7.316967\n",
       "8898      2012-09-25       DFW     ORD         12.772727  10.641034\n",
       "8899      2012-01-19       SFO     LAS         11.047619   7.908705\n",
       "8900      2013-02-03       ORD     PHL          6.076923   4.030334\n",
       "8901      2011-11-26       DTW     ATL          9.526316   6.167733\n",
       "\n",
       "[8902 rows x 5 columns]"
      ]
     },
     "execution_count": 13,
     "metadata": {},
     "output_type": "execute_result"
    },
    {
     "data": {
      "application/javascript": [
       "\n",
       "            setTimeout(function() {\n",
       "                var nbb_cell_id = 13;\n",
       "                var nbb_unformatted_code = \"X\";\n",
       "                var nbb_formatted_code = \"X\";\n",
       "                var nbb_cells = Jupyter.notebook.get_cells();\n",
       "                for (var i = 0; i < nbb_cells.length; ++i) {\n",
       "                    if (nbb_cells[i].input_prompt_number == nbb_cell_id) {\n",
       "                        if (nbb_cells[i].get_text() == nbb_unformatted_code) {\n",
       "                             nbb_cells[i].set_text(nbb_formatted_code);\n",
       "                        }\n",
       "                        break;\n",
       "                    }\n",
       "                }\n",
       "            }, 500);\n",
       "            "
      ],
      "text/plain": [
       "<IPython.core.display.Javascript object>"
      ]
     },
     "metadata": {},
     "output_type": "display_data"
    }
   ],
   "source": [
    "X"
   ]
  },
  {
   "cell_type": "code",
   "execution_count": 14,
   "metadata": {},
   "outputs": [
    {
     "data": {
      "text/plain": [
       "array([12.33129622, 10.77518151, 11.08317675, ..., 10.508746  ,\n",
       "       10.17404162,  9.20267425])"
      ]
     },
     "execution_count": 14,
     "metadata": {},
     "output_type": "execute_result"
    },
    {
     "data": {
      "application/javascript": [
       "\n",
       "            setTimeout(function() {\n",
       "                var nbb_cell_id = 14;\n",
       "                var nbb_unformatted_code = \"y\";\n",
       "                var nbb_formatted_code = \"y\";\n",
       "                var nbb_cells = Jupyter.notebook.get_cells();\n",
       "                for (var i = 0; i < nbb_cells.length; ++i) {\n",
       "                    if (nbb_cells[i].input_prompt_number == nbb_cell_id) {\n",
       "                        if (nbb_cells[i].get_text() == nbb_unformatted_code) {\n",
       "                             nbb_cells[i].set_text(nbb_formatted_code);\n",
       "                        }\n",
       "                        break;\n",
       "                    }\n",
       "                }\n",
       "            }, 500);\n",
       "            "
      ],
      "text/plain": [
       "<IPython.core.display.Javascript object>"
      ]
     },
     "metadata": {},
     "output_type": "display_data"
    }
   ],
   "source": [
    "y"
   ]
  },
  {
   "cell_type": "markdown",
   "metadata": {},
   "source": [
    "Thus, this is important to see that `ramp-workflow` does not convert the `DateOfDeparture` column into a `datetime` format. Thus, keep in mind that you might need to make a conversion when prototyping your machine learning pipeline later on. Let's check some statistics regarding our dataset."
   ]
  },
  {
   "cell_type": "code",
   "execution_count": 15,
   "metadata": {},
   "outputs": [
    {
     "name": "stdout",
     "output_type": "stream",
     "text": [
      "2011-09-01\n",
      "2013-03-05\n"
     ]
    },
    {
     "data": {
      "application/javascript": [
       "\n",
       "            setTimeout(function() {\n",
       "                var nbb_cell_id = 15;\n",
       "                var nbb_unformatted_code = \"print(min(X[\\\"DateOfDeparture\\\"]))\\nprint(max(X[\\\"DateOfDeparture\\\"]))\";\n",
       "                var nbb_formatted_code = \"print(min(X[\\\"DateOfDeparture\\\"]))\\nprint(max(X[\\\"DateOfDeparture\\\"]))\";\n",
       "                var nbb_cells = Jupyter.notebook.get_cells();\n",
       "                for (var i = 0; i < nbb_cells.length; ++i) {\n",
       "                    if (nbb_cells[i].input_prompt_number == nbb_cell_id) {\n",
       "                        if (nbb_cells[i].get_text() == nbb_unformatted_code) {\n",
       "                             nbb_cells[i].set_text(nbb_formatted_code);\n",
       "                        }\n",
       "                        break;\n",
       "                    }\n",
       "                }\n",
       "            }, 500);\n",
       "            "
      ],
      "text/plain": [
       "<IPython.core.display.Javascript object>"
      ]
     },
     "metadata": {},
     "output_type": "display_data"
    }
   ],
   "source": [
    "print(min(X[\"DateOfDeparture\"]))\n",
    "print(max(X[\"DateOfDeparture\"]))"
   ]
  },
  {
   "cell_type": "code",
   "execution_count": 16,
   "metadata": {},
   "outputs": [
    {
     "data": {
      "text/plain": [
       "array(['ORD', 'LAS', 'DEN', 'ATL', 'SFO', 'EWR', 'IAH', 'LAX', 'DFW',\n",
       "       'SEA', 'JFK', 'PHL', 'MIA', 'DTW', 'BOS', 'MSP', 'CLT', 'MCO',\n",
       "       'PHX', 'LGA'], dtype=object)"
      ]
     },
     "execution_count": 16,
     "metadata": {},
     "output_type": "execute_result"
    },
    {
     "data": {
      "application/javascript": [
       "\n",
       "            setTimeout(function() {\n",
       "                var nbb_cell_id = 16;\n",
       "                var nbb_unformatted_code = \"X[\\\"Departure\\\"].unique()\";\n",
       "                var nbb_formatted_code = \"X[\\\"Departure\\\"].unique()\";\n",
       "                var nbb_cells = Jupyter.notebook.get_cells();\n",
       "                for (var i = 0; i < nbb_cells.length; ++i) {\n",
       "                    if (nbb_cells[i].input_prompt_number == nbb_cell_id) {\n",
       "                        if (nbb_cells[i].get_text() == nbb_unformatted_code) {\n",
       "                             nbb_cells[i].set_text(nbb_formatted_code);\n",
       "                        }\n",
       "                        break;\n",
       "                    }\n",
       "                }\n",
       "            }, 500);\n",
       "            "
      ],
      "text/plain": [
       "<IPython.core.display.Javascript object>"
      ]
     },
     "metadata": {},
     "output_type": "display_data"
    }
   ],
   "source": [
    "X[\"Departure\"].unique()"
   ]
  },
  {
   "cell_type": "code",
   "execution_count": 17,
   "metadata": {},
   "outputs": [
    {
     "data": {
      "image/png": "[encoded data removed]",
      "text/plain": [
       "<Figure size 432x288 with 1 Axes>"
      ]
     },
     "metadata": {
      "needs_background": "light"
     },
     "output_type": "display_data"
    },
    {
     "data": {
      "application/javascript": [
       "\n",
       "            setTimeout(function() {\n",
       "                var nbb_cell_id = 17;\n",
       "                var nbb_unformatted_code = \"_ = plt.hist(y, bins=50)\";\n",
       "                var nbb_formatted_code = \"_ = plt.hist(y, bins=50)\";\n",
       "                var nbb_cells = Jupyter.notebook.get_cells();\n",
       "                for (var i = 0; i < nbb_cells.length; ++i) {\n",
       "                    if (nbb_cells[i].input_prompt_number == nbb_cell_id) {\n",
       "                        if (nbb_cells[i].get_text() == nbb_unformatted_code) {\n",
       "                             nbb_cells[i].set_text(nbb_formatted_code);\n",
       "                        }\n",
       "                        break;\n",
       "                    }\n",
       "                }\n",
       "            }, 500);\n",
       "            "
      ],
      "text/plain": [
       "<IPython.core.display.Javascript object>"
      ]
     },
     "metadata": {},
     "output_type": "display_data"
    }
   ],
   "source": [
    "_ = plt.hist(y, bins=50)"
   ]
  },
  {
   "cell_type": "code",
   "execution_count": 18,
   "metadata": {},
   "outputs": [
    {
     "data": {
      "image/png": "[encoded data removed]",
      "text/plain": [
       "<Figure size 432x288 with 1 Axes>"
      ]
     },
     "metadata": {
      "needs_background": "light"
     },
     "output_type": "display_data"
    },
    {
     "data": {
      "application/javascript": [
       "\n",
       "            setTimeout(function() {\n",
       "                var nbb_cell_id = 18;\n",
       "                var nbb_unformatted_code = \"_ = X.hist(\\\"std_wtd\\\", bins=50)\";\n",
       "                var nbb_formatted_code = \"_ = X.hist(\\\"std_wtd\\\", bins=50)\";\n",
       "                var nbb_cells = Jupyter.notebook.get_cells();\n",
       "                for (var i = 0; i < nbb_cells.length; ++i) {\n",
       "                    if (nbb_cells[i].input_prompt_number == nbb_cell_id) {\n",
       "                        if (nbb_cells[i].get_text() == nbb_unformatted_code) {\n",
       "                             nbb_cells[i].set_text(nbb_formatted_code);\n",
       "                        }\n",
       "                        break;\n",
       "                    }\n",
       "                }\n",
       "            }, 500);\n",
       "            "
      ],
      "text/plain": [
       "<IPython.core.display.Javascript object>"
      ]
     },
     "metadata": {},
     "output_type": "display_data"
    }
   ],
   "source": [
    "_ = X.hist(\"std_wtd\", bins=50)"
   ]
  },
  {
   "cell_type": "code",
   "execution_count": 19,
   "metadata": {},
   "outputs": [
    {
     "data": {
      "image/png": "[encoded data removed]",
      "text/plain": [
       "<Figure size 432x288 with 1 Axes>"
      ]
     },
     "metadata": {
      "needs_background": "light"
     },
     "output_type": "display_data"
    },
    {
     "data": {
      "application/javascript": [
       "\n",
       "            setTimeout(function() {\n",
       "                var nbb_cell_id = 19;\n",
       "                var nbb_unformatted_code = \"_ = X.hist(\\\"WeeksToDeparture\\\", bins=50)\";\n",
       "                var nbb_formatted_code = \"_ = X.hist(\\\"WeeksToDeparture\\\", bins=50)\";\n",
       "                var nbb_cells = Jupyter.notebook.get_cells();\n",
       "                for (var i = 0; i < nbb_cells.length; ++i) {\n",
       "                    if (nbb_cells[i].input_prompt_number == nbb_cell_id) {\n",
       "                        if (nbb_cells[i].get_text() == nbb_unformatted_code) {\n",
       "                             nbb_cells[i].set_text(nbb_formatted_code);\n",
       "                        }\n",
       "                        break;\n",
       "                    }\n",
       "                }\n",
       "            }, 500);\n",
       "            "
      ],
      "text/plain": [
       "<IPython.core.display.Javascript object>"
      ]
     },
     "metadata": {},
     "output_type": "display_data"
    }
   ],
   "source": [
    "_ = X.hist(\"WeeksToDeparture\", bins=50)"
   ]
  },
  {
   "cell_type": "code",
   "execution_count": 20,
   "metadata": {},
   "outputs": [
    {
     "data": {
      "text/html": [
       "<div>\n",
       "<style scoped>\n",
       "    .dataframe tbody tr th:only-of-type {\n",
       "        vertical-align: middle;\n",
       "    }\n",
       "\n",
       "    .dataframe tbody tr th {\n",
       "        vertical-align: top;\n",
       "    }\n",
       "\n",
       "    .dataframe thead th {\n",
       "        text-align: right;\n",
       "    }\n",
       "</style>\n",
       "<table border=\"1\" class=\"dataframe\">\n",
       "  <thead>\n",
       "    <tr style=\"text-align: right;\">\n",
       "      <th></th>\n",
       "      <th>WeeksToDeparture</th>\n",
       "      <th>std_wtd</th>\n",
       "    </tr>\n",
       "  </thead>\n",
       "  <tbody>\n",
       "    <tr>\n",
       "      <th>count</th>\n",
       "      <td>8902.000000</td>\n",
       "      <td>8902.000000</td>\n",
       "    </tr>\n",
       "    <tr>\n",
       "      <th>mean</th>\n",
       "      <td>11.446469</td>\n",
       "      <td>8.617773</td>\n",
       "    </tr>\n",
       "    <tr>\n",
       "      <th>std</th>\n",
       "      <td>2.787140</td>\n",
       "      <td>2.139604</td>\n",
       "    </tr>\n",
       "    <tr>\n",
       "      <th>min</th>\n",
       "      <td>2.625000</td>\n",
       "      <td>2.160247</td>\n",
       "    </tr>\n",
       "    <tr>\n",
       "      <th>25%</th>\n",
       "      <td>9.523810</td>\n",
       "      <td>7.089538</td>\n",
       "    </tr>\n",
       "    <tr>\n",
       "      <th>50%</th>\n",
       "      <td>11.300000</td>\n",
       "      <td>8.571116</td>\n",
       "    </tr>\n",
       "    <tr>\n",
       "      <th>75%</th>\n",
       "      <td>13.240000</td>\n",
       "      <td>10.140521</td>\n",
       "    </tr>\n",
       "    <tr>\n",
       "      <th>max</th>\n",
       "      <td>23.163265</td>\n",
       "      <td>15.862216</td>\n",
       "    </tr>\n",
       "  </tbody>\n",
       "</table>\n",
       "</div>"
      ],
      "text/plain": [
       "       WeeksToDeparture      std_wtd\n",
       "count       8902.000000  8902.000000\n",
       "mean          11.446469     8.617773\n",
       "std            2.787140     2.139604\n",
       "min            2.625000     2.160247\n",
       "25%            9.523810     7.089538\n",
       "50%           11.300000     8.571116\n",
       "75%           13.240000    10.140521\n",
       "max           23.163265    15.862216"
      ]
     },
     "execution_count": 20,
     "metadata": {},
     "output_type": "execute_result"
    },
    {
     "data": {
      "application/javascript": [
       "\n",
       "            setTimeout(function() {\n",
       "                var nbb_cell_id = 20;\n",
       "                var nbb_unformatted_code = \"X.describe()\";\n",
       "                var nbb_formatted_code = \"X.describe()\";\n",
       "                var nbb_cells = Jupyter.notebook.get_cells();\n",
       "                for (var i = 0; i < nbb_cells.length; ++i) {\n",
       "                    if (nbb_cells[i].input_prompt_number == nbb_cell_id) {\n",
       "                        if (nbb_cells[i].get_text() == nbb_unformatted_code) {\n",
       "                             nbb_cells[i].set_text(nbb_formatted_code);\n",
       "                        }\n",
       "                        break;\n",
       "                    }\n",
       "                }\n",
       "            }, 500);\n",
       "            "
      ],
      "text/plain": [
       "<IPython.core.display.Javascript object>"
      ]
     },
     "metadata": {},
     "output_type": "display_data"
    }
   ],
   "source": [
    "X.describe()"
   ]
  },
  {
   "cell_type": "code",
   "execution_count": 21,
   "metadata": {},
   "outputs": [
    {
     "data": {
      "text/plain": [
       "(8902, 5)"
      ]
     },
     "execution_count": 21,
     "metadata": {},
     "output_type": "execute_result"
    },
    {
     "data": {
      "application/javascript": [
       "\n",
       "            setTimeout(function() {\n",
       "                var nbb_cell_id = 21;\n",
       "                var nbb_unformatted_code = \"X.shape\";\n",
       "                var nbb_formatted_code = \"X.shape\";\n",
       "                var nbb_cells = Jupyter.notebook.get_cells();\n",
       "                for (var i = 0; i < nbb_cells.length; ++i) {\n",
       "                    if (nbb_cells[i].input_prompt_number == nbb_cell_id) {\n",
       "                        if (nbb_cells[i].get_text() == nbb_unformatted_code) {\n",
       "                             nbb_cells[i].set_text(nbb_formatted_code);\n",
       "                        }\n",
       "                        break;\n",
       "                    }\n",
       "                }\n",
       "            }, 500);\n",
       "            "
      ],
      "text/plain": [
       "<IPython.core.display.Javascript object>"
      ]
     },
     "metadata": {},
     "output_type": "display_data"
    }
   ],
   "source": [
    "X.shape"
   ]
  },
  {
   "cell_type": "code",
   "execution_count": 22,
   "metadata": {},
   "outputs": [
    {
     "name": "stdout",
     "output_type": "stream",
     "text": [
      "10.99904767212102\n",
      "0.9938894125318564\n"
     ]
    },
    {
     "data": {
      "application/javascript": [
       "\n",
       "            setTimeout(function() {\n",
       "                var nbb_cell_id = 22;\n",
       "                var nbb_unformatted_code = \"print(y.mean())\\nprint(y.std())\";\n",
       "                var nbb_formatted_code = \"print(y.mean())\\nprint(y.std())\";\n",
       "                var nbb_cells = Jupyter.notebook.get_cells();\n",
       "                for (var i = 0; i < nbb_cells.length; ++i) {\n",
       "                    if (nbb_cells[i].input_prompt_number == nbb_cell_id) {\n",
       "                        if (nbb_cells[i].get_text() == nbb_unformatted_code) {\n",
       "                             nbb_cells[i].set_text(nbb_formatted_code);\n",
       "                        }\n",
       "                        break;\n",
       "                    }\n",
       "                }\n",
       "            }, 500);\n",
       "            "
      ],
      "text/plain": [
       "<IPython.core.display.Javascript object>"
      ]
     },
     "metadata": {},
     "output_type": "display_data"
    }
   ],
   "source": [
    "print(y.mean())\n",
    "print(y.std())"
   ]
  },
  {
   "cell_type": "markdown",
   "metadata": {},
   "source": [
    "## Preprocessing dates"
   ]
  },
  {
   "cell_type": "markdown",
   "metadata": {},
   "source": [
    "Getting dates into numerical columns is a common operation when time series data is analyzed with non-parametric predictors. The code below makes the following transformations:\n",
    "\n",
    "- numerical columns for year (2011-2012), month (1-12), day of the month (1-31), day of the week (0-6), and week of the year (1-52)\n",
    "- number of days since 1970-01-01"
   ]
  },
  {
   "cell_type": "code",
   "execution_count": 23,
   "metadata": {},
   "outputs": [
    {
     "name": "stderr",
     "output_type": "stream",
     "text": [
      "C:\\Users\\benja\\Anaconda3\\lib\\site-packages\\ipykernel_launcher.py:10: FutureWarning: Series.dt.weekofyear and Series.dt.week have been deprecated.  Please use Series.dt.isocalendar().week instead.\n",
      "  # Remove the CWD from sys.path while we load stuff.\n"
     ]
    },
    {
     "data": {
      "application/javascript": [
       "\n",
       "            setTimeout(function() {\n",
       "                var nbb_cell_id = 23;\n",
       "                var nbb_unformatted_code = \"# Make a copy of the original data to avoid writing on the original data\\nX_encoded = X.copy()\\n\\n# following http://stackoverflow.com/questions/16453644/regression-with-date-variable-using-scikit-learn\\nX_encoded[\\\"DateOfDeparture\\\"] = pd.to_datetime(X_encoded[\\\"DateOfDeparture\\\"])\\nX_encoded[\\\"year\\\"] = X_encoded[\\\"DateOfDeparture\\\"].dt.year\\nX_encoded[\\\"month\\\"] = X_encoded[\\\"DateOfDeparture\\\"].dt.month\\nX_encoded[\\\"day\\\"] = X_encoded[\\\"DateOfDeparture\\\"].dt.day\\nX_encoded[\\\"weekday\\\"] = X_encoded[\\\"DateOfDeparture\\\"].dt.weekday\\nX_encoded[\\\"week\\\"] = X_encoded[\\\"DateOfDeparture\\\"].dt.week\\nX_encoded[\\\"n_days\\\"] = X_encoded[\\\"DateOfDeparture\\\"].apply(\\n    lambda date: (date - pd.to_datetime(\\\"1970-01-01\\\")).days\\n)\";\n",
       "                var nbb_formatted_code = \"# Make a copy of the original data to avoid writing on the original data\\nX_encoded = X.copy()\\n\\n# following http://stackoverflow.com/questions/16453644/regression-with-date-variable-using-scikit-learn\\nX_encoded[\\\"DateOfDeparture\\\"] = pd.to_datetime(X_encoded[\\\"DateOfDeparture\\\"])\\nX_encoded[\\\"year\\\"] = X_encoded[\\\"DateOfDeparture\\\"].dt.year\\nX_encoded[\\\"month\\\"] = X_encoded[\\\"DateOfDeparture\\\"].dt.month\\nX_encoded[\\\"day\\\"] = X_encoded[\\\"DateOfDeparture\\\"].dt.day\\nX_encoded[\\\"weekday\\\"] = X_encoded[\\\"DateOfDeparture\\\"].dt.weekday\\nX_encoded[\\\"week\\\"] = X_encoded[\\\"DateOfDeparture\\\"].dt.week\\nX_encoded[\\\"n_days\\\"] = X_encoded[\\\"DateOfDeparture\\\"].apply(\\n    lambda date: (date - pd.to_datetime(\\\"1970-01-01\\\")).days\\n)\";\n",
       "                var nbb_cells = Jupyter.notebook.get_cells();\n",
       "                for (var i = 0; i < nbb_cells.length; ++i) {\n",
       "                    if (nbb_cells[i].input_prompt_number == nbb_cell_id) {\n",
       "                        if (nbb_cells[i].get_text() == nbb_unformatted_code) {\n",
       "                             nbb_cells[i].set_text(nbb_formatted_code);\n",
       "                        }\n",
       "                        break;\n",
       "                    }\n",
       "                }\n",
       "            }, 500);\n",
       "            "
      ],
      "text/plain": [
       "<IPython.core.display.Javascript object>"
      ]
     },
     "metadata": {},
     "output_type": "display_data"
    }
   ],
   "source": [
    "# Make a copy of the original data to avoid writing on the original data\n",
    "X_encoded = X.copy()\n",
    "\n",
    "# following http://stackoverflow.com/questions/16453644/regression-with-date-variable-using-scikit-learn\n",
    "X_encoded[\"DateOfDeparture\"] = pd.to_datetime(X_encoded[\"DateOfDeparture\"])\n",
    "X_encoded[\"year\"] = X_encoded[\"DateOfDeparture\"].dt.year\n",
    "X_encoded[\"month\"] = X_encoded[\"DateOfDeparture\"].dt.month\n",
    "X_encoded[\"day\"] = X_encoded[\"DateOfDeparture\"].dt.day\n",
    "X_encoded[\"weekday\"] = X_encoded[\"DateOfDeparture\"].dt.weekday\n",
    "X_encoded[\"week\"] = X_encoded[\"DateOfDeparture\"].dt.week\n",
    "X_encoded[\"n_days\"] = X_encoded[\"DateOfDeparture\"].apply(\n",
    "    lambda date: (date - pd.to_datetime(\"1970-01-01\")).days\n",
    ")"
   ]
  },
  {
   "cell_type": "code",
   "execution_count": 24,
   "metadata": {},
   "outputs": [
    {
     "data": {
      "text/html": [
       "<div>\n",
       "<style scoped>\n",
       "    .dataframe tbody tr th:only-of-type {\n",
       "        vertical-align: middle;\n",
       "    }\n",
       "\n",
       "    .dataframe tbody tr th {\n",
       "        vertical-align: top;\n",
       "    }\n",
       "\n",
       "    .dataframe thead th {\n",
       "        text-align: right;\n",
       "    }\n",
       "</style>\n",
       "<table border=\"1\" class=\"dataframe\">\n",
       "  <thead>\n",
       "    <tr style=\"text-align: right;\">\n",
       "      <th></th>\n",
       "      <th>DateOfDeparture</th>\n",
       "      <th>Departure</th>\n",
       "      <th>Arrival</th>\n",
       "      <th>WeeksToDeparture</th>\n",
       "      <th>std_wtd</th>\n",
       "      <th>year</th>\n",
       "      <th>month</th>\n",
       "      <th>day</th>\n",
       "      <th>weekday</th>\n",
       "      <th>week</th>\n",
       "      <th>n_days</th>\n",
       "    </tr>\n",
       "  </thead>\n",
       "  <tbody>\n",
       "    <tr>\n",
       "      <th>8897</th>\n",
       "      <td>2011-10-02</td>\n",
       "      <td>DTW</td>\n",
       "      <td>ATL</td>\n",
       "      <td>9.263158</td>\n",
       "      <td>7.316967</td>\n",
       "      <td>2011</td>\n",
       "      <td>10</td>\n",
       "      <td>2</td>\n",
       "      <td>6</td>\n",
       "      <td>39</td>\n",
       "      <td>15249</td>\n",
       "    </tr>\n",
       "    <tr>\n",
       "      <th>8898</th>\n",
       "      <td>2012-09-25</td>\n",
       "      <td>DFW</td>\n",
       "      <td>ORD</td>\n",
       "      <td>12.772727</td>\n",
       "      <td>10.641034</td>\n",
       "      <td>2012</td>\n",
       "      <td>9</td>\n",
       "      <td>25</td>\n",
       "      <td>1</td>\n",
       "      <td>39</td>\n",
       "      <td>15608</td>\n",
       "    </tr>\n",
       "    <tr>\n",
       "      <th>8899</th>\n",
       "      <td>2012-01-19</td>\n",
       "      <td>SFO</td>\n",
       "      <td>LAS</td>\n",
       "      <td>11.047619</td>\n",
       "      <td>7.908705</td>\n",
       "      <td>2012</td>\n",
       "      <td>1</td>\n",
       "      <td>19</td>\n",
       "      <td>3</td>\n",
       "      <td>3</td>\n",
       "      <td>15358</td>\n",
       "    </tr>\n",
       "    <tr>\n",
       "      <th>8900</th>\n",
       "      <td>2013-02-03</td>\n",
       "      <td>ORD</td>\n",
       "      <td>PHL</td>\n",
       "      <td>6.076923</td>\n",
       "      <td>4.030334</td>\n",
       "      <td>2013</td>\n",
       "      <td>2</td>\n",
       "      <td>3</td>\n",
       "      <td>6</td>\n",
       "      <td>5</td>\n",
       "      <td>15739</td>\n",
       "    </tr>\n",
       "    <tr>\n",
       "      <th>8901</th>\n",
       "      <td>2011-11-26</td>\n",
       "      <td>DTW</td>\n",
       "      <td>ATL</td>\n",
       "      <td>9.526316</td>\n",
       "      <td>6.167733</td>\n",
       "      <td>2011</td>\n",
       "      <td>11</td>\n",
       "      <td>26</td>\n",
       "      <td>5</td>\n",
       "      <td>47</td>\n",
       "      <td>15304</td>\n",
       "    </tr>\n",
       "  </tbody>\n",
       "</table>\n",
       "</div>"
      ],
      "text/plain": [
       "     DateOfDeparture Departure Arrival  WeeksToDeparture    std_wtd  year  \\\n",
       "8897      2011-10-02       DTW     ATL          9.263158   7.316967  2011   \n",
       "8898      2012-09-25       DFW     ORD         12.772727  10.641034  2012   \n",
       "8899      2012-01-19       SFO     LAS         11.047619   7.908705  2012   \n",
       "8900      2013-02-03       ORD     PHL          6.076923   4.030334  2013   \n",
       "8901      2011-11-26       DTW     ATL          9.526316   6.167733  2011   \n",
       "\n",
       "      month  day  weekday  week  n_days  \n",
       "8897     10    2        6    39   15249  \n",
       "8898      9   25        1    39   15608  \n",
       "8899      1   19        3     3   15358  \n",
       "8900      2    3        6     5   15739  \n",
       "8901     11   26        5    47   15304  "
      ]
     },
     "execution_count": 24,
     "metadata": {},
     "output_type": "execute_result"
    },
    {
     "data": {
      "application/javascript": [
       "\n",
       "            setTimeout(function() {\n",
       "                var nbb_cell_id = 24;\n",
       "                var nbb_unformatted_code = \"X_encoded.tail(5)\";\n",
       "                var nbb_formatted_code = \"X_encoded.tail(5)\";\n",
       "                var nbb_cells = Jupyter.notebook.get_cells();\n",
       "                for (var i = 0; i < nbb_cells.length; ++i) {\n",
       "                    if (nbb_cells[i].input_prompt_number == nbb_cell_id) {\n",
       "                        if (nbb_cells[i].get_text() == nbb_unformatted_code) {\n",
       "                             nbb_cells[i].set_text(nbb_formatted_code);\n",
       "                        }\n",
       "                        break;\n",
       "                    }\n",
       "                }\n",
       "            }, 500);\n",
       "            "
      ],
      "text/plain": [
       "<IPython.core.display.Javascript object>"
      ]
     },
     "metadata": {},
     "output_type": "display_data"
    }
   ],
   "source": [
    "X_encoded.tail(5)"
   ]
  },
  {
   "cell_type": "markdown",
   "metadata": {},
   "source": [
    "We will perform all preprocessing steps within a scikit-learn [pipeline](https://scikit-learn.org/stable/modules/compose.html) which chains together tranformation and estimator steps. This offers offers convenience and safety (help avoid leaking statistics from your test data into the trained model in cross-validation) and the whole pipeline can be evaluated with `cross_val_score`.\n",
    "\n",
    "To perform the above encoding within a scikit-learn [pipeline](https://scikit-learn.org/stable/modules/compose.html) we will a function and using `FunctionTransformer` to make it compatible with scikit-learn API."
   ]
  },
  {
   "cell_type": "code",
   "execution_count": 25,
   "metadata": {},
   "outputs": [
    {
     "data": {
      "application/javascript": [
       "\n",
       "            setTimeout(function() {\n",
       "                var nbb_cell_id = 25;\n",
       "                var nbb_unformatted_code = \"from sklearn.preprocessing import FunctionTransformer\\n\\n\\ndef _encode_dates(X):\\n    # With pandas < 1.0, we wil get a SettingWithCopyWarning\\n    # In our case, we will avoid this warning by triggering a copy\\n    # More information can be found at:\\n    # https://github.com/scikit-learn/scikit-learn/issues/16191\\n    X_encoded = X.copy()\\n\\n    # Make sure that DateOfDeparture is of datetime format\\n    X_encoded.loc[:, \\\"DateOfDeparture\\\"] = pd.to_datetime(X_encoded[\\\"DateOfDeparture\\\"])\\n    # Encode the DateOfDeparture\\n    X_encoded.loc[:, \\\"year\\\"] = X_encoded[\\\"DateOfDeparture\\\"].dt.year\\n    X_encoded.loc[:, \\\"month\\\"] = X_encoded[\\\"DateOfDeparture\\\"].dt.month\\n    X_encoded.loc[:, \\\"day\\\"] = X_encoded[\\\"DateOfDeparture\\\"].dt.day\\n    X_encoded.loc[:, \\\"weekday\\\"] = X_encoded[\\\"DateOfDeparture\\\"].dt.weekday\\n    X_encoded.loc[:, \\\"week\\\"] = X_encoded[\\\"DateOfDeparture\\\"].dt.week\\n    X_encoded.loc[:, \\\"n_days\\\"] = X_encoded[\\\"DateOfDeparture\\\"].apply(\\n        lambda date: (date - pd.to_datetime(\\\"1970-01-01\\\")).days\\n    )\\n    # Once we did the encoding, we will not need DateOfDeparture\\n    return X_encoded.drop(columns=[\\\"DateOfDeparture\\\"])\\n\\n\\ndate_encoder = FunctionTransformer(_encode_dates)\";\n",
       "                var nbb_formatted_code = \"from sklearn.preprocessing import FunctionTransformer\\n\\n\\ndef _encode_dates(X):\\n    # With pandas < 1.0, we wil get a SettingWithCopyWarning\\n    # In our case, we will avoid this warning by triggering a copy\\n    # More information can be found at:\\n    # https://github.com/scikit-learn/scikit-learn/issues/16191\\n    X_encoded = X.copy()\\n\\n    # Make sure that DateOfDeparture is of datetime format\\n    X_encoded.loc[:, \\\"DateOfDeparture\\\"] = pd.to_datetime(X_encoded[\\\"DateOfDeparture\\\"])\\n    # Encode the DateOfDeparture\\n    X_encoded.loc[:, \\\"year\\\"] = X_encoded[\\\"DateOfDeparture\\\"].dt.year\\n    X_encoded.loc[:, \\\"month\\\"] = X_encoded[\\\"DateOfDeparture\\\"].dt.month\\n    X_encoded.loc[:, \\\"day\\\"] = X_encoded[\\\"DateOfDeparture\\\"].dt.day\\n    X_encoded.loc[:, \\\"weekday\\\"] = X_encoded[\\\"DateOfDeparture\\\"].dt.weekday\\n    X_encoded.loc[:, \\\"week\\\"] = X_encoded[\\\"DateOfDeparture\\\"].dt.week\\n    X_encoded.loc[:, \\\"n_days\\\"] = X_encoded[\\\"DateOfDeparture\\\"].apply(\\n        lambda date: (date - pd.to_datetime(\\\"1970-01-01\\\")).days\\n    )\\n    # Once we did the encoding, we will not need DateOfDeparture\\n    return X_encoded.drop(columns=[\\\"DateOfDeparture\\\"])\\n\\n\\ndate_encoder = FunctionTransformer(_encode_dates)\";\n",
       "                var nbb_cells = Jupyter.notebook.get_cells();\n",
       "                for (var i = 0; i < nbb_cells.length; ++i) {\n",
       "                    if (nbb_cells[i].input_prompt_number == nbb_cell_id) {\n",
       "                        if (nbb_cells[i].get_text() == nbb_unformatted_code) {\n",
       "                             nbb_cells[i].set_text(nbb_formatted_code);\n",
       "                        }\n",
       "                        break;\n",
       "                    }\n",
       "                }\n",
       "            }, 500);\n",
       "            "
      ],
      "text/plain": [
       "<IPython.core.display.Javascript object>"
      ]
     },
     "metadata": {},
     "output_type": "display_data"
    }
   ],
   "source": [
    "from sklearn.preprocessing import FunctionTransformer\n",
    "\n",
    "\n",
    "def _encode_dates(X):\n",
    "    # With pandas < 1.0, we wil get a SettingWithCopyWarning\n",
    "    # In our case, we will avoid this warning by triggering a copy\n",
    "    # More information can be found at:\n",
    "    # https://github.com/scikit-learn/scikit-learn/issues/16191\n",
    "    X_encoded = X.copy()\n",
    "\n",
    "    # Make sure that DateOfDeparture is of datetime format\n",
    "    X_encoded.loc[:, \"DateOfDeparture\"] = pd.to_datetime(X_encoded[\"DateOfDeparture\"])\n",
    "    # Encode the DateOfDeparture\n",
    "    X_encoded.loc[:, \"year\"] = X_encoded[\"DateOfDeparture\"].dt.year\n",
    "    X_encoded.loc[:, \"month\"] = X_encoded[\"DateOfDeparture\"].dt.month\n",
    "    X_encoded.loc[:, \"day\"] = X_encoded[\"DateOfDeparture\"].dt.day\n",
    "    X_encoded.loc[:, \"weekday\"] = X_encoded[\"DateOfDeparture\"].dt.weekday\n",
    "    X_encoded.loc[:, \"week\"] = X_encoded[\"DateOfDeparture\"].dt.week\n",
    "    X_encoded.loc[:, \"n_days\"] = X_encoded[\"DateOfDeparture\"].apply(\n",
    "        lambda date: (date - pd.to_datetime(\"1970-01-01\")).days\n",
    "    )\n",
    "    # Once we did the encoding, we will not need DateOfDeparture\n",
    "    return X_encoded.drop(columns=[\"DateOfDeparture\"])\n",
    "\n",
    "\n",
    "date_encoder = FunctionTransformer(_encode_dates)"
   ]
  },
  {
   "cell_type": "code",
   "execution_count": 26,
   "metadata": {},
   "outputs": [
    {
     "name": "stderr",
     "output_type": "stream",
     "text": [
      "C:\\Users\\benja\\Anaconda3\\lib\\site-packages\\ipykernel_launcher.py:18: FutureWarning: Series.dt.weekofyear and Series.dt.week have been deprecated.  Please use Series.dt.isocalendar().week instead.\n"
     ]
    },
    {
     "data": {
      "text/html": [
       "<div>\n",
       "<style scoped>\n",
       "    .dataframe tbody tr th:only-of-type {\n",
       "        vertical-align: middle;\n",
       "    }\n",
       "\n",
       "    .dataframe tbody tr th {\n",
       "        vertical-align: top;\n",
       "    }\n",
       "\n",
       "    .dataframe thead th {\n",
       "        text-align: right;\n",
       "    }\n",
       "</style>\n",
       "<table border=\"1\" class=\"dataframe\">\n",
       "  <thead>\n",
       "    <tr style=\"text-align: right;\">\n",
       "      <th></th>\n",
       "      <th>Departure</th>\n",
       "      <th>Arrival</th>\n",
       "      <th>WeeksToDeparture</th>\n",
       "      <th>std_wtd</th>\n",
       "      <th>year</th>\n",
       "      <th>month</th>\n",
       "      <th>day</th>\n",
       "      <th>weekday</th>\n",
       "      <th>week</th>\n",
       "      <th>n_days</th>\n",
       "    </tr>\n",
       "  </thead>\n",
       "  <tbody>\n",
       "    <tr>\n",
       "      <th>0</th>\n",
       "      <td>ORD</td>\n",
       "      <td>DFW</td>\n",
       "      <td>12.875000</td>\n",
       "      <td>9.812647</td>\n",
       "      <td>2012</td>\n",
       "      <td>6</td>\n",
       "      <td>19</td>\n",
       "      <td>1</td>\n",
       "      <td>25</td>\n",
       "      <td>15510</td>\n",
       "    </tr>\n",
       "    <tr>\n",
       "      <th>1</th>\n",
       "      <td>LAS</td>\n",
       "      <td>DEN</td>\n",
       "      <td>14.285714</td>\n",
       "      <td>9.466734</td>\n",
       "      <td>2012</td>\n",
       "      <td>9</td>\n",
       "      <td>10</td>\n",
       "      <td>0</td>\n",
       "      <td>37</td>\n",
       "      <td>15593</td>\n",
       "    </tr>\n",
       "    <tr>\n",
       "      <th>2</th>\n",
       "      <td>DEN</td>\n",
       "      <td>LAX</td>\n",
       "      <td>10.863636</td>\n",
       "      <td>9.035883</td>\n",
       "      <td>2012</td>\n",
       "      <td>10</td>\n",
       "      <td>5</td>\n",
       "      <td>4</td>\n",
       "      <td>40</td>\n",
       "      <td>15618</td>\n",
       "    </tr>\n",
       "    <tr>\n",
       "      <th>3</th>\n",
       "      <td>ATL</td>\n",
       "      <td>ORD</td>\n",
       "      <td>11.480000</td>\n",
       "      <td>7.990202</td>\n",
       "      <td>2011</td>\n",
       "      <td>10</td>\n",
       "      <td>9</td>\n",
       "      <td>6</td>\n",
       "      <td>40</td>\n",
       "      <td>15256</td>\n",
       "    </tr>\n",
       "    <tr>\n",
       "      <th>4</th>\n",
       "      <td>DEN</td>\n",
       "      <td>SFO</td>\n",
       "      <td>11.450000</td>\n",
       "      <td>9.517159</td>\n",
       "      <td>2012</td>\n",
       "      <td>2</td>\n",
       "      <td>21</td>\n",
       "      <td>1</td>\n",
       "      <td>8</td>\n",
       "      <td>15391</td>\n",
       "    </tr>\n",
       "  </tbody>\n",
       "</table>\n",
       "</div>"
      ],
      "text/plain": [
       "  Departure Arrival  WeeksToDeparture   std_wtd  year  month  day  weekday  \\\n",
       "0       ORD     DFW         12.875000  9.812647  2012      6   19        1   \n",
       "1       LAS     DEN         14.285714  9.466734  2012      9   10        0   \n",
       "2       DEN     LAX         10.863636  9.035883  2012     10    5        4   \n",
       "3       ATL     ORD         11.480000  7.990202  2011     10    9        6   \n",
       "4       DEN     SFO         11.450000  9.517159  2012      2   21        1   \n",
       "\n",
       "   week  n_days  \n",
       "0    25   15510  \n",
       "1    37   15593  \n",
       "2    40   15618  \n",
       "3    40   15256  \n",
       "4     8   15391  "
      ]
     },
     "execution_count": 26,
     "metadata": {},
     "output_type": "execute_result"
    },
    {
     "data": {
      "application/javascript": [
       "\n",
       "            setTimeout(function() {\n",
       "                var nbb_cell_id = 26;\n",
       "                var nbb_unformatted_code = \"date_encoder.fit_transform(X).head()\";\n",
       "                var nbb_formatted_code = \"date_encoder.fit_transform(X).head()\";\n",
       "                var nbb_cells = Jupyter.notebook.get_cells();\n",
       "                for (var i = 0; i < nbb_cells.length; ++i) {\n",
       "                    if (nbb_cells[i].input_prompt_number == nbb_cell_id) {\n",
       "                        if (nbb_cells[i].get_text() == nbb_unformatted_code) {\n",
       "                             nbb_cells[i].set_text(nbb_formatted_code);\n",
       "                        }\n",
       "                        break;\n",
       "                    }\n",
       "                }\n",
       "            }, 500);\n",
       "            "
      ],
      "text/plain": [
       "<IPython.core.display.Javascript object>"
      ]
     },
     "metadata": {},
     "output_type": "display_data"
    }
   ],
   "source": [
    "date_encoder.fit_transform(X).head()"
   ]
  },
  {
   "cell_type": "markdown",
   "metadata": {},
   "source": [
    "## Random Forests"
   ]
  },
  {
   "cell_type": "markdown",
   "metadata": {},
   "source": [
    "Tree-based algorithms requires less complex preprocessing than linear-models. We will first present a machine-learning pipeline where we will use a random forest. In this pipeline, we will need to:\n",
    "\n",
    "- encode the date to numerical values (as presented in the section above);\n",
    "- oridinal encode the other categorical values to get numerical number;\n",
    "- keep numerical features as they are.\n",
    "\n",
    "Thus, we want to perform three different processes on different columns of the original data `X`. In scikit-learn, we can use [`make_column_transformer`](https://scikit-learn.org/stable/modules/generated/sklearn.compose.make_column_transformer.html) to perform such processing."
   ]
  },
  {
   "cell_type": "code",
   "execution_count": 27,
   "metadata": {},
   "outputs": [
    {
     "data": {
      "application/javascript": [
       "\n",
       "            setTimeout(function() {\n",
       "                var nbb_cell_id = 27;\n",
       "                var nbb_unformatted_code = \"from sklearn.preprocessing import OrdinalEncoder\\nfrom sklearn.compose import make_column_transformer\\n\\ndate_encoder = FunctionTransformer(_encode_dates)\\ndate_cols = [\\\"DateOfDeparture\\\"]\\n\\ncategorical_encoder = OrdinalEncoder()\\ncategorical_cols = [\\\"Arrival\\\", \\\"Departure\\\"]\\n\\npreprocessor = make_column_transformer(\\n    (date_encoder, date_cols),\\n    (categorical_encoder, categorical_cols),\\n    remainder=\\\"passthrough\\\",  # passthrough numerical columns as they are\\n)\";\n",
       "                var nbb_formatted_code = \"from sklearn.preprocessing import OrdinalEncoder\\nfrom sklearn.compose import make_column_transformer\\n\\ndate_encoder = FunctionTransformer(_encode_dates)\\ndate_cols = [\\\"DateOfDeparture\\\"]\\n\\ncategorical_encoder = OrdinalEncoder()\\ncategorical_cols = [\\\"Arrival\\\", \\\"Departure\\\"]\\n\\npreprocessor = make_column_transformer(\\n    (date_encoder, date_cols),\\n    (categorical_encoder, categorical_cols),\\n    remainder=\\\"passthrough\\\",  # passthrough numerical columns as they are\\n)\";\n",
       "                var nbb_cells = Jupyter.notebook.get_cells();\n",
       "                for (var i = 0; i < nbb_cells.length; ++i) {\n",
       "                    if (nbb_cells[i].input_prompt_number == nbb_cell_id) {\n",
       "                        if (nbb_cells[i].get_text() == nbb_unformatted_code) {\n",
       "                             nbb_cells[i].set_text(nbb_formatted_code);\n",
       "                        }\n",
       "                        break;\n",
       "                    }\n",
       "                }\n",
       "            }, 500);\n",
       "            "
      ],
      "text/plain": [
       "<IPython.core.display.Javascript object>"
      ]
     },
     "metadata": {},
     "output_type": "display_data"
    }
   ],
   "source": [
    "from sklearn.preprocessing import OrdinalEncoder\n",
    "from sklearn.compose import make_column_transformer\n",
    "\n",
    "date_encoder = FunctionTransformer(_encode_dates)\n",
    "date_cols = [\"DateOfDeparture\"]\n",
    "\n",
    "categorical_encoder = OrdinalEncoder()\n",
    "categorical_cols = [\"Arrival\", \"Departure\"]\n",
    "\n",
    "preprocessor = make_column_transformer(\n",
    "    (date_encoder, date_cols),\n",
    "    (categorical_encoder, categorical_cols),\n",
    "    remainder=\"passthrough\",  # passthrough numerical columns as they are\n",
    ")"
   ]
  },
  {
   "cell_type": "markdown",
   "metadata": {},
   "source": [
    "We can combine our preprocessor with an estimator (`RandomForestRegressor` in this case), allowing us to make predictions."
   ]
  },
  {
   "cell_type": "code",
   "execution_count": 28,
   "metadata": {},
   "outputs": [
    {
     "data": {
      "application/javascript": [
       "\n",
       "            setTimeout(function() {\n",
       "                var nbb_cell_id = 28;\n",
       "                var nbb_unformatted_code = \"from sklearn.ensemble import RandomForestRegressor\\nfrom sklearn.pipeline import make_pipeline\\n\\nn_estimators = 10\\nmax_depth = 10\\nmax_features = 10\\n\\nregressor = RandomForestRegressor(\\n    n_estimators=n_estimators, max_depth=max_depth, max_features=max_features\\n)\\n\\npipeline = make_pipeline(preprocessor, regressor)\";\n",
       "                var nbb_formatted_code = \"from sklearn.ensemble import RandomForestRegressor\\nfrom sklearn.pipeline import make_pipeline\\n\\nn_estimators = 10\\nmax_depth = 10\\nmax_features = 10\\n\\nregressor = RandomForestRegressor(\\n    n_estimators=n_estimators, max_depth=max_depth, max_features=max_features\\n)\\n\\npipeline = make_pipeline(preprocessor, regressor)\";\n",
       "                var nbb_cells = Jupyter.notebook.get_cells();\n",
       "                for (var i = 0; i < nbb_cells.length; ++i) {\n",
       "                    if (nbb_cells[i].input_prompt_number == nbb_cell_id) {\n",
       "                        if (nbb_cells[i].get_text() == nbb_unformatted_code) {\n",
       "                             nbb_cells[i].set_text(nbb_formatted_code);\n",
       "                        }\n",
       "                        break;\n",
       "                    }\n",
       "                }\n",
       "            }, 500);\n",
       "            "
      ],
      "text/plain": [
       "<IPython.core.display.Javascript object>"
      ]
     },
     "metadata": {},
     "output_type": "display_data"
    }
   ],
   "source": [
    "from sklearn.ensemble import RandomForestRegressor\n",
    "from sklearn.pipeline import make_pipeline\n",
    "\n",
    "n_estimators = 10\n",
    "max_depth = 10\n",
    "max_features = 10\n",
    "\n",
    "regressor = RandomForestRegressor(\n",
    "    n_estimators=n_estimators, max_depth=max_depth, max_features=max_features\n",
    ")\n",
    "\n",
    "pipeline = make_pipeline(preprocessor, regressor)"
   ]
  },
  {
   "cell_type": "markdown",
   "metadata": {},
   "source": [
    "We can cross-validate our `pipeline` using `cross_val_score`. Below we will have specified `cv=5` meaning KFold cross-valdiation splitting will be used, with 8 folds. The mean squared error regression loss is calculated for each split. The output `score` will be an array of 5 scores from each KFold. The score mean and standard deviation of the 5 scores is printed at the end."
   ]
  },
  {
   "cell_type": "code",
   "execution_count": 29,
   "metadata": {},
   "outputs": [
    {
     "name": "stderr",
     "output_type": "stream",
     "text": [
      "C:\\Users\\benja\\Anaconda3\\lib\\site-packages\\ipykernel_launcher.py:18: FutureWarning: Series.dt.weekofyear and Series.dt.week have been deprecated.  Please use Series.dt.isocalendar().week instead.\n",
      "C:\\Users\\benja\\Anaconda3\\lib\\site-packages\\ipykernel_launcher.py:18: FutureWarning: Series.dt.weekofyear and Series.dt.week have been deprecated.  Please use Series.dt.isocalendar().week instead.\n",
      "C:\\Users\\benja\\Anaconda3\\lib\\site-packages\\ipykernel_launcher.py:18: FutureWarning: Series.dt.weekofyear and Series.dt.week have been deprecated.  Please use Series.dt.isocalendar().week instead.\n",
      "C:\\Users\\benja\\Anaconda3\\lib\\site-packages\\ipykernel_launcher.py:18: FutureWarning: Series.dt.weekofyear and Series.dt.week have been deprecated.  Please use Series.dt.isocalendar().week instead.\n",
      "C:\\Users\\benja\\Anaconda3\\lib\\site-packages\\ipykernel_launcher.py:18: FutureWarning: Series.dt.weekofyear and Series.dt.week have been deprecated.  Please use Series.dt.isocalendar().week instead.\n",
      "C:\\Users\\benja\\Anaconda3\\lib\\site-packages\\ipykernel_launcher.py:18: FutureWarning: Series.dt.weekofyear and Series.dt.week have been deprecated.  Please use Series.dt.isocalendar().week instead.\n",
      "C:\\Users\\benja\\Anaconda3\\lib\\site-packages\\ipykernel_launcher.py:18: FutureWarning: Series.dt.weekofyear and Series.dt.week have been deprecated.  Please use Series.dt.isocalendar().week instead.\n",
      "C:\\Users\\benja\\Anaconda3\\lib\\site-packages\\ipykernel_launcher.py:18: FutureWarning: Series.dt.weekofyear and Series.dt.week have been deprecated.  Please use Series.dt.isocalendar().week instead.\n",
      "C:\\Users\\benja\\Anaconda3\\lib\\site-packages\\ipykernel_launcher.py:18: FutureWarning: Series.dt.weekofyear and Series.dt.week have been deprecated.  Please use Series.dt.isocalendar().week instead.\n",
      "C:\\Users\\benja\\Anaconda3\\lib\\site-packages\\ipykernel_launcher.py:18: FutureWarning: Series.dt.weekofyear and Series.dt.week have been deprecated.  Please use Series.dt.isocalendar().week instead.\n"
     ]
    },
    {
     "name": "stdout",
     "output_type": "stream",
     "text": [
      "RMSE: 0.6311 +/- 0.0158\n"
     ]
    },
    {
     "data": {
      "application/javascript": [
       "\n",
       "            setTimeout(function() {\n",
       "                var nbb_cell_id = 29;\n",
       "                var nbb_unformatted_code = \"from sklearn.model_selection import cross_val_score\\n\\nscores = cross_val_score(pipeline, X, y, cv=5, scoring=\\\"neg_mean_squared_error\\\")\\nrmse_scores = np.sqrt(-scores)\\n\\nprint(f\\\"RMSE: {np.mean(rmse_scores):.4f} +/- {np.std(rmse_scores):.4f}\\\")\";\n",
       "                var nbb_formatted_code = \"from sklearn.model_selection import cross_val_score\\n\\nscores = cross_val_score(pipeline, X, y, cv=5, scoring=\\\"neg_mean_squared_error\\\")\\nrmse_scores = np.sqrt(-scores)\\n\\nprint(f\\\"RMSE: {np.mean(rmse_scores):.4f} +/- {np.std(rmse_scores):.4f}\\\")\";\n",
       "                var nbb_cells = Jupyter.notebook.get_cells();\n",
       "                for (var i = 0; i < nbb_cells.length; ++i) {\n",
       "                    if (nbb_cells[i].input_prompt_number == nbb_cell_id) {\n",
       "                        if (nbb_cells[i].get_text() == nbb_unformatted_code) {\n",
       "                             nbb_cells[i].set_text(nbb_formatted_code);\n",
       "                        }\n",
       "                        break;\n",
       "                    }\n",
       "                }\n",
       "            }, 500);\n",
       "            "
      ],
      "text/plain": [
       "<IPython.core.display.Javascript object>"
      ]
     },
     "metadata": {},
     "output_type": "display_data"
    }
   ],
   "source": [
    "from sklearn.model_selection import cross_val_score\n",
    "\n",
    "scores = cross_val_score(pipeline, X, y, cv=5, scoring=\"neg_mean_squared_error\")\n",
    "rmse_scores = np.sqrt(-scores)\n",
    "\n",
    "print(f\"RMSE: {np.mean(rmse_scores):.4f} +/- {np.std(rmse_scores):.4f}\")"
   ]
  },
  {
   "cell_type": "code",
   "execution_count": 30,
   "metadata": {},
   "outputs": [
    {
     "name": "stderr",
     "output_type": "stream",
     "text": [
      "C:\\Users\\benja\\Anaconda3\\lib\\site-packages\\ipykernel_launcher.py:18: FutureWarning: Series.dt.weekofyear and Series.dt.week have been deprecated.  Please use Series.dt.isocalendar().week instead.\n"
     ]
    },
    {
     "data": {
      "text/plain": [
       "GridSearchCV(cv=5,\n",
       "             estimator=Pipeline(steps=[('prep',\n",
       "                                        ColumnTransformer(remainder='passthrough',\n",
       "                                                          transformers=[('functiontransformer',\n",
       "                                                                         FunctionTransformer(func=<function _encode_dates at 0x00000185E50BA438>),\n",
       "                                                                         ['DateOfDeparture']),\n",
       "                                                                        ('ordinalencoder',\n",
       "                                                                         OrdinalEncoder(),\n",
       "                                                                         ['Arrival',\n",
       "                                                                          'Departure'])])),\n",
       "                                       ('rf', RandomForestRegressor())]),\n",
       "             n_jobs=-1,\n",
       "             param_grid={'rf__max_depth': [1, 5, 10],\n",
       "                         'rf__max_features': [2, 5, 7, 10],\n",
       "                         'rf__n_estimators': [5, 10]},\n",
       "             scoring='neg_mean_absolute_error')"
      ]
     },
     "execution_count": 30,
     "metadata": {},
     "output_type": "execute_result"
    },
    {
     "data": {
      "application/javascript": [
       "\n",
       "            setTimeout(function() {\n",
       "                var nbb_cell_id = 30;\n",
       "                var nbb_unformatted_code = \"from sklearn.model_selection import GridSearchCV\\nfrom sklearn.pipeline import Pipeline\\n\\nparam_grid = {\\n    \\\"rf__n_estimators\\\": [5, 10],\\n    \\\"rf__max_depth\\\": [1, 5, 10],\\n    \\\"rf__max_features\\\": [2, 5, 7, 10],\\n}  # Create a based model\\n\\npipeline = Pipeline([(\\\"prep\\\", preprocessor), (\\\"rf\\\", RandomForestRegressor()),])\\n\\nCV = GridSearchCV(\\n    pipeline, param_grid, scoring=\\\"neg_mean_absolute_error\\\", n_jobs=-1, cv=5,\\n)\\nCV.fit(X, y)\";\n",
       "                var nbb_formatted_code = \"from sklearn.model_selection import GridSearchCV\\nfrom sklearn.pipeline import Pipeline\\n\\nparam_grid = {\\n    \\\"rf__n_estimators\\\": [5, 10],\\n    \\\"rf__max_depth\\\": [1, 5, 10],\\n    \\\"rf__max_features\\\": [2, 5, 7, 10],\\n}  # Create a based model\\n\\npipeline = Pipeline([(\\\"prep\\\", preprocessor), (\\\"rf\\\", RandomForestRegressor()),])\\n\\nCV = GridSearchCV(\\n    pipeline, param_grid, scoring=\\\"neg_mean_absolute_error\\\", n_jobs=-1, cv=5,\\n)\\nCV.fit(X, y)\";\n",
       "                var nbb_cells = Jupyter.notebook.get_cells();\n",
       "                for (var i = 0; i < nbb_cells.length; ++i) {\n",
       "                    if (nbb_cells[i].input_prompt_number == nbb_cell_id) {\n",
       "                        if (nbb_cells[i].get_text() == nbb_unformatted_code) {\n",
       "                             nbb_cells[i].set_text(nbb_formatted_code);\n",
       "                        }\n",
       "                        break;\n",
       "                    }\n",
       "                }\n",
       "            }, 500);\n",
       "            "
      ],
      "text/plain": [
       "<IPython.core.display.Javascript object>"
      ]
     },
     "metadata": {},
     "output_type": "display_data"
    }
   ],
   "source": [
    "from sklearn.model_selection import GridSearchCV\n",
    "from sklearn.pipeline import Pipeline\n",
    "\n",
    "param_grid = {\n",
    "    \"rf__n_estimators\": [5, 10],\n",
    "    \"rf__max_depth\": [1, 5, 10],\n",
    "    \"rf__max_features\": [2, 5, 7, 10],\n",
    "}  # Create a based model\n",
    "\n",
    "pipeline = Pipeline([(\"prep\", preprocessor), (\"rf\", RandomForestRegressor()),])\n",
    "\n",
    "CV = GridSearchCV(\n",
    "    pipeline, param_grid, scoring=\"neg_mean_absolute_error\", n_jobs=-1, cv=5,\n",
    ")\n",
    "CV.fit(X, y)"
   ]
  },
  {
   "cell_type": "code",
   "execution_count": 31,
   "metadata": {},
   "outputs": [
    {
     "name": "stdout",
     "output_type": "stream",
     "text": [
      "Pipeline(steps=[('prep',\n",
      "                 ColumnTransformer(remainder='passthrough',\n",
      "                                   transformers=[('functiontransformer',\n",
      "                                                  FunctionTransformer(func=<function _encode_dates at 0x00000185E50BA438>),\n",
      "                                                  ['DateOfDeparture']),\n",
      "                                                 ('ordinalencoder',\n",
      "                                                  OrdinalEncoder(),\n",
      "                                                  ['Arrival', 'Departure'])])),\n",
      "                ('rf',\n",
      "                 RandomForestRegressor(max_depth=10, max_features=10,\n",
      "                                       n_estimators=10))])\n"
     ]
    },
    {
     "data": {
      "text/plain": [
       "0.6909071145792047"
      ]
     },
     "execution_count": 31,
     "metadata": {},
     "output_type": "execute_result"
    },
    {
     "data": {
      "application/javascript": [
       "\n",
       "            setTimeout(function() {\n",
       "                var nbb_cell_id = 31;\n",
       "                var nbb_unformatted_code = \"print(CV.best_estimator_)\\nrmse_scores = np.sqrt(-CV.best_score_)\\nrmse_scores\";\n",
       "                var nbb_formatted_code = \"print(CV.best_estimator_)\\nrmse_scores = np.sqrt(-CV.best_score_)\\nrmse_scores\";\n",
       "                var nbb_cells = Jupyter.notebook.get_cells();\n",
       "                for (var i = 0; i < nbb_cells.length; ++i) {\n",
       "                    if (nbb_cells[i].input_prompt_number == nbb_cell_id) {\n",
       "                        if (nbb_cells[i].get_text() == nbb_unformatted_code) {\n",
       "                             nbb_cells[i].set_text(nbb_formatted_code);\n",
       "                        }\n",
       "                        break;\n",
       "                    }\n",
       "                }\n",
       "            }, 500);\n",
       "            "
      ],
      "text/plain": [
       "<IPython.core.display.Javascript object>"
      ]
     },
     "metadata": {},
     "output_type": "display_data"
    }
   ],
   "source": [
    "print(CV.best_estimator_)\n",
    "rmse_scores = np.sqrt(-CV.best_score_)\n",
    "rmse_scores"
   ]
  },
  {
   "cell_type": "markdown",
   "metadata": {},
   "source": [
    "## Linear regressor\n",
    "\n",
    "When dealing with a linear model, we need to one-hot encode categorical variables instead of ordinal encoding and standardize numerical variables. Thus we will:\n",
    "\n",
    "- encode the date;\n",
    "- then, one-hot encode all categorical columns, including the encoded date as well;\n",
    "- standardize the numerical columns."
   ]
  },
  {
   "cell_type": "code",
   "execution_count": 32,
   "metadata": {},
   "outputs": [
    {
     "data": {
      "application/javascript": [
       "\n",
       "            setTimeout(function() {\n",
       "                var nbb_cell_id = 32;\n",
       "                var nbb_unformatted_code = \"from sklearn.preprocessing import OneHotEncoder\\nfrom sklearn.preprocessing import StandardScaler\\n\\ndate_encoder = FunctionTransformer(_encode_dates)\\ndate_cols = [\\\"DateOfDeparture\\\"]\\n\\ncategorical_encoder = OneHotEncoder(handle_unknown=\\\"ignore\\\")\\ncategorical_cols = [\\n    \\\"Arrival\\\",\\n    \\\"Departure\\\",\\n    \\\"year\\\",\\n    \\\"month\\\",\\n    \\\"day\\\",\\n    \\\"weekday\\\",\\n    \\\"week\\\",\\n    \\\"n_days\\\",\\n]\\n\\nnumerical_scaler = StandardScaler()\\nnumerical_cols = [\\\"WeeksToDeparture\\\", \\\"std_wtd\\\"]\\n\\npreprocessor = make_column_transformer(\\n    (categorical_encoder, categorical_cols), (numerical_scaler, numerical_cols)\\n)\";\n",
       "                var nbb_formatted_code = \"from sklearn.preprocessing import OneHotEncoder\\nfrom sklearn.preprocessing import StandardScaler\\n\\ndate_encoder = FunctionTransformer(_encode_dates)\\ndate_cols = [\\\"DateOfDeparture\\\"]\\n\\ncategorical_encoder = OneHotEncoder(handle_unknown=\\\"ignore\\\")\\ncategorical_cols = [\\n    \\\"Arrival\\\",\\n    \\\"Departure\\\",\\n    \\\"year\\\",\\n    \\\"month\\\",\\n    \\\"day\\\",\\n    \\\"weekday\\\",\\n    \\\"week\\\",\\n    \\\"n_days\\\",\\n]\\n\\nnumerical_scaler = StandardScaler()\\nnumerical_cols = [\\\"WeeksToDeparture\\\", \\\"std_wtd\\\"]\\n\\npreprocessor = make_column_transformer(\\n    (categorical_encoder, categorical_cols), (numerical_scaler, numerical_cols)\\n)\";\n",
       "                var nbb_cells = Jupyter.notebook.get_cells();\n",
       "                for (var i = 0; i < nbb_cells.length; ++i) {\n",
       "                    if (nbb_cells[i].input_prompt_number == nbb_cell_id) {\n",
       "                        if (nbb_cells[i].get_text() == nbb_unformatted_code) {\n",
       "                             nbb_cells[i].set_text(nbb_formatted_code);\n",
       "                        }\n",
       "                        break;\n",
       "                    }\n",
       "                }\n",
       "            }, 500);\n",
       "            "
      ],
      "text/plain": [
       "<IPython.core.display.Javascript object>"
      ]
     },
     "metadata": {},
     "output_type": "display_data"
    }
   ],
   "source": [
    "from sklearn.preprocessing import OneHotEncoder\n",
    "from sklearn.preprocessing import StandardScaler\n",
    "\n",
    "date_encoder = FunctionTransformer(_encode_dates)\n",
    "date_cols = [\"DateOfDeparture\"]\n",
    "\n",
    "categorical_encoder = OneHotEncoder(handle_unknown=\"ignore\")\n",
    "categorical_cols = [\n",
    "    \"Arrival\",\n",
    "    \"Departure\",\n",
    "    \"year\",\n",
    "    \"month\",\n",
    "    \"day\",\n",
    "    \"weekday\",\n",
    "    \"week\",\n",
    "    \"n_days\",\n",
    "]\n",
    "\n",
    "numerical_scaler = StandardScaler()\n",
    "numerical_cols = [\"WeeksToDeparture\", \"std_wtd\"]\n",
    "\n",
    "preprocessor = make_column_transformer(\n",
    "    (categorical_encoder, categorical_cols), (numerical_scaler, numerical_cols)\n",
    ")"
   ]
  },
  {
   "cell_type": "markdown",
   "metadata": {},
   "source": [
    "We can now combine our `preprocessor` with the `LinearRegression` estimator in a `Pipeline`:"
   ]
  },
  {
   "cell_type": "code",
   "execution_count": 33,
   "metadata": {},
   "outputs": [
    {
     "data": {
      "application/javascript": [
       "\n",
       "            setTimeout(function() {\n",
       "                var nbb_cell_id = 33;\n",
       "                var nbb_unformatted_code = \"from sklearn.linear_model import LinearRegression\\n\\nregressor = LinearRegression()\\n\\npipeline = make_pipeline(date_encoder, preprocessor, regressor)\";\n",
       "                var nbb_formatted_code = \"from sklearn.linear_model import LinearRegression\\n\\nregressor = LinearRegression()\\n\\npipeline = make_pipeline(date_encoder, preprocessor, regressor)\";\n",
       "                var nbb_cells = Jupyter.notebook.get_cells();\n",
       "                for (var i = 0; i < nbb_cells.length; ++i) {\n",
       "                    if (nbb_cells[i].input_prompt_number == nbb_cell_id) {\n",
       "                        if (nbb_cells[i].get_text() == nbb_unformatted_code) {\n",
       "                             nbb_cells[i].set_text(nbb_formatted_code);\n",
       "                        }\n",
       "                        break;\n",
       "                    }\n",
       "                }\n",
       "            }, 500);\n",
       "            "
      ],
      "text/plain": [
       "<IPython.core.display.Javascript object>"
      ]
     },
     "metadata": {},
     "output_type": "display_data"
    }
   ],
   "source": [
    "from sklearn.linear_model import LinearRegression\n",
    "\n",
    "regressor = LinearRegression()\n",
    "\n",
    "pipeline = make_pipeline(date_encoder, preprocessor, regressor)"
   ]
  },
  {
   "cell_type": "markdown",
   "metadata": {},
   "source": [
    "And we can evaluate our linear-model pipeline:"
   ]
  },
  {
   "cell_type": "code",
   "execution_count": 34,
   "metadata": {},
   "outputs": [
    {
     "name": "stderr",
     "output_type": "stream",
     "text": [
      "C:\\Users\\benja\\Anaconda3\\lib\\site-packages\\ipykernel_launcher.py:18: FutureWarning: Series.dt.weekofyear and Series.dt.week have been deprecated.  Please use Series.dt.isocalendar().week instead.\n",
      "C:\\Users\\benja\\Anaconda3\\lib\\site-packages\\ipykernel_launcher.py:18: FutureWarning: Series.dt.weekofyear and Series.dt.week have been deprecated.  Please use Series.dt.isocalendar().week instead.\n",
      "C:\\Users\\benja\\Anaconda3\\lib\\site-packages\\ipykernel_launcher.py:18: FutureWarning: Series.dt.weekofyear and Series.dt.week have been deprecated.  Please use Series.dt.isocalendar().week instead.\n",
      "C:\\Users\\benja\\Anaconda3\\lib\\site-packages\\ipykernel_launcher.py:18: FutureWarning: Series.dt.weekofyear and Series.dt.week have been deprecated.  Please use Series.dt.isocalendar().week instead.\n",
      "C:\\Users\\benja\\Anaconda3\\lib\\site-packages\\ipykernel_launcher.py:18: FutureWarning: Series.dt.weekofyear and Series.dt.week have been deprecated.  Please use Series.dt.isocalendar().week instead.\n",
      "C:\\Users\\benja\\Anaconda3\\lib\\site-packages\\ipykernel_launcher.py:18: FutureWarning: Series.dt.weekofyear and Series.dt.week have been deprecated.  Please use Series.dt.isocalendar().week instead.\n",
      "C:\\Users\\benja\\Anaconda3\\lib\\site-packages\\ipykernel_launcher.py:18: FutureWarning: Series.dt.weekofyear and Series.dt.week have been deprecated.  Please use Series.dt.isocalendar().week instead.\n",
      "C:\\Users\\benja\\Anaconda3\\lib\\site-packages\\ipykernel_launcher.py:18: FutureWarning: Series.dt.weekofyear and Series.dt.week have been deprecated.  Please use Series.dt.isocalendar().week instead.\n",
      "C:\\Users\\benja\\Anaconda3\\lib\\site-packages\\ipykernel_launcher.py:18: FutureWarning: Series.dt.weekofyear and Series.dt.week have been deprecated.  Please use Series.dt.isocalendar().week instead.\n",
      "C:\\Users\\benja\\Anaconda3\\lib\\site-packages\\ipykernel_launcher.py:18: FutureWarning: Series.dt.weekofyear and Series.dt.week have been deprecated.  Please use Series.dt.isocalendar().week instead.\n"
     ]
    },
    {
     "name": "stdout",
     "output_type": "stream",
     "text": [
      "RMSE: 0.6117 +/- 0.0149\n"
     ]
    },
    {
     "data": {
      "application/javascript": [
       "\n",
       "            setTimeout(function() {\n",
       "                var nbb_cell_id = 34;\n",
       "                var nbb_unformatted_code = \"scores = cross_val_score(pipeline, X, y, cv=5, scoring=\\\"neg_mean_squared_error\\\")\\nrmse_scores = np.sqrt(-scores)\\n\\nprint(f\\\"RMSE: {np.mean(rmse_scores):.4f} +/- {np.std(rmse_scores):.4f}\\\")\";\n",
       "                var nbb_formatted_code = \"scores = cross_val_score(pipeline, X, y, cv=5, scoring=\\\"neg_mean_squared_error\\\")\\nrmse_scores = np.sqrt(-scores)\\n\\nprint(f\\\"RMSE: {np.mean(rmse_scores):.4f} +/- {np.std(rmse_scores):.4f}\\\")\";\n",
       "                var nbb_cells = Jupyter.notebook.get_cells();\n",
       "                for (var i = 0; i < nbb_cells.length; ++i) {\n",
       "                    if (nbb_cells[i].input_prompt_number == nbb_cell_id) {\n",
       "                        if (nbb_cells[i].get_text() == nbb_unformatted_code) {\n",
       "                             nbb_cells[i].set_text(nbb_formatted_code);\n",
       "                        }\n",
       "                        break;\n",
       "                    }\n",
       "                }\n",
       "            }, 500);\n",
       "            "
      ],
      "text/plain": [
       "<IPython.core.display.Javascript object>"
      ]
     },
     "metadata": {},
     "output_type": "display_data"
    }
   ],
   "source": [
    "scores = cross_val_score(pipeline, X, y, cv=5, scoring=\"neg_mean_squared_error\")\n",
    "rmse_scores = np.sqrt(-scores)\n",
    "\n",
    "print(f\"RMSE: {np.mean(rmse_scores):.4f} +/- {np.std(rmse_scores):.4f}\")"
   ]
  },
  {
   "cell_type": "markdown",
   "metadata": {},
   "source": [
    "# Merging external data"
   ]
  },
  {
   "cell_type": "code",
   "execution_count": 35,
   "metadata": {},
   "outputs": [
    {
     "data": {
      "text/html": [
       "<div>\n",
       "<style scoped>\n",
       "    .dataframe tbody tr th:only-of-type {\n",
       "        vertical-align: middle;\n",
       "    }\n",
       "\n",
       "    .dataframe tbody tr th {\n",
       "        vertical-align: top;\n",
       "    }\n",
       "\n",
       "    .dataframe thead th {\n",
       "        text-align: right;\n",
       "    }\n",
       "</style>\n",
       "<table border=\"1\" class=\"dataframe\">\n",
       "  <thead>\n",
       "    <tr style=\"text-align: right;\">\n",
       "      <th></th>\n",
       "      <th>DateOfDeparture</th>\n",
       "      <th>Departure</th>\n",
       "      <th>Arrival</th>\n",
       "      <th>WeeksToDeparture</th>\n",
       "      <th>std_wtd</th>\n",
       "    </tr>\n",
       "  </thead>\n",
       "  <tbody>\n",
       "    <tr>\n",
       "      <th>0</th>\n",
       "      <td>2012-06-19</td>\n",
       "      <td>ORD</td>\n",
       "      <td>DFW</td>\n",
       "      <td>12.875000</td>\n",
       "      <td>9.812647</td>\n",
       "    </tr>\n",
       "    <tr>\n",
       "      <th>1</th>\n",
       "      <td>2012-09-10</td>\n",
       "      <td>LAS</td>\n",
       "      <td>DEN</td>\n",
       "      <td>14.285714</td>\n",
       "      <td>9.466734</td>\n",
       "    </tr>\n",
       "    <tr>\n",
       "      <th>2</th>\n",
       "      <td>2012-10-05</td>\n",
       "      <td>DEN</td>\n",
       "      <td>LAX</td>\n",
       "      <td>10.863636</td>\n",
       "      <td>9.035883</td>\n",
       "    </tr>\n",
       "    <tr>\n",
       "      <th>3</th>\n",
       "      <td>2011-10-09</td>\n",
       "      <td>ATL</td>\n",
       "      <td>ORD</td>\n",
       "      <td>11.480000</td>\n",
       "      <td>7.990202</td>\n",
       "    </tr>\n",
       "    <tr>\n",
       "      <th>4</th>\n",
       "      <td>2012-02-21</td>\n",
       "      <td>DEN</td>\n",
       "      <td>SFO</td>\n",
       "      <td>11.450000</td>\n",
       "      <td>9.517159</td>\n",
       "    </tr>\n",
       "    <tr>\n",
       "      <th>...</th>\n",
       "      <td>...</td>\n",
       "      <td>...</td>\n",
       "      <td>...</td>\n",
       "      <td>...</td>\n",
       "      <td>...</td>\n",
       "    </tr>\n",
       "    <tr>\n",
       "      <th>8897</th>\n",
       "      <td>2011-10-02</td>\n",
       "      <td>DTW</td>\n",
       "      <td>ATL</td>\n",
       "      <td>9.263158</td>\n",
       "      <td>7.316967</td>\n",
       "    </tr>\n",
       "    <tr>\n",
       "      <th>8898</th>\n",
       "      <td>2012-09-25</td>\n",
       "      <td>DFW</td>\n",
       "      <td>ORD</td>\n",
       "      <td>12.772727</td>\n",
       "      <td>10.641034</td>\n",
       "    </tr>\n",
       "    <tr>\n",
       "      <th>8899</th>\n",
       "      <td>2012-01-19</td>\n",
       "      <td>SFO</td>\n",
       "      <td>LAS</td>\n",
       "      <td>11.047619</td>\n",
       "      <td>7.908705</td>\n",
       "    </tr>\n",
       "    <tr>\n",
       "      <th>8900</th>\n",
       "      <td>2013-02-03</td>\n",
       "      <td>ORD</td>\n",
       "      <td>PHL</td>\n",
       "      <td>6.076923</td>\n",
       "      <td>4.030334</td>\n",
       "    </tr>\n",
       "    <tr>\n",
       "      <th>8901</th>\n",
       "      <td>2011-11-26</td>\n",
       "      <td>DTW</td>\n",
       "      <td>ATL</td>\n",
       "      <td>9.526316</td>\n",
       "      <td>6.167733</td>\n",
       "    </tr>\n",
       "  </tbody>\n",
       "</table>\n",
       "<p>8902 rows × 5 columns</p>\n",
       "</div>"
      ],
      "text/plain": [
       "     DateOfDeparture Departure Arrival  WeeksToDeparture    std_wtd\n",
       "0         2012-06-19       ORD     DFW         12.875000   9.812647\n",
       "1         2012-09-10       LAS     DEN         14.285714   9.466734\n",
       "2         2012-10-05       DEN     LAX         10.863636   9.035883\n",
       "3         2011-10-09       ATL     ORD         11.480000   7.990202\n",
       "4         2012-02-21       DEN     SFO         11.450000   9.517159\n",
       "...              ...       ...     ...               ...        ...\n",
       "8897      2011-10-02       DTW     ATL          9.263158   7.316967\n",
       "8898      2012-09-25       DFW     ORD         12.772727  10.641034\n",
       "8899      2012-01-19       SFO     LAS         11.047619   7.908705\n",
       "8900      2013-02-03       ORD     PHL          6.076923   4.030334\n",
       "8901      2011-11-26       DTW     ATL          9.526316   6.167733\n",
       "\n",
       "[8902 rows x 5 columns]"
      ]
     },
     "execution_count": 35,
     "metadata": {},
     "output_type": "execute_result"
    },
    {
     "data": {
      "application/javascript": [
       "\n",
       "            setTimeout(function() {\n",
       "                var nbb_cell_id = 35;\n",
       "                var nbb_unformatted_code = \"X\";\n",
       "                var nbb_formatted_code = \"X\";\n",
       "                var nbb_cells = Jupyter.notebook.get_cells();\n",
       "                for (var i = 0; i < nbb_cells.length; ++i) {\n",
       "                    if (nbb_cells[i].input_prompt_number == nbb_cell_id) {\n",
       "                        if (nbb_cells[i].get_text() == nbb_unformatted_code) {\n",
       "                             nbb_cells[i].set_text(nbb_formatted_code);\n",
       "                        }\n",
       "                        break;\n",
       "                    }\n",
       "                }\n",
       "            }, 500);\n",
       "            "
      ],
      "text/plain": [
       "<IPython.core.display.Javascript object>"
      ]
     },
     "metadata": {},
     "output_type": "display_data"
    }
   ],
   "source": [
    "X"
   ]
  },
  {
   "cell_type": "code",
   "execution_count": null,
   "metadata": {},
   "outputs": [],
   "source": [
    "X"
   ]
  },
  {
   "cell_type": "markdown",
   "metadata": {},
   "source": [
    "The objective in this RAMP data challenge is to find good data that can be correlated to flight traffic. We will use some weather data (saved in `submissions/starting_kit`) to provide an example of how to merge external data in a scikit-learn pipeline.\n",
    "\n",
    "Your external data will need to be included in your submissions folder - see [RAMP submissions](#RAMP-submissions) for more details.\n",
    "\n",
    "First we will define a function that merges the external data to our feature data."
   ]
  },
  {
   "cell_type": "code",
   "execution_count": 40,
   "metadata": {},
   "outputs": [
    {
     "data": {
      "text/plain": [
       "'submissions\\\\use_external_data\\\\external_data.csv'"
      ]
     },
     "execution_count": 40,
     "metadata": {},
     "output_type": "execute_result"
    },
    {
     "data": {
      "application/javascript": [
       "\n",
       "            setTimeout(function() {\n",
       "                var nbb_cell_id = 40;\n",
       "                var nbb_unformatted_code = \"# when submitting a kit, the `__file__` variable will corresponds to the\\n# path to `estimator.py`. However, this variable is not defined in the\\n# notebook and thus we must define the `__file__` variable to imitate\\n# how a submission `.py` would work.\\n__file__ = os.path.join(\\\"submissions\\\", \\\"use_external_data\\\", \\\"estimator.py\\\")\\nfilepath = os.path.join(os.path.dirname(__file__), \\\"external_data.csv\\\")\\nfilepath\";\n",
       "                var nbb_formatted_code = \"# when submitting a kit, the `__file__` variable will corresponds to the\\n# path to `estimator.py`. However, this variable is not defined in the\\n# notebook and thus we must define the `__file__` variable to imitate\\n# how a submission `.py` would work.\\n__file__ = os.path.join(\\\"submissions\\\", \\\"use_external_data\\\", \\\"estimator.py\\\")\\nfilepath = os.path.join(os.path.dirname(__file__), \\\"external_data.csv\\\")\\nfilepath\";\n",
       "                var nbb_cells = Jupyter.notebook.get_cells();\n",
       "                for (var i = 0; i < nbb_cells.length; ++i) {\n",
       "                    if (nbb_cells[i].input_prompt_number == nbb_cell_id) {\n",
       "                        if (nbb_cells[i].get_text() == nbb_unformatted_code) {\n",
       "                             nbb_cells[i].set_text(nbb_formatted_code);\n",
       "                        }\n",
       "                        break;\n",
       "                    }\n",
       "                }\n",
       "            }, 500);\n",
       "            "
      ],
      "text/plain": [
       "<IPython.core.display.Javascript object>"
      ]
     },
     "metadata": {},
     "output_type": "display_data"
    }
   ],
   "source": [
    "# when submitting a kit, the `__file__` variable will corresponds to the\n",
    "# path to `estimator.py`. However, this variable is not defined in the\n",
    "# notebook and thus we must define the `__file__` variable to imitate\n",
    "# how a submission `.py` would work.\n",
    "__file__ = os.path.join(\"submissions\", \"use_external_data\", \"estimator.py\")\n",
    "filepath = os.path.join(os.path.dirname(__file__), \"external_data.csv\")\n",
    "filepath"
   ]
  },
  {
   "cell_type": "code",
   "execution_count": 41,
   "metadata": {},
   "outputs": [
    {
     "data": {
      "text/html": [
       "<div>\n",
       "<style scoped>\n",
       "    .dataframe tbody tr th:only-of-type {\n",
       "        vertical-align: middle;\n",
       "    }\n",
       "\n",
       "    .dataframe tbody tr th {\n",
       "        vertical-align: top;\n",
       "    }\n",
       "\n",
       "    .dataframe thead th {\n",
       "        text-align: right;\n",
       "    }\n",
       "</style>\n",
       "<table border=\"1\" class=\"dataframe\">\n",
       "  <thead>\n",
       "    <tr style=\"text-align: right;\">\n",
       "      <th></th>\n",
       "      <th>AirportCode</th>\n",
       "      <th>CityName</th>\n",
       "      <th>CityPopulation2012</th>\n",
       "      <th>DomesticEnplanedPassengers2012(millions)</th>\n",
       "      <th>AverageDomesticFlightFare2012($)</th>\n",
       "    </tr>\n",
       "  </thead>\n",
       "  <tbody>\n",
       "    <tr>\n",
       "      <th>0</th>\n",
       "      <td>ATL</td>\n",
       "      <td>Atlanta</td>\n",
       "      <td>448799</td>\n",
       "      <td>40937.0</td>\n",
       "      <td>365.82</td>\n",
       "    </tr>\n",
       "    <tr>\n",
       "      <th>1</th>\n",
       "      <td>BOS</td>\n",
       "      <td>Boston</td>\n",
       "      <td>643003</td>\n",
       "      <td>12255.0</td>\n",
       "      <td>371.25</td>\n",
       "    </tr>\n",
       "    <tr>\n",
       "      <th>2</th>\n",
       "      <td>CLT</td>\n",
       "      <td>Charlotte</td>\n",
       "      <td>775202</td>\n",
       "      <td>18568.0</td>\n",
       "      <td>407.82</td>\n",
       "    </tr>\n",
       "    <tr>\n",
       "      <th>3</th>\n",
       "      <td>DEN</td>\n",
       "      <td>Denver</td>\n",
       "      <td>2554343</td>\n",
       "      <td>24906.0</td>\n",
       "      <td>320.91</td>\n",
       "    </tr>\n",
       "    <tr>\n",
       "      <th>4</th>\n",
       "      <td>DFW</td>\n",
       "      <td>Dallas</td>\n",
       "      <td>1241162</td>\n",
       "      <td>25103.0</td>\n",
       "      <td>430.71</td>\n",
       "    </tr>\n",
       "  </tbody>\n",
       "</table>\n",
       "</div>"
      ],
      "text/plain": [
       "  AirportCode   CityName CityPopulation2012  \\\n",
       "0         ATL    Atlanta             448799   \n",
       "1         BOS     Boston             643003   \n",
       "2         CLT  Charlotte             775202   \n",
       "3         DEN     Denver            2554343   \n",
       "4         DFW     Dallas            1241162   \n",
       "\n",
       "   DomesticEnplanedPassengers2012(millions)  AverageDomesticFlightFare2012($)  \n",
       "0                                   40937.0                            365.82  \n",
       "1                                   12255.0                            371.25  \n",
       "2                                   18568.0                            407.82  \n",
       "3                                   24906.0                            320.91  \n",
       "4                                   25103.0                            430.71  "
      ]
     },
     "execution_count": 41,
     "metadata": {},
     "output_type": "execute_result"
    },
    {
     "data": {
      "application/javascript": [
       "\n",
       "            setTimeout(function() {\n",
       "                var nbb_cell_id = 41;\n",
       "                var nbb_unformatted_code = \"pd.read_csv(filepath, sep=\\\";\\\").head()\";\n",
       "                var nbb_formatted_code = \"pd.read_csv(filepath, sep=\\\";\\\").head()\";\n",
       "                var nbb_cells = Jupyter.notebook.get_cells();\n",
       "                for (var i = 0; i < nbb_cells.length; ++i) {\n",
       "                    if (nbb_cells[i].input_prompt_number == nbb_cell_id) {\n",
       "                        if (nbb_cells[i].get_text() == nbb_unformatted_code) {\n",
       "                             nbb_cells[i].set_text(nbb_formatted_code);\n",
       "                        }\n",
       "                        break;\n",
       "                    }\n",
       "                }\n",
       "            }, 500);\n",
       "            "
      ],
      "text/plain": [
       "<IPython.core.display.Javascript object>"
      ]
     },
     "metadata": {},
     "output_type": "display_data"
    }
   ],
   "source": [
    "pd.read_csv(filepath, sep=\";\").head()"
   ]
  },
  {
   "cell_type": "code",
   "execution_count": null,
   "metadata": {},
   "outputs": [],
   "source": [
    "data_holidays = pd.read_csv(filepath, sep=\";\", skiprows=22, usecols=[0])\n",
    "data_holidays[\"Date\"] = pd.to_datetime(data_holidays[\"Date\"], format=\"%d/%m/%Y\")\n",
    "data_holidays = data_holidays.rename(columns={\"Date\": \"DateOfDeparture\"})\n",
    "data_holidays.head()\n",
    "data_holidays[\"is_holidays\"] = 1\n",
    "data_holidays"
   ]
  },
  {
   "cell_type": "code",
   "execution_count": 58,
   "metadata": {},
   "outputs": [
    {
     "data": {
      "application/javascript": [
       "\n",
       "            setTimeout(function() {\n",
       "                var nbb_cell_id = 58;\n",
       "                var nbb_unformatted_code = \"def _merge_airport_data(X):\\n    filepath = os.path.join(os.path.dirname(__file__), \\\"external_data.csv\\\")\\n\\n    X = X.copy()  # to avoid raising SettingOnCopyWarning\\n    # Make sure that DateOfDeparture is of dtype datetime\\n    X.loc[:, \\\"DateOfDeparture\\\"] = pd.to_datetime(X[\\\"DateOfDeparture\\\"])\\n    data_airport = pd.read_csv(filepath, sep=\\\";\\\", nrows=21)\\n\\n    X_airport = data_airport[\\n        [\\n            \\\"AirportCode\\\",\\n            \\\"CityPopulation2012\\\",\\n            \\\"DomesticEnplanedPassengers2012(millions)\\\",\\n            \\\"AverageDomesticFlightFare2012($)\\\",\\n        ]\\n    ]\\n    X_airport = X_airport.rename(\\n        columns={\\n            \\\"AirportCode\\\": \\\"Departure\\\",\\n            \\\"CityPopulation2012\\\": \\\"PopulationDeparture\\\",\\n            \\\"DomesticEnplanedPassengers2012(millions)\\\": \\\"NbPassengersDeparture\\\",\\n            \\\"AverageDomesticFlightFare2012($)\\\": \\\"AverageFlightFareDeparture\\\",\\n        }\\n    )\\n    X_merged = pd.merge(X, X_airport, how=\\\"left\\\", on=[\\\"Departure\\\"], sort=False)\\n    X_airport = X_airport.rename(\\n        columns={\\n            \\\"Departure\\\": \\\"Arrival\\\",\\n            \\\"PopulationDeparture\\\": \\\"PopulationArrival\\\",\\n            \\\"NbPassengersDeparture\\\": \\\"NbPassengersArrival\\\",\\n            \\\"AverageFlightFareDeparture\\\": \\\"AverageFlightFareArrival\\\",\\n        }\\n    )\\n    X_merged = pd.merge(X_merged, X_airport, how=\\\"left\\\", on=[\\\"Arrival\\\"], sort=False)\\n\\n    data_holidays = pd.read_csv(filepath, sep=\\\";\\\", skiprows=22, usecols=[0, 1, 2])\\n    data_holidays[\\\"Date\\\"] = pd.to_datetime(data_holidays[\\\"Date\\\"], format=\\\"%d/%m/%Y\\\")\\n    data_holidays = data_holidays.rename(columns={\\\"Date\\\": \\\"DateOfDeparture\\\"})\\n    data_holidays.head()\\n    X_merged = pd.merge(\\n        X_merged, data_holidays, how=\\\"left\\\", on=[\\\"DateOfDeparture\\\"], sort=False\\n    )\\n    return X_merged\\n\\n\\ndata_merger = FunctionTransformer(_merge_airport_data)\";\n",
       "                var nbb_formatted_code = \"def _merge_airport_data(X):\\n    filepath = os.path.join(os.path.dirname(__file__), \\\"external_data.csv\\\")\\n\\n    X = X.copy()  # to avoid raising SettingOnCopyWarning\\n    # Make sure that DateOfDeparture is of dtype datetime\\n    X.loc[:, \\\"DateOfDeparture\\\"] = pd.to_datetime(X[\\\"DateOfDeparture\\\"])\\n    data_airport = pd.read_csv(filepath, sep=\\\";\\\", nrows=21)\\n\\n    X_airport = data_airport[\\n        [\\n            \\\"AirportCode\\\",\\n            \\\"CityPopulation2012\\\",\\n            \\\"DomesticEnplanedPassengers2012(millions)\\\",\\n            \\\"AverageDomesticFlightFare2012($)\\\",\\n        ]\\n    ]\\n    X_airport = X_airport.rename(\\n        columns={\\n            \\\"AirportCode\\\": \\\"Departure\\\",\\n            \\\"CityPopulation2012\\\": \\\"PopulationDeparture\\\",\\n            \\\"DomesticEnplanedPassengers2012(millions)\\\": \\\"NbPassengersDeparture\\\",\\n            \\\"AverageDomesticFlightFare2012($)\\\": \\\"AverageFlightFareDeparture\\\",\\n        }\\n    )\\n    X_merged = pd.merge(X, X_airport, how=\\\"left\\\", on=[\\\"Departure\\\"], sort=False)\\n    X_airport = X_airport.rename(\\n        columns={\\n            \\\"Departure\\\": \\\"Arrival\\\",\\n            \\\"PopulationDeparture\\\": \\\"PopulationArrival\\\",\\n            \\\"NbPassengersDeparture\\\": \\\"NbPassengersArrival\\\",\\n            \\\"AverageFlightFareDeparture\\\": \\\"AverageFlightFareArrival\\\",\\n        }\\n    )\\n    X_merged = pd.merge(X_merged, X_airport, how=\\\"left\\\", on=[\\\"Arrival\\\"], sort=False)\\n\\n    data_holidays = pd.read_csv(filepath, sep=\\\";\\\", skiprows=22, usecols=[0, 1, 2])\\n    data_holidays[\\\"Date\\\"] = pd.to_datetime(data_holidays[\\\"Date\\\"], format=\\\"%d/%m/%Y\\\")\\n    data_holidays = data_holidays.rename(columns={\\\"Date\\\": \\\"DateOfDeparture\\\"})\\n    data_holidays.head()\\n    X_merged = pd.merge(\\n        X_merged, data_holidays, how=\\\"left\\\", on=[\\\"DateOfDeparture\\\"], sort=False\\n    )\\n    return X_merged\\n\\n\\ndata_merger = FunctionTransformer(_merge_airport_data)\";\n",
       "                var nbb_cells = Jupyter.notebook.get_cells();\n",
       "                for (var i = 0; i < nbb_cells.length; ++i) {\n",
       "                    if (nbb_cells[i].input_prompt_number == nbb_cell_id) {\n",
       "                        if (nbb_cells[i].get_text() == nbb_unformatted_code) {\n",
       "                             nbb_cells[i].set_text(nbb_formatted_code);\n",
       "                        }\n",
       "                        break;\n",
       "                    }\n",
       "                }\n",
       "            }, 500);\n",
       "            "
      ],
      "text/plain": [
       "<IPython.core.display.Javascript object>"
      ]
     },
     "metadata": {},
     "output_type": "display_data"
    }
   ],
   "source": [
    "def _merge_airport_data(X):\n",
    "    filepath = os.path.join(os.path.dirname(__file__), \"external_data.csv\")\n",
    "\n",
    "    X = X.copy()  # to avoid raising SettingOnCopyWarning\n",
    "    # Make sure that DateOfDeparture is of dtype datetime\n",
    "    X.loc[:, \"DateOfDeparture\"] = pd.to_datetime(X[\"DateOfDeparture\"])\n",
    "    data_airport = pd.read_csv(filepath, sep=\";\", nrows=21)\n",
    "\n",
    "    X_airport = data_airport[\n",
    "        [\n",
    "            \"AirportCode\",\n",
    "            \"CityPopulation2012\",\n",
    "            \"DomesticEnplanedPassengers2012(millions)\",\n",
    "            \"AverageDomesticFlightFare2012($)\",\n",
    "        ]\n",
    "    ]\n",
    "    X_airport = X_airport.rename(\n",
    "        columns={\n",
    "            \"AirportCode\": \"Departure\",\n",
    "            \"CityPopulation2012\": \"PopulationDeparture\",\n",
    "            \"DomesticEnplanedPassengers2012(millions)\": \"NbPassengersDeparture\",\n",
    "            \"AverageDomesticFlightFare2012($)\": \"AverageFlightFareDeparture\",\n",
    "        }\n",
    "    )\n",
    "    X_merged = pd.merge(X, X_airport, how=\"left\", on=[\"Departure\"], sort=False)\n",
    "    X_airport = X_airport.rename(\n",
    "        columns={\n",
    "            \"Departure\": \"Arrival\",\n",
    "            \"PopulationDeparture\": \"PopulationArrival\",\n",
    "            \"NbPassengersDeparture\": \"NbPassengersArrival\",\n",
    "            \"AverageFlightFareDeparture\": \"AverageFlightFareArrival\",\n",
    "        }\n",
    "    )\n",
    "    X_merged = pd.merge(X_merged, X_airport, how=\"left\", on=[\"Arrival\"], sort=False)\n",
    "\n",
    "    data_holidays = pd.read_csv(filepath, sep=\";\", skiprows=22, usecols=[0, 1, 2])\n",
    "    data_holidays[\"Date\"] = pd.to_datetime(data_holidays[\"Date\"], format=\"%d/%m/%Y\")\n",
    "    data_holidays = data_holidays.rename(columns={\"Date\": \"DateOfDeparture\"})\n",
    "    data_holidays.head()\n",
    "    X_merged = pd.merge(\n",
    "        X_merged, data_holidays, how=\"left\", on=[\"DateOfDeparture\"], sort=False\n",
    "    )\n",
    "    return X_merged\n",
    "\n",
    "\n",
    "data_merger = FunctionTransformer(_merge_airport_data)"
   ]
  },
  {
   "cell_type": "markdown",
   "metadata": {},
   "source": [
    "Double check that our function works:"
   ]
  },
  {
   "cell_type": "code",
   "execution_count": 59,
   "metadata": {},
   "outputs": [
    {
     "data": {
      "text/html": [
       "<div>\n",
       "<style scoped>\n",
       "    .dataframe tbody tr th:only-of-type {\n",
       "        vertical-align: middle;\n",
       "    }\n",
       "\n",
       "    .dataframe tbody tr th {\n",
       "        vertical-align: top;\n",
       "    }\n",
       "\n",
       "    .dataframe thead th {\n",
       "        text-align: right;\n",
       "    }\n",
       "</style>\n",
       "<table border=\"1\" class=\"dataframe\">\n",
       "  <thead>\n",
       "    <tr style=\"text-align: right;\">\n",
       "      <th></th>\n",
       "      <th>DateOfDeparture</th>\n",
       "      <th>Departure</th>\n",
       "      <th>Arrival</th>\n",
       "      <th>WeeksToDeparture</th>\n",
       "      <th>std_wtd</th>\n",
       "      <th>PopulationDeparture</th>\n",
       "      <th>NbPassengersDeparture</th>\n",
       "      <th>AverageFlightFareDeparture</th>\n",
       "      <th>PopulationArrival</th>\n",
       "      <th>NbPassengersArrival</th>\n",
       "      <th>AverageFlightFareArrival</th>\n",
       "      <th>is_holidays</th>\n",
       "      <th>school_break</th>\n",
       "    </tr>\n",
       "  </thead>\n",
       "  <tbody>\n",
       "    <tr>\n",
       "      <th>0</th>\n",
       "      <td>2012-06-19</td>\n",
       "      <td>ORD</td>\n",
       "      <td>DFW</td>\n",
       "      <td>12.875000</td>\n",
       "      <td>9.812647</td>\n",
       "      <td>2714856.0</td>\n",
       "      <td>27008.0</td>\n",
       "      <td>385.05</td>\n",
       "      <td>1241162.0</td>\n",
       "      <td>25103.0</td>\n",
       "      <td>430.71</td>\n",
       "      <td>0</td>\n",
       "      <td>no_break</td>\n",
       "    </tr>\n",
       "    <tr>\n",
       "      <th>1</th>\n",
       "      <td>2012-09-10</td>\n",
       "      <td>LAS</td>\n",
       "      <td>DEN</td>\n",
       "      <td>14.285714</td>\n",
       "      <td>9.466734</td>\n",
       "      <td>593411.0</td>\n",
       "      <td>18381.0</td>\n",
       "      <td>269.62</td>\n",
       "      <td>2554343.0</td>\n",
       "      <td>24906.0</td>\n",
       "      <td>320.91</td>\n",
       "      <td>0</td>\n",
       "      <td>no_break</td>\n",
       "    </tr>\n",
       "    <tr>\n",
       "      <th>2</th>\n",
       "      <td>2012-10-05</td>\n",
       "      <td>DEN</td>\n",
       "      <td>LAX</td>\n",
       "      <td>10.863636</td>\n",
       "      <td>9.035883</td>\n",
       "      <td>2554343.0</td>\n",
       "      <td>24906.0</td>\n",
       "      <td>320.91</td>\n",
       "      <td>3857799.0</td>\n",
       "      <td>23020.0</td>\n",
       "      <td>401.84</td>\n",
       "      <td>0</td>\n",
       "      <td>no_break</td>\n",
       "    </tr>\n",
       "    <tr>\n",
       "      <th>3</th>\n",
       "      <td>2011-10-09</td>\n",
       "      <td>ATL</td>\n",
       "      <td>ORD</td>\n",
       "      <td>11.480000</td>\n",
       "      <td>7.990202</td>\n",
       "      <td>448799.0</td>\n",
       "      <td>40937.0</td>\n",
       "      <td>365.82</td>\n",
       "      <td>2714856.0</td>\n",
       "      <td>27008.0</td>\n",
       "      <td>385.05</td>\n",
       "      <td>0</td>\n",
       "      <td>no_break</td>\n",
       "    </tr>\n",
       "    <tr>\n",
       "      <th>4</th>\n",
       "      <td>2012-02-21</td>\n",
       "      <td>DEN</td>\n",
       "      <td>SFO</td>\n",
       "      <td>11.450000</td>\n",
       "      <td>9.517159</td>\n",
       "      <td>2554343.0</td>\n",
       "      <td>24906.0</td>\n",
       "      <td>320.91</td>\n",
       "      <td>825863.0</td>\n",
       "      <td>16737.0</td>\n",
       "      <td>408.14</td>\n",
       "      <td>0</td>\n",
       "      <td>mid_winter_break</td>\n",
       "    </tr>\n",
       "    <tr>\n",
       "      <th>5</th>\n",
       "      <td>2013-01-22</td>\n",
       "      <td>ATL</td>\n",
       "      <td>MCO</td>\n",
       "      <td>10.363636</td>\n",
       "      <td>8.232025</td>\n",
       "      <td>448799.0</td>\n",
       "      <td>40937.0</td>\n",
       "      <td>365.82</td>\n",
       "      <td>249930.0</td>\n",
       "      <td>15267.0</td>\n",
       "      <td>278.43</td>\n",
       "      <td>0</td>\n",
       "      <td>no_break</td>\n",
       "    </tr>\n",
       "    <tr>\n",
       "      <th>6</th>\n",
       "      <td>2011-10-20</td>\n",
       "      <td>SFO</td>\n",
       "      <td>LAS</td>\n",
       "      <td>15.266667</td>\n",
       "      <td>9.808277</td>\n",
       "      <td>825863.0</td>\n",
       "      <td>16737.0</td>\n",
       "      <td>408.14</td>\n",
       "      <td>593411.0</td>\n",
       "      <td>18381.0</td>\n",
       "      <td>269.62</td>\n",
       "      <td>0</td>\n",
       "      <td>no_break</td>\n",
       "    </tr>\n",
       "    <tr>\n",
       "      <th>7</th>\n",
       "      <td>2012-01-28</td>\n",
       "      <td>EWR</td>\n",
       "      <td>ORD</td>\n",
       "      <td>8.588235</td>\n",
       "      <td>6.165010</td>\n",
       "      <td>277590.0</td>\n",
       "      <td>11447.0</td>\n",
       "      <td>477.06</td>\n",
       "      <td>2714856.0</td>\n",
       "      <td>27008.0</td>\n",
       "      <td>385.05</td>\n",
       "      <td>0</td>\n",
       "      <td>no_break</td>\n",
       "    </tr>\n",
       "    <tr>\n",
       "      <th>8</th>\n",
       "      <td>2012-05-27</td>\n",
       "      <td>ATL</td>\n",
       "      <td>CLT</td>\n",
       "      <td>10.238095</td>\n",
       "      <td>6.609877</td>\n",
       "      <td>448799.0</td>\n",
       "      <td>40937.0</td>\n",
       "      <td>365.82</td>\n",
       "      <td>775202.0</td>\n",
       "      <td>18568.0</td>\n",
       "      <td>407.82</td>\n",
       "      <td>0</td>\n",
       "      <td>no_break</td>\n",
       "    </tr>\n",
       "    <tr>\n",
       "      <th>9</th>\n",
       "      <td>2013-02-22</td>\n",
       "      <td>ATL</td>\n",
       "      <td>DEN</td>\n",
       "      <td>8.294118</td>\n",
       "      <td>5.542616</td>\n",
       "      <td>448799.0</td>\n",
       "      <td>40937.0</td>\n",
       "      <td>365.82</td>\n",
       "      <td>2554343.0</td>\n",
       "      <td>24906.0</td>\n",
       "      <td>320.91</td>\n",
       "      <td>0</td>\n",
       "      <td>no_break</td>\n",
       "    </tr>\n",
       "    <tr>\n",
       "      <th>10</th>\n",
       "      <td>2012-04-25</td>\n",
       "      <td>ATL</td>\n",
       "      <td>MSP</td>\n",
       "      <td>12.600000</td>\n",
       "      <td>9.725396</td>\n",
       "      <td>448799.0</td>\n",
       "      <td>40937.0</td>\n",
       "      <td>365.82</td>\n",
       "      <td>392775.0</td>\n",
       "      <td>14835.0</td>\n",
       "      <td>437.25</td>\n",
       "      <td>0</td>\n",
       "      <td>spring_break</td>\n",
       "    </tr>\n",
       "    <tr>\n",
       "      <th>11</th>\n",
       "      <td>2013-01-31</td>\n",
       "      <td>ORD</td>\n",
       "      <td>EWR</td>\n",
       "      <td>8.933333</td>\n",
       "      <td>9.407191</td>\n",
       "      <td>2714856.0</td>\n",
       "      <td>27008.0</td>\n",
       "      <td>385.05</td>\n",
       "      <td>277590.0</td>\n",
       "      <td>11447.0</td>\n",
       "      <td>477.06</td>\n",
       "      <td>0</td>\n",
       "      <td>no_break</td>\n",
       "    </tr>\n",
       "    <tr>\n",
       "      <th>12</th>\n",
       "      <td>2012-06-23</td>\n",
       "      <td>IAH</td>\n",
       "      <td>LAX</td>\n",
       "      <td>13.629630</td>\n",
       "      <td>9.178353</td>\n",
       "      <td>2160821.0</td>\n",
       "      <td>5032.0</td>\n",
       "      <td>506.86</td>\n",
       "      <td>3857799.0</td>\n",
       "      <td>23020.0</td>\n",
       "      <td>401.84</td>\n",
       "      <td>0</td>\n",
       "      <td>no_break</td>\n",
       "    </tr>\n",
       "    <tr>\n",
       "      <th>13</th>\n",
       "      <td>2011-09-12</td>\n",
       "      <td>LAX</td>\n",
       "      <td>ORD</td>\n",
       "      <td>12.807692</td>\n",
       "      <td>8.129055</td>\n",
       "      <td>3857799.0</td>\n",
       "      <td>23020.0</td>\n",
       "      <td>401.84</td>\n",
       "      <td>2714856.0</td>\n",
       "      <td>27008.0</td>\n",
       "      <td>385.05</td>\n",
       "      <td>0</td>\n",
       "      <td>no_break</td>\n",
       "    </tr>\n",
       "    <tr>\n",
       "      <th>14</th>\n",
       "      <td>2012-11-15</td>\n",
       "      <td>DFW</td>\n",
       "      <td>ORD</td>\n",
       "      <td>9.900000</td>\n",
       "      <td>6.608607</td>\n",
       "      <td>1241162.0</td>\n",
       "      <td>25103.0</td>\n",
       "      <td>430.71</td>\n",
       "      <td>2714856.0</td>\n",
       "      <td>27008.0</td>\n",
       "      <td>385.05</td>\n",
       "      <td>0</td>\n",
       "      <td>no_break</td>\n",
       "    </tr>\n",
       "    <tr>\n",
       "      <th>15</th>\n",
       "      <td>2012-03-04</td>\n",
       "      <td>ATL</td>\n",
       "      <td>DEN</td>\n",
       "      <td>10.565217</td>\n",
       "      <td>7.590820</td>\n",
       "      <td>448799.0</td>\n",
       "      <td>40937.0</td>\n",
       "      <td>365.82</td>\n",
       "      <td>2554343.0</td>\n",
       "      <td>24906.0</td>\n",
       "      <td>320.91</td>\n",
       "      <td>0</td>\n",
       "      <td>no_break</td>\n",
       "    </tr>\n",
       "    <tr>\n",
       "      <th>16</th>\n",
       "      <td>2012-01-10</td>\n",
       "      <td>ORD</td>\n",
       "      <td>PHX</td>\n",
       "      <td>13.760000</td>\n",
       "      <td>9.955233</td>\n",
       "      <td>2714856.0</td>\n",
       "      <td>27008.0</td>\n",
       "      <td>385.05</td>\n",
       "      <td>1488750.0</td>\n",
       "      <td>18439.0</td>\n",
       "      <td>331.83</td>\n",
       "      <td>0</td>\n",
       "      <td>no_break</td>\n",
       "    </tr>\n",
       "    <tr>\n",
       "      <th>17</th>\n",
       "      <td>2013-02-13</td>\n",
       "      <td>SEA</td>\n",
       "      <td>SFO</td>\n",
       "      <td>7.000000</td>\n",
       "      <td>4.472136</td>\n",
       "      <td>636495.0</td>\n",
       "      <td>14538.0</td>\n",
       "      <td>382.80</td>\n",
       "      <td>825863.0</td>\n",
       "      <td>16737.0</td>\n",
       "      <td>408.14</td>\n",
       "      <td>0</td>\n",
       "      <td>no_break</td>\n",
       "    </tr>\n",
       "    <tr>\n",
       "      <th>18</th>\n",
       "      <td>2012-06-15</td>\n",
       "      <td>EWR</td>\n",
       "      <td>MCO</td>\n",
       "      <td>12.875000</td>\n",
       "      <td>9.665323</td>\n",
       "      <td>277590.0</td>\n",
       "      <td>11447.0</td>\n",
       "      <td>477.06</td>\n",
       "      <td>249930.0</td>\n",
       "      <td>15267.0</td>\n",
       "      <td>278.43</td>\n",
       "      <td>0</td>\n",
       "      <td>no_break</td>\n",
       "    </tr>\n",
       "    <tr>\n",
       "      <th>19</th>\n",
       "      <td>2012-02-03</td>\n",
       "      <td>ATL</td>\n",
       "      <td>MSP</td>\n",
       "      <td>9.842105</td>\n",
       "      <td>7.819230</td>\n",
       "      <td>448799.0</td>\n",
       "      <td>40937.0</td>\n",
       "      <td>365.82</td>\n",
       "      <td>392775.0</td>\n",
       "      <td>14835.0</td>\n",
       "      <td>437.25</td>\n",
       "      <td>0</td>\n",
       "      <td>no_break</td>\n",
       "    </tr>\n",
       "    <tr>\n",
       "      <th>20</th>\n",
       "      <td>2013-02-06</td>\n",
       "      <td>SFO</td>\n",
       "      <td>DEN</td>\n",
       "      <td>10.523810</td>\n",
       "      <td>7.138761</td>\n",
       "      <td>825863.0</td>\n",
       "      <td>16737.0</td>\n",
       "      <td>408.14</td>\n",
       "      <td>2554343.0</td>\n",
       "      <td>24906.0</td>\n",
       "      <td>320.91</td>\n",
       "      <td>0</td>\n",
       "      <td>no_break</td>\n",
       "    </tr>\n",
       "  </tbody>\n",
       "</table>\n",
       "</div>"
      ],
      "text/plain": [
       "   DateOfDeparture Departure Arrival  WeeksToDeparture   std_wtd  \\\n",
       "0       2012-06-19       ORD     DFW         12.875000  9.812647   \n",
       "1       2012-09-10       LAS     DEN         14.285714  9.466734   \n",
       "2       2012-10-05       DEN     LAX         10.863636  9.035883   \n",
       "3       2011-10-09       ATL     ORD         11.480000  7.990202   \n",
       "4       2012-02-21       DEN     SFO         11.450000  9.517159   \n",
       "5       2013-01-22       ATL     MCO         10.363636  8.232025   \n",
       "6       2011-10-20       SFO     LAS         15.266667  9.808277   \n",
       "7       2012-01-28       EWR     ORD          8.588235  6.165010   \n",
       "8       2012-05-27       ATL     CLT         10.238095  6.609877   \n",
       "9       2013-02-22       ATL     DEN          8.294118  5.542616   \n",
       "10      2012-04-25       ATL     MSP         12.600000  9.725396   \n",
       "11      2013-01-31       ORD     EWR          8.933333  9.407191   \n",
       "12      2012-06-23       IAH     LAX         13.629630  9.178353   \n",
       "13      2011-09-12       LAX     ORD         12.807692  8.129055   \n",
       "14      2012-11-15       DFW     ORD          9.900000  6.608607   \n",
       "15      2012-03-04       ATL     DEN         10.565217  7.590820   \n",
       "16      2012-01-10       ORD     PHX         13.760000  9.955233   \n",
       "17      2013-02-13       SEA     SFO          7.000000  4.472136   \n",
       "18      2012-06-15       EWR     MCO         12.875000  9.665323   \n",
       "19      2012-02-03       ATL     MSP          9.842105  7.819230   \n",
       "20      2013-02-06       SFO     DEN         10.523810  7.138761   \n",
       "\n",
       "    PopulationDeparture  NbPassengersDeparture  AverageFlightFareDeparture  \\\n",
       "0             2714856.0                27008.0                      385.05   \n",
       "1              593411.0                18381.0                      269.62   \n",
       "2             2554343.0                24906.0                      320.91   \n",
       "3              448799.0                40937.0                      365.82   \n",
       "4             2554343.0                24906.0                      320.91   \n",
       "5              448799.0                40937.0                      365.82   \n",
       "6              825863.0                16737.0                      408.14   \n",
       "7              277590.0                11447.0                      477.06   \n",
       "8              448799.0                40937.0                      365.82   \n",
       "9              448799.0                40937.0                      365.82   \n",
       "10             448799.0                40937.0                      365.82   \n",
       "11            2714856.0                27008.0                      385.05   \n",
       "12            2160821.0                 5032.0                      506.86   \n",
       "13            3857799.0                23020.0                      401.84   \n",
       "14            1241162.0                25103.0                      430.71   \n",
       "15             448799.0                40937.0                      365.82   \n",
       "16            2714856.0                27008.0                      385.05   \n",
       "17             636495.0                14538.0                      382.80   \n",
       "18             277590.0                11447.0                      477.06   \n",
       "19             448799.0                40937.0                      365.82   \n",
       "20             825863.0                16737.0                      408.14   \n",
       "\n",
       "    PopulationArrival  NbPassengersArrival  AverageFlightFareArrival  \\\n",
       "0           1241162.0              25103.0                    430.71   \n",
       "1           2554343.0              24906.0                    320.91   \n",
       "2           3857799.0              23020.0                    401.84   \n",
       "3           2714856.0              27008.0                    385.05   \n",
       "4            825863.0              16737.0                    408.14   \n",
       "5            249930.0              15267.0                    278.43   \n",
       "6            593411.0              18381.0                    269.62   \n",
       "7           2714856.0              27008.0                    385.05   \n",
       "8            775202.0              18568.0                    407.82   \n",
       "9           2554343.0              24906.0                    320.91   \n",
       "10           392775.0              14835.0                    437.25   \n",
       "11           277590.0              11447.0                    477.06   \n",
       "12          3857799.0              23020.0                    401.84   \n",
       "13          2714856.0              27008.0                    385.05   \n",
       "14          2714856.0              27008.0                    385.05   \n",
       "15          2554343.0              24906.0                    320.91   \n",
       "16          1488750.0              18439.0                    331.83   \n",
       "17           825863.0              16737.0                    408.14   \n",
       "18           249930.0              15267.0                    278.43   \n",
       "19           392775.0              14835.0                    437.25   \n",
       "20          2554343.0              24906.0                    320.91   \n",
       "\n",
       "    is_holidays      school_break  \n",
       "0             0          no_break  \n",
       "1             0          no_break  \n",
       "2             0          no_break  \n",
       "3             0          no_break  \n",
       "4             0  mid_winter_break  \n",
       "5             0          no_break  \n",
       "6             0          no_break  \n",
       "7             0          no_break  \n",
       "8             0          no_break  \n",
       "9             0          no_break  \n",
       "10            0      spring_break  \n",
       "11            0          no_break  \n",
       "12            0          no_break  \n",
       "13            0          no_break  \n",
       "14            0          no_break  \n",
       "15            0          no_break  \n",
       "16            0          no_break  \n",
       "17            0          no_break  \n",
       "18            0          no_break  \n",
       "19            0          no_break  \n",
       "20            0          no_break  "
      ]
     },
     "execution_count": 59,
     "metadata": {},
     "output_type": "execute_result"
    },
    {
     "data": {
      "application/javascript": [
       "\n",
       "            setTimeout(function() {\n",
       "                var nbb_cell_id = 59;\n",
       "                var nbb_unformatted_code = \"data_merger.fit_transform(X).head(21)\";\n",
       "                var nbb_formatted_code = \"data_merger.fit_transform(X).head(21)\";\n",
       "                var nbb_cells = Jupyter.notebook.get_cells();\n",
       "                for (var i = 0; i < nbb_cells.length; ++i) {\n",
       "                    if (nbb_cells[i].input_prompt_number == nbb_cell_id) {\n",
       "                        if (nbb_cells[i].get_text() == nbb_unformatted_code) {\n",
       "                             nbb_cells[i].set_text(nbb_formatted_code);\n",
       "                        }\n",
       "                        break;\n",
       "                    }\n",
       "                }\n",
       "            }, 500);\n",
       "            "
      ],
      "text/plain": [
       "<IPython.core.display.Javascript object>"
      ]
     },
     "metadata": {},
     "output_type": "display_data"
    }
   ],
   "source": [
    "data_merger.fit_transform(X).head(21)"
   ]
  },
  {
   "cell_type": "code",
   "execution_count": null,
   "metadata": {},
   "outputs": [],
   "source": [
    "X"
   ]
  },
  {
   "cell_type": "markdown",
   "metadata": {},
   "source": [
    "Use `FunctionTransformer` to make our function compatible with scikit-learn API:"
   ]
  },
  {
   "cell_type": "markdown",
   "metadata": {},
   "source": [
    "We can now assemble our pipeline using the same `data_merger` and `preprocessor` as above:"
   ]
  },
  {
   "cell_type": "code",
   "execution_count": 91,
   "metadata": {},
   "outputs": [
    {
     "data": {
      "application/javascript": [
       "\n",
       "            setTimeout(function() {\n",
       "                var nbb_cell_id = 91;\n",
       "                var nbb_unformatted_code = \"from sklearn.preprocessing import OrdinalEncoder\\nfrom sklearn.compose import make_column_transformer\\n\\ndate_encoder = FunctionTransformer(_encode_dates)\\ndate_cols = [\\\"DateOfDeparture\\\"]\\n\\ncategorical_encoder = OrdinalEncoder()\\ncategorical_cols = [\\\"Arrival\\\", \\\"Departure\\\", \\\"school_break\\\"]\\n\\npreprocessor = make_column_transformer(\\n    (date_encoder, date_cols),\\n    (categorical_encoder, categorical_cols),\\n    remainder=\\\"passthrough\\\",  # passthrough numerical columns as they are\\n)\";\n",
       "                var nbb_formatted_code = \"from sklearn.preprocessing import OrdinalEncoder\\nfrom sklearn.compose import make_column_transformer\\n\\ndate_encoder = FunctionTransformer(_encode_dates)\\ndate_cols = [\\\"DateOfDeparture\\\"]\\n\\ncategorical_encoder = OrdinalEncoder()\\ncategorical_cols = [\\\"Arrival\\\", \\\"Departure\\\", \\\"school_break\\\"]\\n\\npreprocessor = make_column_transformer(\\n    (date_encoder, date_cols),\\n    (categorical_encoder, categorical_cols),\\n    remainder=\\\"passthrough\\\",  # passthrough numerical columns as they are\\n)\";\n",
       "                var nbb_cells = Jupyter.notebook.get_cells();\n",
       "                for (var i = 0; i < nbb_cells.length; ++i) {\n",
       "                    if (nbb_cells[i].input_prompt_number == nbb_cell_id) {\n",
       "                        if (nbb_cells[i].get_text() == nbb_unformatted_code) {\n",
       "                             nbb_cells[i].set_text(nbb_formatted_code);\n",
       "                        }\n",
       "                        break;\n",
       "                    }\n",
       "                }\n",
       "            }, 500);\n",
       "            "
      ],
      "text/plain": [
       "<IPython.core.display.Javascript object>"
      ]
     },
     "metadata": {},
     "output_type": "display_data"
    }
   ],
   "source": [
    "from sklearn.preprocessing import OrdinalEncoder\n",
    "from sklearn.compose import make_column_transformer\n",
    "\n",
    "date_encoder = FunctionTransformer(_encode_dates)\n",
    "date_cols = [\"DateOfDeparture\"]\n",
    "\n",
    "categorical_encoder = OrdinalEncoder()\n",
    "categorical_cols = [\"Arrival\", \"Departure\", \"school_break\"]\n",
    "\n",
    "preprocessor = make_column_transformer(\n",
    "    (date_encoder, date_cols),\n",
    "    (categorical_encoder, categorical_cols),\n",
    "    remainder=\"passthrough\",  # passthrough numerical columns as they are\n",
    ")"
   ]
  },
  {
   "cell_type": "code",
   "execution_count": 92,
   "metadata": {},
   "outputs": [
    {
     "name": "stderr",
     "output_type": "stream",
     "text": [
      "submissions\\use_external_data\\estimator.py:18: FutureWarning: Series.dt.weekofyear and Series.dt.week have been deprecated.  Please use Series.dt.isocalendar().week instead.\n",
      "  \n"
     ]
    },
    {
     "data": {
      "text/plain": [
       "GridSearchCV(cv=5,\n",
       "             estimator=Pipeline(steps=[('merger',\n",
       "                                        FunctionTransformer(func=<function _merge_airport_data at 0x00000185E66B4EE8>)),\n",
       "                                       ('prep',\n",
       "                                        ColumnTransformer(remainder='passthrough',\n",
       "                                                          transformers=[('functiontransformer',\n",
       "                                                                         FunctionTransformer(func=<function _encode_dates at 0x00000185E50BA438>),\n",
       "                                                                         ['DateOfDeparture']),\n",
       "                                                                        ('ordinalencoder',\n",
       "                                                                         OrdinalEncoder(),\n",
       "                                                                         ['Arrival',\n",
       "                                                                          'Departure',\n",
       "                                                                          'school_break'])])),\n",
       "                                       ('rf', RandomForestRegressor())]),\n",
       "             n_jobs=-1,\n",
       "             param_grid={'rf__max_depth': [10, 20, 50],\n",
       "                         'rf__max_features': [2, 5, 7, 10],\n",
       "                         'rf__n_estimators': [30, 40, 100]},\n",
       "             scoring='neg_mean_absolute_error')"
      ]
     },
     "execution_count": 92,
     "metadata": {},
     "output_type": "execute_result"
    },
    {
     "data": {
      "application/javascript": [
       "\n",
       "            setTimeout(function() {\n",
       "                var nbb_cell_id = 92;\n",
       "                var nbb_unformatted_code = \"from sklearn.model_selection import GridSearchCV\\nfrom sklearn.pipeline import Pipeline\\n\\nparam_grid = {\\n    \\\"rf__n_estimators\\\": [30, 40, 100],\\n    \\\"rf__max_depth\\\": [10, 20, 50],\\n    \\\"rf__max_features\\\": [2, 5, 7, 10],\\n}  # Create a based model\\n\\npipeline = Pipeline(\\n    [(\\\"merger\\\", data_merger), (\\\"prep\\\", preprocessor), (\\\"rf\\\", RandomForestRegressor()),]\\n)\\n\\nCV = GridSearchCV(\\n    pipeline, param_grid, scoring=\\\"neg_mean_absolute_error\\\", n_jobs=-1, cv=5,\\n)\\nCV.fit(X, y)\";\n",
       "                var nbb_formatted_code = \"from sklearn.model_selection import GridSearchCV\\nfrom sklearn.pipeline import Pipeline\\n\\nparam_grid = {\\n    \\\"rf__n_estimators\\\": [30, 40, 100],\\n    \\\"rf__max_depth\\\": [10, 20, 50],\\n    \\\"rf__max_features\\\": [2, 5, 7, 10],\\n}  # Create a based model\\n\\npipeline = Pipeline(\\n    [(\\\"merger\\\", data_merger), (\\\"prep\\\", preprocessor), (\\\"rf\\\", RandomForestRegressor()),]\\n)\\n\\nCV = GridSearchCV(\\n    pipeline, param_grid, scoring=\\\"neg_mean_absolute_error\\\", n_jobs=-1, cv=5,\\n)\\nCV.fit(X, y)\";\n",
       "                var nbb_cells = Jupyter.notebook.get_cells();\n",
       "                for (var i = 0; i < nbb_cells.length; ++i) {\n",
       "                    if (nbb_cells[i].input_prompt_number == nbb_cell_id) {\n",
       "                        if (nbb_cells[i].get_text() == nbb_unformatted_code) {\n",
       "                             nbb_cells[i].set_text(nbb_formatted_code);\n",
       "                        }\n",
       "                        break;\n",
       "                    }\n",
       "                }\n",
       "            }, 500);\n",
       "            "
      ],
      "text/plain": [
       "<IPython.core.display.Javascript object>"
      ]
     },
     "metadata": {},
     "output_type": "display_data"
    }
   ],
   "source": [
    "from sklearn.model_selection import GridSearchCV\n",
    "from sklearn.pipeline import Pipeline\n",
    "\n",
    "param_grid = {\n",
    "    \"rf__n_estimators\": [30, 40, 100],\n",
    "    \"rf__max_depth\": [10, 20, 50],\n",
    "    \"rf__max_features\": [2, 5, 7, 10],\n",
    "}  # Create a based model\n",
    "\n",
    "pipeline = Pipeline(\n",
    "    [(\"merger\", data_merger), (\"prep\", preprocessor), (\"rf\", RandomForestRegressor()),]\n",
    ")\n",
    "\n",
    "CV = GridSearchCV(\n",
    "    pipeline, param_grid, scoring=\"neg_mean_absolute_error\", n_jobs=-1, cv=5,\n",
    ")\n",
    "CV.fit(X, y)"
   ]
  },
  {
   "cell_type": "code",
   "execution_count": 38,
   "metadata": {},
   "outputs": [
    {
     "ename": "NameError",
     "evalue": "name 'CV' is not defined",
     "output_type": "error",
     "traceback": [
      "\u001b[1;31m---------------------------------------------------------------------------\u001b[0m",
      "\u001b[1;31mNameError\u001b[0m                                 Traceback (most recent call last)",
      "\u001b[1;32m~\\Documents\\DSB\\MAP536 - Python for Data Science\\air_passengers_py4ds2020\\submissions\\use_external_data\\estimator.py\u001b[0m in \u001b[0;36m<module>\u001b[1;34m\u001b[0m\n\u001b[1;32m----> 1\u001b[1;33m \u001b[0mprint\u001b[0m\u001b[1;33m(\u001b[0m\u001b[0mCV\u001b[0m\u001b[1;33m.\u001b[0m\u001b[0mbest_estimator_\u001b[0m\u001b[1;33m)\u001b[0m\u001b[1;33m\u001b[0m\u001b[1;33m\u001b[0m\u001b[0m\n\u001b[0m\u001b[0;32m      2\u001b[0m \u001b[0mrmse_scores\u001b[0m \u001b[1;33m=\u001b[0m \u001b[0mnp\u001b[0m\u001b[1;33m.\u001b[0m\u001b[0msqrt\u001b[0m\u001b[1;33m(\u001b[0m\u001b[1;33m-\u001b[0m\u001b[0mCV\u001b[0m\u001b[1;33m.\u001b[0m\u001b[0mbest_score_\u001b[0m\u001b[1;33m)\u001b[0m\u001b[1;33m\u001b[0m\u001b[1;33m\u001b[0m\u001b[0m\n\u001b[0;32m      3\u001b[0m \u001b[0mrmse_scores\u001b[0m\u001b[1;33m\u001b[0m\u001b[1;33m\u001b[0m\u001b[0m\n",
      "\u001b[1;31mNameError\u001b[0m: name 'CV' is not defined"
     ]
    },
    {
     "data": {
      "application/javascript": [
       "\n",
       "            setTimeout(function() {\n",
       "                var nbb_cell_id = 38;\n",
       "                var nbb_unformatted_code = \"print(CV.best_estimator_)\\nrmse_scores = np.sqrt(-CV.best_score_)\\nrmse_scores\";\n",
       "                var nbb_formatted_code = \"print(CV.best_estimator_)\\nrmse_scores = np.sqrt(-CV.best_score_)\\nrmse_scores\";\n",
       "                var nbb_cells = Jupyter.notebook.get_cells();\n",
       "                for (var i = 0; i < nbb_cells.length; ++i) {\n",
       "                    if (nbb_cells[i].input_prompt_number == nbb_cell_id) {\n",
       "                        if (nbb_cells[i].get_text() == nbb_unformatted_code) {\n",
       "                             nbb_cells[i].set_text(nbb_formatted_code);\n",
       "                        }\n",
       "                        break;\n",
       "                    }\n",
       "                }\n",
       "            }, 500);\n",
       "            "
      ],
      "text/plain": [
       "<IPython.core.display.Javascript object>"
      ]
     },
     "metadata": {},
     "output_type": "display_data"
    }
   ],
   "source": [
    "print(CV.best_estimator_)\n",
    "rmse_scores = np.sqrt(-CV.best_score_)\n",
    "rmse_scores"
   ]
  },
  {
   "cell_type": "code",
   "execution_count": 90,
   "metadata": {},
   "outputs": [
    {
     "name": "stdout",
     "output_type": "stream",
     "text": [
      "RMSE: nan +/- nan\n"
     ]
    },
    {
     "data": {
      "application/javascript": [
       "\n",
       "            setTimeout(function() {\n",
       "                var nbb_cell_id = 90;\n",
       "                var nbb_unformatted_code = \"n_estimators = 100\\nmax_depth = 30\\nmax_features = 7\\n\\nregressor = RandomForestRegressor(\\n    n_estimators=n_estimators, max_depth=max_depth, max_features=max_features\\n)\\n\\npipeline = make_pipeline(data_merger, preprocessor, regressor)\\nscores = cross_val_score(pipeline, X, y, cv=5, scoring=\\\"neg_mean_squared_error\\\")\\nrmse_scores = np.sqrt(-scores)\\n\\nprint(f\\\"RMSE: {np.mean(rmse_scores):.4f} +/- {np.std(rmse_scores):.4f}\\\")\";\n",
       "                var nbb_formatted_code = \"n_estimators = 100\\nmax_depth = 30\\nmax_features = 7\\n\\nregressor = RandomForestRegressor(\\n    n_estimators=n_estimators, max_depth=max_depth, max_features=max_features\\n)\\n\\npipeline = make_pipeline(data_merger, preprocessor, regressor)\\nscores = cross_val_score(pipeline, X, y, cv=5, scoring=\\\"neg_mean_squared_error\\\")\\nrmse_scores = np.sqrt(-scores)\\n\\nprint(f\\\"RMSE: {np.mean(rmse_scores):.4f} +/- {np.std(rmse_scores):.4f}\\\")\";\n",
       "                var nbb_cells = Jupyter.notebook.get_cells();\n",
       "                for (var i = 0; i < nbb_cells.length; ++i) {\n",
       "                    if (nbb_cells[i].input_prompt_number == nbb_cell_id) {\n",
       "                        if (nbb_cells[i].get_text() == nbb_unformatted_code) {\n",
       "                             nbb_cells[i].set_text(nbb_formatted_code);\n",
       "                        }\n",
       "                        break;\n",
       "                    }\n",
       "                }\n",
       "            }, 500);\n",
       "            "
      ],
      "text/plain": [
       "<IPython.core.display.Javascript object>"
      ]
     },
     "metadata": {},
     "output_type": "display_data"
    }
   ],
   "source": [
    "n_estimators = 100\n",
    "max_depth = 30\n",
    "max_features = 7\n",
    "\n",
    "regressor = RandomForestRegressor(\n",
    "    n_estimators=n_estimators, max_depth=max_depth, max_features=max_features\n",
    ")\n",
    "\n",
    "pipeline = make_pipeline(data_merger, preprocessor, regressor)\n",
    "scores = cross_val_score(pipeline, X, y, cv=5, scoring=\"neg_mean_squared_error\")\n",
    "rmse_scores = np.sqrt(-scores)\n",
    "\n",
    "print(f\"RMSE: {np.mean(rmse_scores):.4f} +/- {np.std(rmse_scores):.4f}\")"
   ]
  },
  {
   "cell_type": "code",
   "execution_count": 78,
   "metadata": {},
   "outputs": [
    {
     "data": {
      "application/javascript": [
       "\n",
       "            setTimeout(function() {\n",
       "                var nbb_cell_id = 78;\n",
       "                var nbb_unformatted_code = \"from sklearn.kernel_ridge import KernelRidge\\nregressor = KernelRidge(alpha=1.0)\\npipeline = make_pipeline(data_merger, preprocessor, regressor)\";\n",
       "                var nbb_formatted_code = \"from sklearn.kernel_ridge import KernelRidge\\n\\nregressor = KernelRidge(alpha=1.0)\\npipeline = make_pipeline(data_merger, preprocessor, regressor)\";\n",
       "                var nbb_cells = Jupyter.notebook.get_cells();\n",
       "                for (var i = 0; i < nbb_cells.length; ++i) {\n",
       "                    if (nbb_cells[i].input_prompt_number == nbb_cell_id) {\n",
       "                        if (nbb_cells[i].get_text() == nbb_unformatted_code) {\n",
       "                             nbb_cells[i].set_text(nbb_formatted_code);\n",
       "                        }\n",
       "                        break;\n",
       "                    }\n",
       "                }\n",
       "            }, 500);\n",
       "            "
      ],
      "text/plain": [
       "<IPython.core.display.Javascript object>"
      ]
     },
     "metadata": {},
     "output_type": "display_data"
    }
   ],
   "source": [
    "from sklearn.kernel_ridge import KernelRidge\n",
    "\n",
    "regressor = KernelRidge(alpha=1.0)\n",
    "pipeline = make_pipeline(data_merger, preprocessor, regressor)"
   ]
  },
  {
   "cell_type": "code",
   "execution_count": 87,
   "metadata": {},
   "outputs": [
    {
     "data": {
      "application/javascript": [
       "\n",
       "            setTimeout(function() {\n",
       "                var nbb_cell_id = 87;\n",
       "                var nbb_unformatted_code = \"from xgboost import XGBRegressor\\n\\nregressor = XGBRegressor(objective=\\\"reg:squarederror\\\", n_estimators=1000)\\npipeline = make_pipeline(data_merger, preprocessor, regressor)\";\n",
       "                var nbb_formatted_code = \"from xgboost import XGBRegressor\\n\\nregressor = XGBRegressor(objective=\\\"reg:squarederror\\\", n_estimators=1000)\\npipeline = make_pipeline(data_merger, preprocessor, regressor)\";\n",
       "                var nbb_cells = Jupyter.notebook.get_cells();\n",
       "                for (var i = 0; i < nbb_cells.length; ++i) {\n",
       "                    if (nbb_cells[i].input_prompt_number == nbb_cell_id) {\n",
       "                        if (nbb_cells[i].get_text() == nbb_unformatted_code) {\n",
       "                             nbb_cells[i].set_text(nbb_formatted_code);\n",
       "                        }\n",
       "                        break;\n",
       "                    }\n",
       "                }\n",
       "            }, 500);\n",
       "            "
      ],
      "text/plain": [
       "<IPython.core.display.Javascript object>"
      ]
     },
     "metadata": {},
     "output_type": "display_data"
    }
   ],
   "source": [
    "from xgboost import XGBRegressor\n",
    "\n",
    "regressor = XGBRegressor(objective=\"reg:squarederror\", n_estimators=1000)\n",
    "pipeline = make_pipeline(data_merger, preprocessor, regressor)"
   ]
  },
  {
   "cell_type": "code",
   "execution_count": 88,
   "metadata": {},
   "outputs": [
    {
     "data": {
      "application/javascript": [
       "\n",
       "            setTimeout(function() {\n",
       "                var nbb_cell_id = 88;\n",
       "                var nbb_unformatted_code = \"regressor = XGBRegressor(\\n    objective=\\\"reg:squarederror\\\",\\n    max_depth=50,\\n    n_estimators=1000,\\n    min_child_weight=10,\\n    colsample_bytree=0.8,\\n    subsample=1,\\n    eta=0.01,\\n)\\npipeline = make_pipeline(data_merger, preprocessor, regressor)\";\n",
       "                var nbb_formatted_code = \"regressor = XGBRegressor(\\n    objective=\\\"reg:squarederror\\\",\\n    max_depth=50,\\n    n_estimators=1000,\\n    min_child_weight=10,\\n    colsample_bytree=0.8,\\n    subsample=1,\\n    eta=0.01,\\n)\\npipeline = make_pipeline(data_merger, preprocessor, regressor)\";\n",
       "                var nbb_cells = Jupyter.notebook.get_cells();\n",
       "                for (var i = 0; i < nbb_cells.length; ++i) {\n",
       "                    if (nbb_cells[i].input_prompt_number == nbb_cell_id) {\n",
       "                        if (nbb_cells[i].get_text() == nbb_unformatted_code) {\n",
       "                             nbb_cells[i].set_text(nbb_formatted_code);\n",
       "                        }\n",
       "                        break;\n",
       "                    }\n",
       "                }\n",
       "            }, 500);\n",
       "            "
      ],
      "text/plain": [
       "<IPython.core.display.Javascript object>"
      ]
     },
     "metadata": {},
     "output_type": "display_data"
    }
   ],
   "source": [
    "regressor = XGBRegressor(\n",
    "    objective=\"reg:squarederror\",\n",
    "    max_depth=50,\n",
    "    n_estimators=1000,\n",
    "    min_child_weight=10,\n",
    "    colsample_bytree=0.8,\n",
    "    subsample=1,\n",
    "    eta=0.01,\n",
    ")\n",
    "pipeline = make_pipeline(data_merger, preprocessor, regressor)"
   ]
  },
  {
   "cell_type": "code",
   "execution_count": 89,
   "metadata": {},
   "outputs": [
    {
     "name": "stdout",
     "output_type": "stream",
     "text": [
      "RMSE: nan +/- nan\n"
     ]
    },
    {
     "data": {
      "application/javascript": [
       "\n",
       "            setTimeout(function() {\n",
       "                var nbb_cell_id = 89;\n",
       "                var nbb_unformatted_code = \"scores = cross_val_score(pipeline, X, y, cv=5, scoring=\\\"neg_mean_squared_error\\\")\\nrmse_scores = np.sqrt(-scores)\\n\\nprint(f\\\"RMSE: {np.mean(rmse_scores):.4f} +/- {np.std(rmse_scores):.4f}\\\")\";\n",
       "                var nbb_formatted_code = \"scores = cross_val_score(pipeline, X, y, cv=5, scoring=\\\"neg_mean_squared_error\\\")\\nrmse_scores = np.sqrt(-scores)\\n\\nprint(f\\\"RMSE: {np.mean(rmse_scores):.4f} +/- {np.std(rmse_scores):.4f}\\\")\";\n",
       "                var nbb_cells = Jupyter.notebook.get_cells();\n",
       "                for (var i = 0; i < nbb_cells.length; ++i) {\n",
       "                    if (nbb_cells[i].input_prompt_number == nbb_cell_id) {\n",
       "                        if (nbb_cells[i].get_text() == nbb_unformatted_code) {\n",
       "                             nbb_cells[i].set_text(nbb_formatted_code);\n",
       "                        }\n",
       "                        break;\n",
       "                    }\n",
       "                }\n",
       "            }, 500);\n",
       "            "
      ],
      "text/plain": [
       "<IPython.core.display.Javascript object>"
      ]
     },
     "metadata": {},
     "output_type": "display_data"
    }
   ],
   "source": [
    "scores = cross_val_score(pipeline, X, y, cv=5, scoring=\"neg_mean_squared_error\")\n",
    "rmse_scores = np.sqrt(-scores)\n",
    "\n",
    "print(f\"RMSE: {np.mean(rmse_scores):.4f} +/- {np.std(rmse_scores):.4f}\")"
   ]
  },
  {
   "cell_type": "code",
   "execution_count": 57,
   "metadata": {},
   "outputs": [
    {
     "name": "stderr",
     "output_type": "stream",
     "text": [
      "submissions\\use_external_data\\estimator.py:18: FutureWarning: Series.dt.weekofyear and Series.dt.week have been deprecated.  Please use Series.dt.isocalendar().week instead.\n",
      "  \n"
     ]
    },
    {
     "data": {
      "text/plain": [
       "GridSearchCV(cv=5,\n",
       "             estimator=Pipeline(steps=[('merger',\n",
       "                                        FunctionTransformer(func=<function _merge_airport_data at 0x000002604EDC4F78>)),\n",
       "                                       ('prep',\n",
       "                                        ColumnTransformer(remainder='passthrough',\n",
       "                                                          transformers=[('functiontransformer',\n",
       "                                                                         FunctionTransformer(func=<function _encode_dates at 0x000002604EB1DD38>),\n",
       "                                                                         ['DateOfDeparture']),\n",
       "                                                                        ('ordinalencoder',\n",
       "                                                                         OrdinalEncoder(),\n",
       "                                                                         ['Arrival',\n",
       "                                                                          'Departure'])])),\n",
       "                                       ('xgb',\n",
       "                                        XGBRegressor(objective='reg:squarederror'))]),\n",
       "             n_jobs=-1,\n",
       "             param_grid={'xgb__max_depth': [10, 20, 50],\n",
       "                         'xgb__max_features': [2, 5, 7, 10],\n",
       "                         'xgb__n_estimators': [30, 40, 100]},\n",
       "             scoring='neg_mean_absolute_error')"
      ]
     },
     "execution_count": 57,
     "metadata": {},
     "output_type": "execute_result"
    },
    {
     "data": {
      "application/javascript": [
       "\n",
       "            setTimeout(function() {\n",
       "                var nbb_cell_id = 57;\n",
       "                var nbb_unformatted_code = \"\\n\\nparam_grid = {\\n    \\\"xgb__n_estimators\\\": [30, 40, 100],\\n    \\\"xgb__max_depth\\\": [10, 20, 50],\\n    \\\"xgb__max_features\\\": [2, 5, 7, 10],\\n}  # Create a based model\\n\\npipeline = Pipeline(\\n    [\\n        (\\\"merger\\\", data_merger),\\n        (\\\"prep\\\", preprocessor),\\n        (\\\"xgb\\\", XGBRegressor(objective=\\\"reg:squarederror\\\")),\\n    ]\\n)\\n\\nCV = GridSearchCV(\\n    pipeline, param_grid, scoring=\\\"neg_mean_absolute_error\\\", n_jobs=-1, cv=5,\\n)\\nCV.fit(X, y)\";\n",
       "                var nbb_formatted_code = \"param_grid = {\\n    \\\"xgb__n_estimators\\\": [30, 40, 100],\\n    \\\"xgb__max_depth\\\": [10, 20, 50],\\n    \\\"xgb__max_features\\\": [2, 5, 7, 10],\\n}  # Create a based model\\n\\npipeline = Pipeline(\\n    [\\n        (\\\"merger\\\", data_merger),\\n        (\\\"prep\\\", preprocessor),\\n        (\\\"xgb\\\", XGBRegressor(objective=\\\"reg:squarederror\\\")),\\n    ]\\n)\\n\\nCV = GridSearchCV(\\n    pipeline, param_grid, scoring=\\\"neg_mean_absolute_error\\\", n_jobs=-1, cv=5,\\n)\\nCV.fit(X, y)\";\n",
       "                var nbb_cells = Jupyter.notebook.get_cells();\n",
       "                for (var i = 0; i < nbb_cells.length; ++i) {\n",
       "                    if (nbb_cells[i].input_prompt_number == nbb_cell_id) {\n",
       "                        if (nbb_cells[i].get_text() == nbb_unformatted_code) {\n",
       "                             nbb_cells[i].set_text(nbb_formatted_code);\n",
       "                        }\n",
       "                        break;\n",
       "                    }\n",
       "                }\n",
       "            }, 500);\n",
       "            "
      ],
      "text/plain": [
       "<IPython.core.display.Javascript object>"
      ]
     },
     "metadata": {},
     "output_type": "display_data"
    }
   ],
   "source": [
    "param_grid = {\n",
    "    \"xgb__n_estimators\": [30, 40, 100],\n",
    "    \"xgb__max_depth\": [10, 20, 50],\n",
    "    \"xgb__max_features\": [2, 5, 7, 10],\n",
    "}  # Create a based model\n",
    "\n",
    "pipeline = Pipeline(\n",
    "    [\n",
    "        (\"merger\", data_merger),\n",
    "        (\"prep\", preprocessor),\n",
    "        (\"xgb\", XGBRegressor(objective=\"reg:squarederror\")),\n",
    "    ]\n",
    ")\n",
    "\n",
    "CV = GridSearchCV(\n",
    "    pipeline, param_grid, scoring=\"neg_mean_absolute_error\", n_jobs=-1, cv=5,\n",
    ")\n",
    "CV.fit(X, y)"
   ]
  },
  {
   "cell_type": "code",
   "execution_count": 58,
   "metadata": {},
   "outputs": [
    {
     "data": {
      "application/javascript": [
       "\n",
       "            setTimeout(function() {\n",
       "                var nbb_cell_id = 58;\n",
       "                var nbb_unformatted_code = \"from sklearn.gaussian_process import GaussianProcessRegressor\\nfrom sklearn.gaussian_process.kernels import RBF, ConstantKernel as C\\n\\nkernel = C(1.0, (1e-6, 1e-3, 1e-2, 1e2, 1e3)) * RBF(10, (1e-2, 1e2))\\nregressor = GaussianProcessRegressor(kernel=kernel, n_restarts_optimizer=9)\\npipeline = make_pipeline(data_merger, preprocessor, regressor)\";\n",
       "                var nbb_formatted_code = \"from sklearn.gaussian_process import GaussianProcessRegressor\\nfrom sklearn.gaussian_process.kernels import RBF, ConstantKernel as C\\n\\nkernel = C(1.0, (1e-6, 1e-3, 1e-2, 1e2, 1e3)) * RBF(10, (1e-2, 1e2))\\nregressor = GaussianProcessRegressor(kernel=kernel, n_restarts_optimizer=9)\\npipeline = make_pipeline(data_merger, preprocessor, regressor)\";\n",
       "                var nbb_cells = Jupyter.notebook.get_cells();\n",
       "                for (var i = 0; i < nbb_cells.length; ++i) {\n",
       "                    if (nbb_cells[i].input_prompt_number == nbb_cell_id) {\n",
       "                        if (nbb_cells[i].get_text() == nbb_unformatted_code) {\n",
       "                             nbb_cells[i].set_text(nbb_formatted_code);\n",
       "                        }\n",
       "                        break;\n",
       "                    }\n",
       "                }\n",
       "            }, 500);\n",
       "            "
      ],
      "text/plain": [
       "<IPython.core.display.Javascript object>"
      ]
     },
     "metadata": {},
     "output_type": "display_data"
    }
   ],
   "source": [
    "from sklearn.gaussian_process import GaussianProcessRegressor\n",
    "from sklearn.gaussian_process.kernels import RBF, ConstantKernel as C\n",
    "\n",
    "kernel = C(1.0, (1e-6, 1e-3, 1e-2, 1e2, 1e3)) * RBF(10, (1e-2, 1e2))\n",
    "regressor = GaussianProcessRegressor(kernel=kernel, n_restarts_optimizer=9)\n",
    "pipeline = make_pipeline(data_merger, preprocessor, regressor)"
   ]
  },
  {
   "cell_type": "code",
   "execution_count": 62,
   "metadata": {},
   "outputs": [
    {
     "data": {
      "application/javascript": [
       "\n",
       "            setTimeout(function() {\n",
       "                var nbb_cell_id = 62;\n",
       "                var nbb_unformatted_code = \"from sklearn.neural_network import MLPRegressor\\n\\nregressor = MLPRegressor(random_state=1, max_iter=500)\\npipeline = make_pipeline(data_merger, preprocessor, regressor)\";\n",
       "                var nbb_formatted_code = \"from sklearn.neural_network import MLPRegressor\\n\\nregressor = MLPRegressor(random_state=1, max_iter=500)\\npipeline = make_pipeline(data_merger, preprocessor, regressor)\";\n",
       "                var nbb_cells = Jupyter.notebook.get_cells();\n",
       "                for (var i = 0; i < nbb_cells.length; ++i) {\n",
       "                    if (nbb_cells[i].input_prompt_number == nbb_cell_id) {\n",
       "                        if (nbb_cells[i].get_text() == nbb_unformatted_code) {\n",
       "                             nbb_cells[i].set_text(nbb_formatted_code);\n",
       "                        }\n",
       "                        break;\n",
       "                    }\n",
       "                }\n",
       "            }, 500);\n",
       "            "
      ],
      "text/plain": [
       "<IPython.core.display.Javascript object>"
      ]
     },
     "metadata": {},
     "output_type": "display_data"
    }
   ],
   "source": [
    "from sklearn.neural_network import MLPRegressor\n",
    "\n",
    "regressor = MLPRegressor(random_state=1, max_iter=500)\n",
    "pipeline = make_pipeline(data_merger, preprocessor, regressor)"
   ]
  },
  {
   "cell_type": "code",
   "execution_count": 63,
   "metadata": {},
   "outputs": [
    {
     "name": "stderr",
     "output_type": "stream",
     "text": [
      "submissions\\use_external_data\\estimator.py:18: FutureWarning: Series.dt.weekofyear and Series.dt.week have been deprecated.  Please use Series.dt.isocalendar().week instead.\n",
      "  \n",
      "submissions\\use_external_data\\estimator.py:18: FutureWarning: Series.dt.weekofyear and Series.dt.week have been deprecated.  Please use Series.dt.isocalendar().week instead.\n",
      "  \n",
      "submissions\\use_external_data\\estimator.py:18: FutureWarning: Series.dt.weekofyear and Series.dt.week have been deprecated.  Please use Series.dt.isocalendar().week instead.\n",
      "  \n",
      "submissions\\use_external_data\\estimator.py:18: FutureWarning: Series.dt.weekofyear and Series.dt.week have been deprecated.  Please use Series.dt.isocalendar().week instead.\n",
      "  \n",
      "submissions\\use_external_data\\estimator.py:18: FutureWarning: Series.dt.weekofyear and Series.dt.week have been deprecated.  Please use Series.dt.isocalendar().week instead.\n",
      "  \n",
      "submissions\\use_external_data\\estimator.py:18: FutureWarning: Series.dt.weekofyear and Series.dt.week have been deprecated.  Please use Series.dt.isocalendar().week instead.\n",
      "  \n",
      "submissions\\use_external_data\\estimator.py:18: FutureWarning: Series.dt.weekofyear and Series.dt.week have been deprecated.  Please use Series.dt.isocalendar().week instead.\n",
      "  \n",
      "submissions\\use_external_data\\estimator.py:18: FutureWarning: Series.dt.weekofyear and Series.dt.week have been deprecated.  Please use Series.dt.isocalendar().week instead.\n",
      "  \n",
      "submissions\\use_external_data\\estimator.py:18: FutureWarning: Series.dt.weekofyear and Series.dt.week have been deprecated.  Please use Series.dt.isocalendar().week instead.\n",
      "  \n",
      "submissions\\use_external_data\\estimator.py:18: FutureWarning: Series.dt.weekofyear and Series.dt.week have been deprecated.  Please use Series.dt.isocalendar().week instead.\n",
      "  \n"
     ]
    },
    {
     "name": "stdout",
     "output_type": "stream",
     "text": [
      "RMSE: 1605.2534 +/- 1182.3040\n"
     ]
    },
    {
     "data": {
      "application/javascript": [
       "\n",
       "            setTimeout(function() {\n",
       "                var nbb_cell_id = 63;\n",
       "                var nbb_unformatted_code = \"scores = cross_val_score(pipeline, X, y, cv=5, scoring=\\\"neg_mean_squared_error\\\")\\nrmse_scores = np.sqrt(-scores)\\n\\nprint(f\\\"RMSE: {np.mean(rmse_scores):.4f} +/- {np.std(rmse_scores):.4f}\\\")\";\n",
       "                var nbb_formatted_code = \"scores = cross_val_score(pipeline, X, y, cv=5, scoring=\\\"neg_mean_squared_error\\\")\\nrmse_scores = np.sqrt(-scores)\\n\\nprint(f\\\"RMSE: {np.mean(rmse_scores):.4f} +/- {np.std(rmse_scores):.4f}\\\")\";\n",
       "                var nbb_cells = Jupyter.notebook.get_cells();\n",
       "                for (var i = 0; i < nbb_cells.length; ++i) {\n",
       "                    if (nbb_cells[i].input_prompt_number == nbb_cell_id) {\n",
       "                        if (nbb_cells[i].get_text() == nbb_unformatted_code) {\n",
       "                             nbb_cells[i].set_text(nbb_formatted_code);\n",
       "                        }\n",
       "                        break;\n",
       "                    }\n",
       "                }\n",
       "            }, 500);\n",
       "            "
      ],
      "text/plain": [
       "<IPython.core.display.Javascript object>"
      ]
     },
     "metadata": {},
     "output_type": "display_data"
    }
   ],
   "source": [
    "scores = cross_val_score(pipeline, X, y, cv=5, scoring=\"neg_mean_squared_error\")\n",
    "rmse_scores = np.sqrt(-scores)\n",
    "\n",
    "print(f\"RMSE: {np.mean(rmse_scores):.4f} +/- {np.std(rmse_scores):.4f}\")"
   ]
  },
  {
   "cell_type": "markdown",
   "metadata": {},
   "source": [
    "## Feature importances\n",
    "\n",
    "We can check the feature importances using the function [`sklearn.inspection.permutation_importances`](https://scikit-learn.org/stable/modules/generated/sklearn.inspection.permutation_importance.html). Since the first step of our pipeline adds the new external feature `Max TemperatureC`, we want to apply this transformation after adding `Max TemperatureC`, to check the importances of all features. Indeed, we can perform `sklearn.inspection.permutation_importances` at any stage of the pipeline, as we will see later on.\n",
    "\n",
    "\n",
    "The code below:\n",
    "\n",
    "* performs `transform` on the first step of the pipeline (`pipeline[0]`) producing the transformed train (`X_train_augmented`) and test (`X_test_augmented`) data\n",
    "* the transformed data is used to fit the pipeline from the second step onwards\n",
    "\n",
    "Note that pipelines can be sliced. `pipeline[0]` obtains the first step (tuple) of the pipeline. You can further slice to obtain either the transformer/estimator (first item in each tuple) or column list (second item within each tuple) inside each tuple. For example `pipeline[0][0]` obtains the transformer of the first step of the pipeline (first item of the first tuple)."
   ]
  },
  {
   "cell_type": "code",
   "execution_count": 62,
   "metadata": {},
   "outputs": [
    {
     "name": "stderr",
     "output_type": "stream",
     "text": [
      "submissions\\use_external_data\\estimator.py:18: FutureWarning: Series.dt.weekofyear and Series.dt.week have been deprecated.  Please use Series.dt.isocalendar().week instead.\n",
      "  \n",
      "submissions\\use_external_data\\estimator.py:18: FutureWarning: Series.dt.weekofyear and Series.dt.week have been deprecated.  Please use Series.dt.isocalendar().week instead.\n",
      "  \n"
     ]
    },
    {
     "data": {
      "text/plain": [
       "0.8129732058633796"
      ]
     },
     "execution_count": 62,
     "metadata": {},
     "output_type": "execute_result"
    },
    {
     "data": {
      "application/javascript": [
       "\n",
       "            setTimeout(function() {\n",
       "                var nbb_cell_id = 62;\n",
       "                var nbb_unformatted_code = \"from sklearn.model_selection import train_test_split\\n\\nX_train, X_test, y_train, y_test = train_test_split(X, y, random_state=42)\\n\\nmerger = pipeline[0]\\nX_train_augmented = merger.transform(X_train)\\nX_test_augmented = merger.transform(X_test)\\n\\npredictor = pipeline[1:]\\npredictor.fit(X_train_augmented, y_train).score(X_test_augmented, y_test)\";\n",
       "                var nbb_formatted_code = \"from sklearn.model_selection import train_test_split\\n\\nX_train, X_test, y_train, y_test = train_test_split(X, y, random_state=42)\\n\\nmerger = pipeline[0]\\nX_train_augmented = merger.transform(X_train)\\nX_test_augmented = merger.transform(X_test)\\n\\npredictor = pipeline[1:]\\npredictor.fit(X_train_augmented, y_train).score(X_test_augmented, y_test)\";\n",
       "                var nbb_cells = Jupyter.notebook.get_cells();\n",
       "                for (var i = 0; i < nbb_cells.length; ++i) {\n",
       "                    if (nbb_cells[i].input_prompt_number == nbb_cell_id) {\n",
       "                        if (nbb_cells[i].get_text() == nbb_unformatted_code) {\n",
       "                             nbb_cells[i].set_text(nbb_formatted_code);\n",
       "                        }\n",
       "                        break;\n",
       "                    }\n",
       "                }\n",
       "            }, 500);\n",
       "            "
      ],
      "text/plain": [
       "<IPython.core.display.Javascript object>"
      ]
     },
     "metadata": {},
     "output_type": "display_data"
    }
   ],
   "source": [
    "from sklearn.model_selection import train_test_split\n",
    "\n",
    "X_train, X_test, y_train, y_test = train_test_split(X, y, random_state=42)\n",
    "\n",
    "merger = pipeline[0]\n",
    "X_train_augmented = merger.transform(X_train)\n",
    "X_test_augmented = merger.transform(X_test)\n",
    "\n",
    "predictor = pipeline[1:]\n",
    "predictor.fit(X_train_augmented, y_train).score(X_test_augmented, y_test)"
   ]
  },
  {
   "cell_type": "markdown",
   "metadata": {},
   "source": [
    "With the fitted pipeline, we can now use `permutation_importance` to calculate feature importances:"
   ]
  },
  {
   "cell_type": "code",
   "execution_count": 72,
   "metadata": {},
   "outputs": [
    {
     "name": "stderr",
     "output_type": "stream",
     "text": [
      "submissions\\use_external_data\\estimator.py:18: FutureWarning: Series.dt.weekofyear and Series.dt.week have been deprecated.  Please use Series.dt.isocalendar().week instead.\n",
      "  \n",
      "submissions\\use_external_data\\estimator.py:18: FutureWarning: Series.dt.weekofyear and Series.dt.week have been deprecated.  Please use Series.dt.isocalendar().week instead.\n",
      "  \n",
      "submissions\\use_external_data\\estimator.py:18: FutureWarning: Series.dt.weekofyear and Series.dt.week have been deprecated.  Please use Series.dt.isocalendar().week instead.\n",
      "  \n",
      "submissions\\use_external_data\\estimator.py:18: FutureWarning: Series.dt.weekofyear and Series.dt.week have been deprecated.  Please use Series.dt.isocalendar().week instead.\n",
      "  \n",
      "submissions\\use_external_data\\estimator.py:18: FutureWarning: Series.dt.weekofyear and Series.dt.week have been deprecated.  Please use Series.dt.isocalendar().week instead.\n",
      "  \n",
      "submissions\\use_external_data\\estimator.py:18: FutureWarning: Series.dt.weekofyear and Series.dt.week have been deprecated.  Please use Series.dt.isocalendar().week instead.\n",
      "  \n",
      "submissions\\use_external_data\\estimator.py:18: FutureWarning: Series.dt.weekofyear and Series.dt.week have been deprecated.  Please use Series.dt.isocalendar().week instead.\n",
      "  \n",
      "submissions\\use_external_data\\estimator.py:18: FutureWarning: Series.dt.weekofyear and Series.dt.week have been deprecated.  Please use Series.dt.isocalendar().week instead.\n",
      "  \n",
      "submissions\\use_external_data\\estimator.py:18: FutureWarning: Series.dt.weekofyear and Series.dt.week have been deprecated.  Please use Series.dt.isocalendar().week instead.\n",
      "  \n",
      "submissions\\use_external_data\\estimator.py:18: FutureWarning: Series.dt.weekofyear and Series.dt.week have been deprecated.  Please use Series.dt.isocalendar().week instead.\n",
      "  \n",
      "submissions\\use_external_data\\estimator.py:18: FutureWarning: Series.dt.weekofyear and Series.dt.week have been deprecated.  Please use Series.dt.isocalendar().week instead.\n",
      "  \n",
      "submissions\\use_external_data\\estimator.py:18: FutureWarning: Series.dt.weekofyear and Series.dt.week have been deprecated.  Please use Series.dt.isocalendar().week instead.\n",
      "  \n",
      "submissions\\use_external_data\\estimator.py:18: FutureWarning: Series.dt.weekofyear and Series.dt.week have been deprecated.  Please use Series.dt.isocalendar().week instead.\n",
      "  \n",
      "submissions\\use_external_data\\estimator.py:18: FutureWarning: Series.dt.weekofyear and Series.dt.week have been deprecated.  Please use Series.dt.isocalendar().week instead.\n",
      "  \n",
      "submissions\\use_external_data\\estimator.py:18: FutureWarning: Series.dt.weekofyear and Series.dt.week have been deprecated.  Please use Series.dt.isocalendar().week instead.\n",
      "  \n",
      "submissions\\use_external_data\\estimator.py:18: FutureWarning: Series.dt.weekofyear and Series.dt.week have been deprecated.  Please use Series.dt.isocalendar().week instead.\n",
      "  \n",
      "submissions\\use_external_data\\estimator.py:18: FutureWarning: Series.dt.weekofyear and Series.dt.week have been deprecated.  Please use Series.dt.isocalendar().week instead.\n",
      "  \n",
      "submissions\\use_external_data\\estimator.py:18: FutureWarning: Series.dt.weekofyear and Series.dt.week have been deprecated.  Please use Series.dt.isocalendar().week instead.\n",
      "  \n",
      "submissions\\use_external_data\\estimator.py:18: FutureWarning: Series.dt.weekofyear and Series.dt.week have been deprecated.  Please use Series.dt.isocalendar().week instead.\n",
      "  \n",
      "submissions\\use_external_data\\estimator.py:18: FutureWarning: Series.dt.weekofyear and Series.dt.week have been deprecated.  Please use Series.dt.isocalendar().week instead.\n",
      "  \n",
      "submissions\\use_external_data\\estimator.py:18: FutureWarning: Series.dt.weekofyear and Series.dt.week have been deprecated.  Please use Series.dt.isocalendar().week instead.\n",
      "  \n",
      "submissions\\use_external_data\\estimator.py:18: FutureWarning: Series.dt.weekofyear and Series.dt.week have been deprecated.  Please use Series.dt.isocalendar().week instead.\n",
      "  \n",
      "submissions\\use_external_data\\estimator.py:18: FutureWarning: Series.dt.weekofyear and Series.dt.week have been deprecated.  Please use Series.dt.isocalendar().week instead.\n",
      "  \n",
      "submissions\\use_external_data\\estimator.py:18: FutureWarning: Series.dt.weekofyear and Series.dt.week have been deprecated.  Please use Series.dt.isocalendar().week instead.\n",
      "  \n",
      "submissions\\use_external_data\\estimator.py:18: FutureWarning: Series.dt.weekofyear and Series.dt.week have been deprecated.  Please use Series.dt.isocalendar().week instead.\n",
      "  \n",
      "submissions\\use_external_data\\estimator.py:18: FutureWarning: Series.dt.weekofyear and Series.dt.week have been deprecated.  Please use Series.dt.isocalendar().week instead.\n",
      "  \n",
      "submissions\\use_external_data\\estimator.py:18: FutureWarning: Series.dt.weekofyear and Series.dt.week have been deprecated.  Please use Series.dt.isocalendar().week instead.\n",
      "  \n",
      "submissions\\use_external_data\\estimator.py:18: FutureWarning: Series.dt.weekofyear and Series.dt.week have been deprecated.  Please use Series.dt.isocalendar().week instead.\n",
      "  \n",
      "submissions\\use_external_data\\estimator.py:18: FutureWarning: Series.dt.weekofyear and Series.dt.week have been deprecated.  Please use Series.dt.isocalendar().week instead.\n",
      "  \n",
      "submissions\\use_external_data\\estimator.py:18: FutureWarning: Series.dt.weekofyear and Series.dt.week have been deprecated.  Please use Series.dt.isocalendar().week instead.\n",
      "  \n",
      "submissions\\use_external_data\\estimator.py:18: FutureWarning: Series.dt.weekofyear and Series.dt.week have been deprecated.  Please use Series.dt.isocalendar().week instead.\n",
      "  \n",
      "submissions\\use_external_data\\estimator.py:18: FutureWarning: Series.dt.weekofyear and Series.dt.week have been deprecated.  Please use Series.dt.isocalendar().week instead.\n",
      "  \n",
      "submissions\\use_external_data\\estimator.py:18: FutureWarning: Series.dt.weekofyear and Series.dt.week have been deprecated.  Please use Series.dt.isocalendar().week instead.\n",
      "  \n",
      "submissions\\use_external_data\\estimator.py:18: FutureWarning: Series.dt.weekofyear and Series.dt.week have been deprecated.  Please use Series.dt.isocalendar().week instead.\n",
      "  \n",
      "submissions\\use_external_data\\estimator.py:18: FutureWarning: Series.dt.weekofyear and Series.dt.week have been deprecated.  Please use Series.dt.isocalendar().week instead.\n",
      "  \n",
      "submissions\\use_external_data\\estimator.py:18: FutureWarning: Series.dt.weekofyear and Series.dt.week have been deprecated.  Please use Series.dt.isocalendar().week instead.\n",
      "  \n",
      "submissions\\use_external_data\\estimator.py:18: FutureWarning: Series.dt.weekofyear and Series.dt.week have been deprecated.  Please use Series.dt.isocalendar().week instead.\n",
      "  \n",
      "submissions\\use_external_data\\estimator.py:18: FutureWarning: Series.dt.weekofyear and Series.dt.week have been deprecated.  Please use Series.dt.isocalendar().week instead.\n",
      "  \n",
      "submissions\\use_external_data\\estimator.py:18: FutureWarning: Series.dt.weekofyear and Series.dt.week have been deprecated.  Please use Series.dt.isocalendar().week instead.\n",
      "  \n",
      "submissions\\use_external_data\\estimator.py:18: FutureWarning: Series.dt.weekofyear and Series.dt.week have been deprecated.  Please use Series.dt.isocalendar().week instead.\n",
      "  \n",
      "submissions\\use_external_data\\estimator.py:18: FutureWarning: Series.dt.weekofyear and Series.dt.week have been deprecated.  Please use Series.dt.isocalendar().week instead.\n",
      "  \n",
      "submissions\\use_external_data\\estimator.py:18: FutureWarning: Series.dt.weekofyear and Series.dt.week have been deprecated.  Please use Series.dt.isocalendar().week instead.\n",
      "  \n",
      "submissions\\use_external_data\\estimator.py:18: FutureWarning: Series.dt.weekofyear and Series.dt.week have been deprecated.  Please use Series.dt.isocalendar().week instead.\n",
      "  \n",
      "submissions\\use_external_data\\estimator.py:18: FutureWarning: Series.dt.weekofyear and Series.dt.week have been deprecated.  Please use Series.dt.isocalendar().week instead.\n",
      "  \n",
      "submissions\\use_external_data\\estimator.py:18: FutureWarning: Series.dt.weekofyear and Series.dt.week have been deprecated.  Please use Series.dt.isocalendar().week instead.\n",
      "  \n",
      "submissions\\use_external_data\\estimator.py:18: FutureWarning: Series.dt.weekofyear and Series.dt.week have been deprecated.  Please use Series.dt.isocalendar().week instead.\n",
      "  \n",
      "submissions\\use_external_data\\estimator.py:18: FutureWarning: Series.dt.weekofyear and Series.dt.week have been deprecated.  Please use Series.dt.isocalendar().week instead.\n",
      "  \n"
     ]
    },
    {
     "name": "stderr",
     "output_type": "stream",
     "text": [
      "submissions\\use_external_data\\estimator.py:18: FutureWarning: Series.dt.weekofyear and Series.dt.week have been deprecated.  Please use Series.dt.isocalendar().week instead.\n",
      "  \n",
      "submissions\\use_external_data\\estimator.py:18: FutureWarning: Series.dt.weekofyear and Series.dt.week have been deprecated.  Please use Series.dt.isocalendar().week instead.\n",
      "  \n",
      "submissions\\use_external_data\\estimator.py:18: FutureWarning: Series.dt.weekofyear and Series.dt.week have been deprecated.  Please use Series.dt.isocalendar().week instead.\n",
      "  \n",
      "submissions\\use_external_data\\estimator.py:18: FutureWarning: Series.dt.weekofyear and Series.dt.week have been deprecated.  Please use Series.dt.isocalendar().week instead.\n",
      "  \n",
      "submissions\\use_external_data\\estimator.py:18: FutureWarning: Series.dt.weekofyear and Series.dt.week have been deprecated.  Please use Series.dt.isocalendar().week instead.\n",
      "  \n",
      "submissions\\use_external_data\\estimator.py:18: FutureWarning: Series.dt.weekofyear and Series.dt.week have been deprecated.  Please use Series.dt.isocalendar().week instead.\n",
      "  \n",
      "submissions\\use_external_data\\estimator.py:18: FutureWarning: Series.dt.weekofyear and Series.dt.week have been deprecated.  Please use Series.dt.isocalendar().week instead.\n",
      "  \n",
      "submissions\\use_external_data\\estimator.py:18: FutureWarning: Series.dt.weekofyear and Series.dt.week have been deprecated.  Please use Series.dt.isocalendar().week instead.\n",
      "  \n",
      "submissions\\use_external_data\\estimator.py:18: FutureWarning: Series.dt.weekofyear and Series.dt.week have been deprecated.  Please use Series.dt.isocalendar().week instead.\n",
      "  \n",
      "submissions\\use_external_data\\estimator.py:18: FutureWarning: Series.dt.weekofyear and Series.dt.week have been deprecated.  Please use Series.dt.isocalendar().week instead.\n",
      "  \n",
      "submissions\\use_external_data\\estimator.py:18: FutureWarning: Series.dt.weekofyear and Series.dt.week have been deprecated.  Please use Series.dt.isocalendar().week instead.\n",
      "  \n",
      "submissions\\use_external_data\\estimator.py:18: FutureWarning: Series.dt.weekofyear and Series.dt.week have been deprecated.  Please use Series.dt.isocalendar().week instead.\n",
      "  \n",
      "submissions\\use_external_data\\estimator.py:18: FutureWarning: Series.dt.weekofyear and Series.dt.week have been deprecated.  Please use Series.dt.isocalendar().week instead.\n",
      "  \n",
      "submissions\\use_external_data\\estimator.py:18: FutureWarning: Series.dt.weekofyear and Series.dt.week have been deprecated.  Please use Series.dt.isocalendar().week instead.\n",
      "  \n",
      "submissions\\use_external_data\\estimator.py:18: FutureWarning: Series.dt.weekofyear and Series.dt.week have been deprecated.  Please use Series.dt.isocalendar().week instead.\n",
      "  \n",
      "submissions\\use_external_data\\estimator.py:18: FutureWarning: Series.dt.weekofyear and Series.dt.week have been deprecated.  Please use Series.dt.isocalendar().week instead.\n",
      "  \n",
      "submissions\\use_external_data\\estimator.py:18: FutureWarning: Series.dt.weekofyear and Series.dt.week have been deprecated.  Please use Series.dt.isocalendar().week instead.\n",
      "  \n",
      "submissions\\use_external_data\\estimator.py:18: FutureWarning: Series.dt.weekofyear and Series.dt.week have been deprecated.  Please use Series.dt.isocalendar().week instead.\n",
      "  \n",
      "submissions\\use_external_data\\estimator.py:18: FutureWarning: Series.dt.weekofyear and Series.dt.week have been deprecated.  Please use Series.dt.isocalendar().week instead.\n",
      "  \n",
      "submissions\\use_external_data\\estimator.py:18: FutureWarning: Series.dt.weekofyear and Series.dt.week have been deprecated.  Please use Series.dt.isocalendar().week instead.\n",
      "  \n",
      "submissions\\use_external_data\\estimator.py:18: FutureWarning: Series.dt.weekofyear and Series.dt.week have been deprecated.  Please use Series.dt.isocalendar().week instead.\n",
      "  \n",
      "submissions\\use_external_data\\estimator.py:18: FutureWarning: Series.dt.weekofyear and Series.dt.week have been deprecated.  Please use Series.dt.isocalendar().week instead.\n",
      "  \n",
      "submissions\\use_external_data\\estimator.py:18: FutureWarning: Series.dt.weekofyear and Series.dt.week have been deprecated.  Please use Series.dt.isocalendar().week instead.\n",
      "  \n",
      "submissions\\use_external_data\\estimator.py:18: FutureWarning: Series.dt.weekofyear and Series.dt.week have been deprecated.  Please use Series.dt.isocalendar().week instead.\n",
      "  \n",
      "submissions\\use_external_data\\estimator.py:18: FutureWarning: Series.dt.weekofyear and Series.dt.week have been deprecated.  Please use Series.dt.isocalendar().week instead.\n",
      "  \n",
      "submissions\\use_external_data\\estimator.py:18: FutureWarning: Series.dt.weekofyear and Series.dt.week have been deprecated.  Please use Series.dt.isocalendar().week instead.\n",
      "  \n",
      "submissions\\use_external_data\\estimator.py:18: FutureWarning: Series.dt.weekofyear and Series.dt.week have been deprecated.  Please use Series.dt.isocalendar().week instead.\n",
      "  \n",
      "submissions\\use_external_data\\estimator.py:18: FutureWarning: Series.dt.weekofyear and Series.dt.week have been deprecated.  Please use Series.dt.isocalendar().week instead.\n",
      "  \n",
      "submissions\\use_external_data\\estimator.py:18: FutureWarning: Series.dt.weekofyear and Series.dt.week have been deprecated.  Please use Series.dt.isocalendar().week instead.\n",
      "  \n",
      "submissions\\use_external_data\\estimator.py:18: FutureWarning: Series.dt.weekofyear and Series.dt.week have been deprecated.  Please use Series.dt.isocalendar().week instead.\n",
      "  \n",
      "submissions\\use_external_data\\estimator.py:18: FutureWarning: Series.dt.weekofyear and Series.dt.week have been deprecated.  Please use Series.dt.isocalendar().week instead.\n",
      "  \n",
      "submissions\\use_external_data\\estimator.py:18: FutureWarning: Series.dt.weekofyear and Series.dt.week have been deprecated.  Please use Series.dt.isocalendar().week instead.\n",
      "  \n",
      "submissions\\use_external_data\\estimator.py:18: FutureWarning: Series.dt.weekofyear and Series.dt.week have been deprecated.  Please use Series.dt.isocalendar().week instead.\n",
      "  \n",
      "submissions\\use_external_data\\estimator.py:18: FutureWarning: Series.dt.weekofyear and Series.dt.week have been deprecated.  Please use Series.dt.isocalendar().week instead.\n",
      "  \n",
      "submissions\\use_external_data\\estimator.py:18: FutureWarning: Series.dt.weekofyear and Series.dt.week have been deprecated.  Please use Series.dt.isocalendar().week instead.\n",
      "  \n",
      "submissions\\use_external_data\\estimator.py:18: FutureWarning: Series.dt.weekofyear and Series.dt.week have been deprecated.  Please use Series.dt.isocalendar().week instead.\n",
      "  \n",
      "submissions\\use_external_data\\estimator.py:18: FutureWarning: Series.dt.weekofyear and Series.dt.week have been deprecated.  Please use Series.dt.isocalendar().week instead.\n",
      "  \n",
      "submissions\\use_external_data\\estimator.py:18: FutureWarning: Series.dt.weekofyear and Series.dt.week have been deprecated.  Please use Series.dt.isocalendar().week instead.\n",
      "  \n",
      "submissions\\use_external_data\\estimator.py:18: FutureWarning: Series.dt.weekofyear and Series.dt.week have been deprecated.  Please use Series.dt.isocalendar().week instead.\n",
      "  \n",
      "submissions\\use_external_data\\estimator.py:18: FutureWarning: Series.dt.weekofyear and Series.dt.week have been deprecated.  Please use Series.dt.isocalendar().week instead.\n",
      "  \n",
      "submissions\\use_external_data\\estimator.py:18: FutureWarning: Series.dt.weekofyear and Series.dt.week have been deprecated.  Please use Series.dt.isocalendar().week instead.\n",
      "  \n",
      "submissions\\use_external_data\\estimator.py:18: FutureWarning: Series.dt.weekofyear and Series.dt.week have been deprecated.  Please use Series.dt.isocalendar().week instead.\n",
      "  \n",
      "submissions\\use_external_data\\estimator.py:18: FutureWarning: Series.dt.weekofyear and Series.dt.week have been deprecated.  Please use Series.dt.isocalendar().week instead.\n",
      "  \n",
      "submissions\\use_external_data\\estimator.py:18: FutureWarning: Series.dt.weekofyear and Series.dt.week have been deprecated.  Please use Series.dt.isocalendar().week instead.\n",
      "  \n",
      "submissions\\use_external_data\\estimator.py:18: FutureWarning: Series.dt.weekofyear and Series.dt.week have been deprecated.  Please use Series.dt.isocalendar().week instead.\n",
      "  \n",
      "submissions\\use_external_data\\estimator.py:18: FutureWarning: Series.dt.weekofyear and Series.dt.week have been deprecated.  Please use Series.dt.isocalendar().week instead.\n",
      "  \n",
      "submissions\\use_external_data\\estimator.py:18: FutureWarning: Series.dt.weekofyear and Series.dt.week have been deprecated.  Please use Series.dt.isocalendar().week instead.\n",
      "  \n"
     ]
    },
    {
     "name": "stderr",
     "output_type": "stream",
     "text": [
      "submissions\\use_external_data\\estimator.py:18: FutureWarning: Series.dt.weekofyear and Series.dt.week have been deprecated.  Please use Series.dt.isocalendar().week instead.\n",
      "  \n",
      "submissions\\use_external_data\\estimator.py:18: FutureWarning: Series.dt.weekofyear and Series.dt.week have been deprecated.  Please use Series.dt.isocalendar().week instead.\n",
      "  \n",
      "submissions\\use_external_data\\estimator.py:18: FutureWarning: Series.dt.weekofyear and Series.dt.week have been deprecated.  Please use Series.dt.isocalendar().week instead.\n",
      "  \n",
      "submissions\\use_external_data\\estimator.py:18: FutureWarning: Series.dt.weekofyear and Series.dt.week have been deprecated.  Please use Series.dt.isocalendar().week instead.\n",
      "  \n",
      "submissions\\use_external_data\\estimator.py:18: FutureWarning: Series.dt.weekofyear and Series.dt.week have been deprecated.  Please use Series.dt.isocalendar().week instead.\n",
      "  \n",
      "submissions\\use_external_data\\estimator.py:18: FutureWarning: Series.dt.weekofyear and Series.dt.week have been deprecated.  Please use Series.dt.isocalendar().week instead.\n",
      "  \n",
      "submissions\\use_external_data\\estimator.py:18: FutureWarning: Series.dt.weekofyear and Series.dt.week have been deprecated.  Please use Series.dt.isocalendar().week instead.\n",
      "  \n",
      "submissions\\use_external_data\\estimator.py:18: FutureWarning: Series.dt.weekofyear and Series.dt.week have been deprecated.  Please use Series.dt.isocalendar().week instead.\n",
      "  \n",
      "submissions\\use_external_data\\estimator.py:18: FutureWarning: Series.dt.weekofyear and Series.dt.week have been deprecated.  Please use Series.dt.isocalendar().week instead.\n",
      "  \n",
      "submissions\\use_external_data\\estimator.py:18: FutureWarning: Series.dt.weekofyear and Series.dt.week have been deprecated.  Please use Series.dt.isocalendar().week instead.\n",
      "  \n",
      "submissions\\use_external_data\\estimator.py:18: FutureWarning: Series.dt.weekofyear and Series.dt.week have been deprecated.  Please use Series.dt.isocalendar().week instead.\n",
      "  \n",
      "submissions\\use_external_data\\estimator.py:18: FutureWarning: Series.dt.weekofyear and Series.dt.week have been deprecated.  Please use Series.dt.isocalendar().week instead.\n",
      "  \n",
      "submissions\\use_external_data\\estimator.py:18: FutureWarning: Series.dt.weekofyear and Series.dt.week have been deprecated.  Please use Series.dt.isocalendar().week instead.\n",
      "  \n",
      "submissions\\use_external_data\\estimator.py:18: FutureWarning: Series.dt.weekofyear and Series.dt.week have been deprecated.  Please use Series.dt.isocalendar().week instead.\n",
      "  \n",
      "submissions\\use_external_data\\estimator.py:18: FutureWarning: Series.dt.weekofyear and Series.dt.week have been deprecated.  Please use Series.dt.isocalendar().week instead.\n",
      "  \n",
      "submissions\\use_external_data\\estimator.py:18: FutureWarning: Series.dt.weekofyear and Series.dt.week have been deprecated.  Please use Series.dt.isocalendar().week instead.\n",
      "  \n",
      "submissions\\use_external_data\\estimator.py:18: FutureWarning: Series.dt.weekofyear and Series.dt.week have been deprecated.  Please use Series.dt.isocalendar().week instead.\n",
      "  \n",
      "submissions\\use_external_data\\estimator.py:18: FutureWarning: Series.dt.weekofyear and Series.dt.week have been deprecated.  Please use Series.dt.isocalendar().week instead.\n",
      "  \n",
      "submissions\\use_external_data\\estimator.py:18: FutureWarning: Series.dt.weekofyear and Series.dt.week have been deprecated.  Please use Series.dt.isocalendar().week instead.\n",
      "  \n",
      "submissions\\use_external_data\\estimator.py:18: FutureWarning: Series.dt.weekofyear and Series.dt.week have been deprecated.  Please use Series.dt.isocalendar().week instead.\n",
      "  \n",
      "submissions\\use_external_data\\estimator.py:18: FutureWarning: Series.dt.weekofyear and Series.dt.week have been deprecated.  Please use Series.dt.isocalendar().week instead.\n",
      "  \n",
      "submissions\\use_external_data\\estimator.py:18: FutureWarning: Series.dt.weekofyear and Series.dt.week have been deprecated.  Please use Series.dt.isocalendar().week instead.\n",
      "  \n",
      "submissions\\use_external_data\\estimator.py:18: FutureWarning: Series.dt.weekofyear and Series.dt.week have been deprecated.  Please use Series.dt.isocalendar().week instead.\n",
      "  \n",
      "submissions\\use_external_data\\estimator.py:18: FutureWarning: Series.dt.weekofyear and Series.dt.week have been deprecated.  Please use Series.dt.isocalendar().week instead.\n",
      "  \n",
      "submissions\\use_external_data\\estimator.py:18: FutureWarning: Series.dt.weekofyear and Series.dt.week have been deprecated.  Please use Series.dt.isocalendar().week instead.\n",
      "  \n",
      "submissions\\use_external_data\\estimator.py:18: FutureWarning: Series.dt.weekofyear and Series.dt.week have been deprecated.  Please use Series.dt.isocalendar().week instead.\n",
      "  \n",
      "submissions\\use_external_data\\estimator.py:18: FutureWarning: Series.dt.weekofyear and Series.dt.week have been deprecated.  Please use Series.dt.isocalendar().week instead.\n",
      "  \n",
      "submissions\\use_external_data\\estimator.py:18: FutureWarning: Series.dt.weekofyear and Series.dt.week have been deprecated.  Please use Series.dt.isocalendar().week instead.\n",
      "  \n",
      "submissions\\use_external_data\\estimator.py:18: FutureWarning: Series.dt.weekofyear and Series.dt.week have been deprecated.  Please use Series.dt.isocalendar().week instead.\n",
      "  \n",
      "submissions\\use_external_data\\estimator.py:18: FutureWarning: Series.dt.weekofyear and Series.dt.week have been deprecated.  Please use Series.dt.isocalendar().week instead.\n",
      "  \n",
      "submissions\\use_external_data\\estimator.py:18: FutureWarning: Series.dt.weekofyear and Series.dt.week have been deprecated.  Please use Series.dt.isocalendar().week instead.\n",
      "  \n",
      "submissions\\use_external_data\\estimator.py:18: FutureWarning: Series.dt.weekofyear and Series.dt.week have been deprecated.  Please use Series.dt.isocalendar().week instead.\n",
      "  \n",
      "submissions\\use_external_data\\estimator.py:18: FutureWarning: Series.dt.weekofyear and Series.dt.week have been deprecated.  Please use Series.dt.isocalendar().week instead.\n",
      "  \n",
      "submissions\\use_external_data\\estimator.py:18: FutureWarning: Series.dt.weekofyear and Series.dt.week have been deprecated.  Please use Series.dt.isocalendar().week instead.\n",
      "  \n",
      "submissions\\use_external_data\\estimator.py:18: FutureWarning: Series.dt.weekofyear and Series.dt.week have been deprecated.  Please use Series.dt.isocalendar().week instead.\n",
      "  \n",
      "submissions\\use_external_data\\estimator.py:18: FutureWarning: Series.dt.weekofyear and Series.dt.week have been deprecated.  Please use Series.dt.isocalendar().week instead.\n",
      "  \n",
      "submissions\\use_external_data\\estimator.py:18: FutureWarning: Series.dt.weekofyear and Series.dt.week have been deprecated.  Please use Series.dt.isocalendar().week instead.\n",
      "  \n"
     ]
    },
    {
     "data": {
      "application/javascript": [
       "\n",
       "            setTimeout(function() {\n",
       "                var nbb_cell_id = 72;\n",
       "                var nbb_unformatted_code = \"from sklearn.inspection import permutation_importance\\n\\nfeature_importances = permutation_importance(\\n    predictor, X_train_augmented, y_train, n_repeats=10\\n)\";\n",
       "                var nbb_formatted_code = \"from sklearn.inspection import permutation_importance\\n\\nfeature_importances = permutation_importance(\\n    predictor, X_train_augmented, y_train, n_repeats=10\\n)\";\n",
       "                var nbb_cells = Jupyter.notebook.get_cells();\n",
       "                for (var i = 0; i < nbb_cells.length; ++i) {\n",
       "                    if (nbb_cells[i].input_prompt_number == nbb_cell_id) {\n",
       "                        if (nbb_cells[i].get_text() == nbb_unformatted_code) {\n",
       "                             nbb_cells[i].set_text(nbb_formatted_code);\n",
       "                        }\n",
       "                        break;\n",
       "                    }\n",
       "                }\n",
       "            }, 500);\n",
       "            "
      ],
      "text/plain": [
       "<IPython.core.display.Javascript object>"
      ]
     },
     "metadata": {},
     "output_type": "display_data"
    }
   ],
   "source": [
    "from sklearn.inspection import permutation_importance\n",
    "\n",
    "feature_importances = permutation_importance(\n",
    "    predictor, X_train_augmented, y_train, n_repeats=10\n",
    ")"
   ]
  },
  {
   "cell_type": "markdown",
   "metadata": {},
   "source": [
    "Here, we plot the permutation importance using the training set. The higher the value, more important the feature is."
   ]
  },
  {
   "cell_type": "code",
   "execution_count": 73,
   "metadata": {},
   "outputs": [
    {
     "data": {
      "image/png": "[encoded data removed]",
      "text/plain": [
       "<Figure size 432x288 with 1 Axes>"
      ]
     },
     "metadata": {
      "needs_background": "light"
     },
     "output_type": "display_data"
    },
    {
     "data": {
      "application/javascript": [
       "\n",
       "            setTimeout(function() {\n",
       "                var nbb_cell_id = 73;\n",
       "                var nbb_unformatted_code = \"sorted_idx = feature_importances.importances_mean.argsort()\\n\\nfig, ax = plt.subplots()\\nax.boxplot(\\n    feature_importances.importances[sorted_idx].T,\\n    vert=False,\\n    labels=X_train_augmented.columns[sorted_idx],\\n)\\nax.set_title(\\\"Permutation Importances (train set)\\\")\\nfig.tight_layout()\\nplt.show()\";\n",
       "                var nbb_formatted_code = \"sorted_idx = feature_importances.importances_mean.argsort()\\n\\nfig, ax = plt.subplots()\\nax.boxplot(\\n    feature_importances.importances[sorted_idx].T,\\n    vert=False,\\n    labels=X_train_augmented.columns[sorted_idx],\\n)\\nax.set_title(\\\"Permutation Importances (train set)\\\")\\nfig.tight_layout()\\nplt.show()\";\n",
       "                var nbb_cells = Jupyter.notebook.get_cells();\n",
       "                for (var i = 0; i < nbb_cells.length; ++i) {\n",
       "                    if (nbb_cells[i].input_prompt_number == nbb_cell_id) {\n",
       "                        if (nbb_cells[i].get_text() == nbb_unformatted_code) {\n",
       "                             nbb_cells[i].set_text(nbb_formatted_code);\n",
       "                        }\n",
       "                        break;\n",
       "                    }\n",
       "                }\n",
       "            }, 500);\n",
       "            "
      ],
      "text/plain": [
       "<IPython.core.display.Javascript object>"
      ]
     },
     "metadata": {},
     "output_type": "display_data"
    }
   ],
   "source": [
    "sorted_idx = feature_importances.importances_mean.argsort()\n",
    "\n",
    "fig, ax = plt.subplots()\n",
    "ax.boxplot(\n",
    "    feature_importances.importances[sorted_idx].T,\n",
    "    vert=False,\n",
    "    labels=X_train_augmented.columns[sorted_idx],\n",
    ")\n",
    "ax.set_title(\"Permutation Importances (train set)\")\n",
    "fig.tight_layout()\n",
    "plt.show()"
   ]
  },
  {
   "cell_type": "markdown",
   "metadata": {},
   "source": [
    "We can replicate the same processing on the test set and see if we can observe the same trend."
   ]
  },
  {
   "cell_type": "code",
   "execution_count": 74,
   "metadata": {},
   "outputs": [
    {
     "name": "stderr",
     "output_type": "stream",
     "text": [
      "submissions\\use_external_data\\estimator.py:18: FutureWarning: Series.dt.weekofyear and Series.dt.week have been deprecated.  Please use Series.dt.isocalendar().week instead.\n",
      "  \n",
      "submissions\\use_external_data\\estimator.py:18: FutureWarning: Series.dt.weekofyear and Series.dt.week have been deprecated.  Please use Series.dt.isocalendar().week instead.\n",
      "  \n",
      "submissions\\use_external_data\\estimator.py:18: FutureWarning: Series.dt.weekofyear and Series.dt.week have been deprecated.  Please use Series.dt.isocalendar().week instead.\n",
      "  \n",
      "submissions\\use_external_data\\estimator.py:18: FutureWarning: Series.dt.weekofyear and Series.dt.week have been deprecated.  Please use Series.dt.isocalendar().week instead.\n",
      "  \n",
      "submissions\\use_external_data\\estimator.py:18: FutureWarning: Series.dt.weekofyear and Series.dt.week have been deprecated.  Please use Series.dt.isocalendar().week instead.\n",
      "  \n",
      "submissions\\use_external_data\\estimator.py:18: FutureWarning: Series.dt.weekofyear and Series.dt.week have been deprecated.  Please use Series.dt.isocalendar().week instead.\n",
      "  \n",
      "submissions\\use_external_data\\estimator.py:18: FutureWarning: Series.dt.weekofyear and Series.dt.week have been deprecated.  Please use Series.dt.isocalendar().week instead.\n",
      "  \n",
      "submissions\\use_external_data\\estimator.py:18: FutureWarning: Series.dt.weekofyear and Series.dt.week have been deprecated.  Please use Series.dt.isocalendar().week instead.\n",
      "  \n",
      "submissions\\use_external_data\\estimator.py:18: FutureWarning: Series.dt.weekofyear and Series.dt.week have been deprecated.  Please use Series.dt.isocalendar().week instead.\n",
      "  \n",
      "submissions\\use_external_data\\estimator.py:18: FutureWarning: Series.dt.weekofyear and Series.dt.week have been deprecated.  Please use Series.dt.isocalendar().week instead.\n",
      "  \n",
      "submissions\\use_external_data\\estimator.py:18: FutureWarning: Series.dt.weekofyear and Series.dt.week have been deprecated.  Please use Series.dt.isocalendar().week instead.\n",
      "  \n",
      "submissions\\use_external_data\\estimator.py:18: FutureWarning: Series.dt.weekofyear and Series.dt.week have been deprecated.  Please use Series.dt.isocalendar().week instead.\n",
      "  \n",
      "submissions\\use_external_data\\estimator.py:18: FutureWarning: Series.dt.weekofyear and Series.dt.week have been deprecated.  Please use Series.dt.isocalendar().week instead.\n",
      "  \n",
      "submissions\\use_external_data\\estimator.py:18: FutureWarning: Series.dt.weekofyear and Series.dt.week have been deprecated.  Please use Series.dt.isocalendar().week instead.\n",
      "  \n",
      "submissions\\use_external_data\\estimator.py:18: FutureWarning: Series.dt.weekofyear and Series.dt.week have been deprecated.  Please use Series.dt.isocalendar().week instead.\n",
      "  \n",
      "submissions\\use_external_data\\estimator.py:18: FutureWarning: Series.dt.weekofyear and Series.dt.week have been deprecated.  Please use Series.dt.isocalendar().week instead.\n",
      "  \n",
      "submissions\\use_external_data\\estimator.py:18: FutureWarning: Series.dt.weekofyear and Series.dt.week have been deprecated.  Please use Series.dt.isocalendar().week instead.\n",
      "  \n",
      "submissions\\use_external_data\\estimator.py:18: FutureWarning: Series.dt.weekofyear and Series.dt.week have been deprecated.  Please use Series.dt.isocalendar().week instead.\n",
      "  \n",
      "submissions\\use_external_data\\estimator.py:18: FutureWarning: Series.dt.weekofyear and Series.dt.week have been deprecated.  Please use Series.dt.isocalendar().week instead.\n",
      "  \n",
      "submissions\\use_external_data\\estimator.py:18: FutureWarning: Series.dt.weekofyear and Series.dt.week have been deprecated.  Please use Series.dt.isocalendar().week instead.\n",
      "  \n",
      "submissions\\use_external_data\\estimator.py:18: FutureWarning: Series.dt.weekofyear and Series.dt.week have been deprecated.  Please use Series.dt.isocalendar().week instead.\n",
      "  \n",
      "submissions\\use_external_data\\estimator.py:18: FutureWarning: Series.dt.weekofyear and Series.dt.week have been deprecated.  Please use Series.dt.isocalendar().week instead.\n",
      "  \n",
      "submissions\\use_external_data\\estimator.py:18: FutureWarning: Series.dt.weekofyear and Series.dt.week have been deprecated.  Please use Series.dt.isocalendar().week instead.\n",
      "  \n",
      "submissions\\use_external_data\\estimator.py:18: FutureWarning: Series.dt.weekofyear and Series.dt.week have been deprecated.  Please use Series.dt.isocalendar().week instead.\n",
      "  \n",
      "submissions\\use_external_data\\estimator.py:18: FutureWarning: Series.dt.weekofyear and Series.dt.week have been deprecated.  Please use Series.dt.isocalendar().week instead.\n",
      "  \n",
      "submissions\\use_external_data\\estimator.py:18: FutureWarning: Series.dt.weekofyear and Series.dt.week have been deprecated.  Please use Series.dt.isocalendar().week instead.\n",
      "  \n",
      "submissions\\use_external_data\\estimator.py:18: FutureWarning: Series.dt.weekofyear and Series.dt.week have been deprecated.  Please use Series.dt.isocalendar().week instead.\n",
      "  \n",
      "submissions\\use_external_data\\estimator.py:18: FutureWarning: Series.dt.weekofyear and Series.dt.week have been deprecated.  Please use Series.dt.isocalendar().week instead.\n",
      "  \n",
      "submissions\\use_external_data\\estimator.py:18: FutureWarning: Series.dt.weekofyear and Series.dt.week have been deprecated.  Please use Series.dt.isocalendar().week instead.\n",
      "  \n",
      "submissions\\use_external_data\\estimator.py:18: FutureWarning: Series.dt.weekofyear and Series.dt.week have been deprecated.  Please use Series.dt.isocalendar().week instead.\n",
      "  \n",
      "submissions\\use_external_data\\estimator.py:18: FutureWarning: Series.dt.weekofyear and Series.dt.week have been deprecated.  Please use Series.dt.isocalendar().week instead.\n",
      "  \n",
      "submissions\\use_external_data\\estimator.py:18: FutureWarning: Series.dt.weekofyear and Series.dt.week have been deprecated.  Please use Series.dt.isocalendar().week instead.\n",
      "  \n",
      "submissions\\use_external_data\\estimator.py:18: FutureWarning: Series.dt.weekofyear and Series.dt.week have been deprecated.  Please use Series.dt.isocalendar().week instead.\n",
      "  \n",
      "submissions\\use_external_data\\estimator.py:18: FutureWarning: Series.dt.weekofyear and Series.dt.week have been deprecated.  Please use Series.dt.isocalendar().week instead.\n",
      "  \n",
      "submissions\\use_external_data\\estimator.py:18: FutureWarning: Series.dt.weekofyear and Series.dt.week have been deprecated.  Please use Series.dt.isocalendar().week instead.\n",
      "  \n",
      "submissions\\use_external_data\\estimator.py:18: FutureWarning: Series.dt.weekofyear and Series.dt.week have been deprecated.  Please use Series.dt.isocalendar().week instead.\n",
      "  \n",
      "submissions\\use_external_data\\estimator.py:18: FutureWarning: Series.dt.weekofyear and Series.dt.week have been deprecated.  Please use Series.dt.isocalendar().week instead.\n",
      "  \n",
      "submissions\\use_external_data\\estimator.py:18: FutureWarning: Series.dt.weekofyear and Series.dt.week have been deprecated.  Please use Series.dt.isocalendar().week instead.\n",
      "  \n",
      "submissions\\use_external_data\\estimator.py:18: FutureWarning: Series.dt.weekofyear and Series.dt.week have been deprecated.  Please use Series.dt.isocalendar().week instead.\n",
      "  \n",
      "submissions\\use_external_data\\estimator.py:18: FutureWarning: Series.dt.weekofyear and Series.dt.week have been deprecated.  Please use Series.dt.isocalendar().week instead.\n",
      "  \n",
      "submissions\\use_external_data\\estimator.py:18: FutureWarning: Series.dt.weekofyear and Series.dt.week have been deprecated.  Please use Series.dt.isocalendar().week instead.\n",
      "  \n",
      "submissions\\use_external_data\\estimator.py:18: FutureWarning: Series.dt.weekofyear and Series.dt.week have been deprecated.  Please use Series.dt.isocalendar().week instead.\n",
      "  \n",
      "submissions\\use_external_data\\estimator.py:18: FutureWarning: Series.dt.weekofyear and Series.dt.week have been deprecated.  Please use Series.dt.isocalendar().week instead.\n",
      "  \n",
      "submissions\\use_external_data\\estimator.py:18: FutureWarning: Series.dt.weekofyear and Series.dt.week have been deprecated.  Please use Series.dt.isocalendar().week instead.\n",
      "  \n",
      "submissions\\use_external_data\\estimator.py:18: FutureWarning: Series.dt.weekofyear and Series.dt.week have been deprecated.  Please use Series.dt.isocalendar().week instead.\n",
      "  \n",
      "submissions\\use_external_data\\estimator.py:18: FutureWarning: Series.dt.weekofyear and Series.dt.week have been deprecated.  Please use Series.dt.isocalendar().week instead.\n",
      "  \n",
      "submissions\\use_external_data\\estimator.py:18: FutureWarning: Series.dt.weekofyear and Series.dt.week have been deprecated.  Please use Series.dt.isocalendar().week instead.\n",
      "  \n"
     ]
    },
    {
     "name": "stderr",
     "output_type": "stream",
     "text": [
      "submissions\\use_external_data\\estimator.py:18: FutureWarning: Series.dt.weekofyear and Series.dt.week have been deprecated.  Please use Series.dt.isocalendar().week instead.\n",
      "  \n",
      "submissions\\use_external_data\\estimator.py:18: FutureWarning: Series.dt.weekofyear and Series.dt.week have been deprecated.  Please use Series.dt.isocalendar().week instead.\n",
      "  \n",
      "submissions\\use_external_data\\estimator.py:18: FutureWarning: Series.dt.weekofyear and Series.dt.week have been deprecated.  Please use Series.dt.isocalendar().week instead.\n",
      "  \n",
      "submissions\\use_external_data\\estimator.py:18: FutureWarning: Series.dt.weekofyear and Series.dt.week have been deprecated.  Please use Series.dt.isocalendar().week instead.\n",
      "  \n",
      "submissions\\use_external_data\\estimator.py:18: FutureWarning: Series.dt.weekofyear and Series.dt.week have been deprecated.  Please use Series.dt.isocalendar().week instead.\n",
      "  \n",
      "submissions\\use_external_data\\estimator.py:18: FutureWarning: Series.dt.weekofyear and Series.dt.week have been deprecated.  Please use Series.dt.isocalendar().week instead.\n",
      "  \n",
      "submissions\\use_external_data\\estimator.py:18: FutureWarning: Series.dt.weekofyear and Series.dt.week have been deprecated.  Please use Series.dt.isocalendar().week instead.\n",
      "  \n",
      "submissions\\use_external_data\\estimator.py:18: FutureWarning: Series.dt.weekofyear and Series.dt.week have been deprecated.  Please use Series.dt.isocalendar().week instead.\n",
      "  \n",
      "submissions\\use_external_data\\estimator.py:18: FutureWarning: Series.dt.weekofyear and Series.dt.week have been deprecated.  Please use Series.dt.isocalendar().week instead.\n",
      "  \n",
      "submissions\\use_external_data\\estimator.py:18: FutureWarning: Series.dt.weekofyear and Series.dt.week have been deprecated.  Please use Series.dt.isocalendar().week instead.\n",
      "  \n",
      "submissions\\use_external_data\\estimator.py:18: FutureWarning: Series.dt.weekofyear and Series.dt.week have been deprecated.  Please use Series.dt.isocalendar().week instead.\n",
      "  \n",
      "submissions\\use_external_data\\estimator.py:18: FutureWarning: Series.dt.weekofyear and Series.dt.week have been deprecated.  Please use Series.dt.isocalendar().week instead.\n",
      "  \n",
      "submissions\\use_external_data\\estimator.py:18: FutureWarning: Series.dt.weekofyear and Series.dt.week have been deprecated.  Please use Series.dt.isocalendar().week instead.\n",
      "  \n",
      "submissions\\use_external_data\\estimator.py:18: FutureWarning: Series.dt.weekofyear and Series.dt.week have been deprecated.  Please use Series.dt.isocalendar().week instead.\n",
      "  \n",
      "submissions\\use_external_data\\estimator.py:18: FutureWarning: Series.dt.weekofyear and Series.dt.week have been deprecated.  Please use Series.dt.isocalendar().week instead.\n",
      "  \n",
      "submissions\\use_external_data\\estimator.py:18: FutureWarning: Series.dt.weekofyear and Series.dt.week have been deprecated.  Please use Series.dt.isocalendar().week instead.\n",
      "  \n",
      "submissions\\use_external_data\\estimator.py:18: FutureWarning: Series.dt.weekofyear and Series.dt.week have been deprecated.  Please use Series.dt.isocalendar().week instead.\n",
      "  \n",
      "submissions\\use_external_data\\estimator.py:18: FutureWarning: Series.dt.weekofyear and Series.dt.week have been deprecated.  Please use Series.dt.isocalendar().week instead.\n",
      "  \n",
      "submissions\\use_external_data\\estimator.py:18: FutureWarning: Series.dt.weekofyear and Series.dt.week have been deprecated.  Please use Series.dt.isocalendar().week instead.\n",
      "  \n",
      "submissions\\use_external_data\\estimator.py:18: FutureWarning: Series.dt.weekofyear and Series.dt.week have been deprecated.  Please use Series.dt.isocalendar().week instead.\n",
      "  \n",
      "submissions\\use_external_data\\estimator.py:18: FutureWarning: Series.dt.weekofyear and Series.dt.week have been deprecated.  Please use Series.dt.isocalendar().week instead.\n",
      "  \n",
      "submissions\\use_external_data\\estimator.py:18: FutureWarning: Series.dt.weekofyear and Series.dt.week have been deprecated.  Please use Series.dt.isocalendar().week instead.\n",
      "  \n",
      "submissions\\use_external_data\\estimator.py:18: FutureWarning: Series.dt.weekofyear and Series.dt.week have been deprecated.  Please use Series.dt.isocalendar().week instead.\n",
      "  \n",
      "submissions\\use_external_data\\estimator.py:18: FutureWarning: Series.dt.weekofyear and Series.dt.week have been deprecated.  Please use Series.dt.isocalendar().week instead.\n",
      "  \n",
      "submissions\\use_external_data\\estimator.py:18: FutureWarning: Series.dt.weekofyear and Series.dt.week have been deprecated.  Please use Series.dt.isocalendar().week instead.\n",
      "  \n",
      "submissions\\use_external_data\\estimator.py:18: FutureWarning: Series.dt.weekofyear and Series.dt.week have been deprecated.  Please use Series.dt.isocalendar().week instead.\n",
      "  \n",
      "submissions\\use_external_data\\estimator.py:18: FutureWarning: Series.dt.weekofyear and Series.dt.week have been deprecated.  Please use Series.dt.isocalendar().week instead.\n",
      "  \n",
      "submissions\\use_external_data\\estimator.py:18: FutureWarning: Series.dt.weekofyear and Series.dt.week have been deprecated.  Please use Series.dt.isocalendar().week instead.\n",
      "  \n",
      "submissions\\use_external_data\\estimator.py:18: FutureWarning: Series.dt.weekofyear and Series.dt.week have been deprecated.  Please use Series.dt.isocalendar().week instead.\n",
      "  \n",
      "submissions\\use_external_data\\estimator.py:18: FutureWarning: Series.dt.weekofyear and Series.dt.week have been deprecated.  Please use Series.dt.isocalendar().week instead.\n",
      "  \n",
      "submissions\\use_external_data\\estimator.py:18: FutureWarning: Series.dt.weekofyear and Series.dt.week have been deprecated.  Please use Series.dt.isocalendar().week instead.\n",
      "  \n",
      "submissions\\use_external_data\\estimator.py:18: FutureWarning: Series.dt.weekofyear and Series.dt.week have been deprecated.  Please use Series.dt.isocalendar().week instead.\n",
      "  \n",
      "submissions\\use_external_data\\estimator.py:18: FutureWarning: Series.dt.weekofyear and Series.dt.week have been deprecated.  Please use Series.dt.isocalendar().week instead.\n",
      "  \n",
      "submissions\\use_external_data\\estimator.py:18: FutureWarning: Series.dt.weekofyear and Series.dt.week have been deprecated.  Please use Series.dt.isocalendar().week instead.\n",
      "  \n",
      "submissions\\use_external_data\\estimator.py:18: FutureWarning: Series.dt.weekofyear and Series.dt.week have been deprecated.  Please use Series.dt.isocalendar().week instead.\n",
      "  \n",
      "submissions\\use_external_data\\estimator.py:18: FutureWarning: Series.dt.weekofyear and Series.dt.week have been deprecated.  Please use Series.dt.isocalendar().week instead.\n",
      "  \n",
      "submissions\\use_external_data\\estimator.py:18: FutureWarning: Series.dt.weekofyear and Series.dt.week have been deprecated.  Please use Series.dt.isocalendar().week instead.\n",
      "  \n",
      "submissions\\use_external_data\\estimator.py:18: FutureWarning: Series.dt.weekofyear and Series.dt.week have been deprecated.  Please use Series.dt.isocalendar().week instead.\n",
      "  \n",
      "submissions\\use_external_data\\estimator.py:18: FutureWarning: Series.dt.weekofyear and Series.dt.week have been deprecated.  Please use Series.dt.isocalendar().week instead.\n",
      "  \n",
      "submissions\\use_external_data\\estimator.py:18: FutureWarning: Series.dt.weekofyear and Series.dt.week have been deprecated.  Please use Series.dt.isocalendar().week instead.\n",
      "  \n",
      "submissions\\use_external_data\\estimator.py:18: FutureWarning: Series.dt.weekofyear and Series.dt.week have been deprecated.  Please use Series.dt.isocalendar().week instead.\n",
      "  \n",
      "submissions\\use_external_data\\estimator.py:18: FutureWarning: Series.dt.weekofyear and Series.dt.week have been deprecated.  Please use Series.dt.isocalendar().week instead.\n",
      "  \n",
      "submissions\\use_external_data\\estimator.py:18: FutureWarning: Series.dt.weekofyear and Series.dt.week have been deprecated.  Please use Series.dt.isocalendar().week instead.\n",
      "  \n",
      "submissions\\use_external_data\\estimator.py:18: FutureWarning: Series.dt.weekofyear and Series.dt.week have been deprecated.  Please use Series.dt.isocalendar().week instead.\n",
      "  \n",
      "submissions\\use_external_data\\estimator.py:18: FutureWarning: Series.dt.weekofyear and Series.dt.week have been deprecated.  Please use Series.dt.isocalendar().week instead.\n",
      "  \n",
      "submissions\\use_external_data\\estimator.py:18: FutureWarning: Series.dt.weekofyear and Series.dt.week have been deprecated.  Please use Series.dt.isocalendar().week instead.\n",
      "  \n",
      "submissions\\use_external_data\\estimator.py:18: FutureWarning: Series.dt.weekofyear and Series.dt.week have been deprecated.  Please use Series.dt.isocalendar().week instead.\n",
      "  \n"
     ]
    },
    {
     "name": "stderr",
     "output_type": "stream",
     "text": [
      "submissions\\use_external_data\\estimator.py:18: FutureWarning: Series.dt.weekofyear and Series.dt.week have been deprecated.  Please use Series.dt.isocalendar().week instead.\n",
      "  \n",
      "submissions\\use_external_data\\estimator.py:18: FutureWarning: Series.dt.weekofyear and Series.dt.week have been deprecated.  Please use Series.dt.isocalendar().week instead.\n",
      "  \n",
      "submissions\\use_external_data\\estimator.py:18: FutureWarning: Series.dt.weekofyear and Series.dt.week have been deprecated.  Please use Series.dt.isocalendar().week instead.\n",
      "  \n",
      "submissions\\use_external_data\\estimator.py:18: FutureWarning: Series.dt.weekofyear and Series.dt.week have been deprecated.  Please use Series.dt.isocalendar().week instead.\n",
      "  \n",
      "submissions\\use_external_data\\estimator.py:18: FutureWarning: Series.dt.weekofyear and Series.dt.week have been deprecated.  Please use Series.dt.isocalendar().week instead.\n",
      "  \n",
      "submissions\\use_external_data\\estimator.py:18: FutureWarning: Series.dt.weekofyear and Series.dt.week have been deprecated.  Please use Series.dt.isocalendar().week instead.\n",
      "  \n",
      "submissions\\use_external_data\\estimator.py:18: FutureWarning: Series.dt.weekofyear and Series.dt.week have been deprecated.  Please use Series.dt.isocalendar().week instead.\n",
      "  \n",
      "submissions\\use_external_data\\estimator.py:18: FutureWarning: Series.dt.weekofyear and Series.dt.week have been deprecated.  Please use Series.dt.isocalendar().week instead.\n",
      "  \n",
      "submissions\\use_external_data\\estimator.py:18: FutureWarning: Series.dt.weekofyear and Series.dt.week have been deprecated.  Please use Series.dt.isocalendar().week instead.\n",
      "  \n",
      "submissions\\use_external_data\\estimator.py:18: FutureWarning: Series.dt.weekofyear and Series.dt.week have been deprecated.  Please use Series.dt.isocalendar().week instead.\n",
      "  \n",
      "submissions\\use_external_data\\estimator.py:18: FutureWarning: Series.dt.weekofyear and Series.dt.week have been deprecated.  Please use Series.dt.isocalendar().week instead.\n",
      "  \n",
      "submissions\\use_external_data\\estimator.py:18: FutureWarning: Series.dt.weekofyear and Series.dt.week have been deprecated.  Please use Series.dt.isocalendar().week instead.\n",
      "  \n",
      "submissions\\use_external_data\\estimator.py:18: FutureWarning: Series.dt.weekofyear and Series.dt.week have been deprecated.  Please use Series.dt.isocalendar().week instead.\n",
      "  \n",
      "submissions\\use_external_data\\estimator.py:18: FutureWarning: Series.dt.weekofyear and Series.dt.week have been deprecated.  Please use Series.dt.isocalendar().week instead.\n",
      "  \n",
      "submissions\\use_external_data\\estimator.py:18: FutureWarning: Series.dt.weekofyear and Series.dt.week have been deprecated.  Please use Series.dt.isocalendar().week instead.\n",
      "  \n",
      "submissions\\use_external_data\\estimator.py:18: FutureWarning: Series.dt.weekofyear and Series.dt.week have been deprecated.  Please use Series.dt.isocalendar().week instead.\n",
      "  \n",
      "submissions\\use_external_data\\estimator.py:18: FutureWarning: Series.dt.weekofyear and Series.dt.week have been deprecated.  Please use Series.dt.isocalendar().week instead.\n",
      "  \n",
      "submissions\\use_external_data\\estimator.py:18: FutureWarning: Series.dt.weekofyear and Series.dt.week have been deprecated.  Please use Series.dt.isocalendar().week instead.\n",
      "  \n",
      "submissions\\use_external_data\\estimator.py:18: FutureWarning: Series.dt.weekofyear and Series.dt.week have been deprecated.  Please use Series.dt.isocalendar().week instead.\n",
      "  \n",
      "submissions\\use_external_data\\estimator.py:18: FutureWarning: Series.dt.weekofyear and Series.dt.week have been deprecated.  Please use Series.dt.isocalendar().week instead.\n",
      "  \n",
      "submissions\\use_external_data\\estimator.py:18: FutureWarning: Series.dt.weekofyear and Series.dt.week have been deprecated.  Please use Series.dt.isocalendar().week instead.\n",
      "  \n",
      "submissions\\use_external_data\\estimator.py:18: FutureWarning: Series.dt.weekofyear and Series.dt.week have been deprecated.  Please use Series.dt.isocalendar().week instead.\n",
      "  \n",
      "submissions\\use_external_data\\estimator.py:18: FutureWarning: Series.dt.weekofyear and Series.dt.week have been deprecated.  Please use Series.dt.isocalendar().week instead.\n",
      "  \n",
      "submissions\\use_external_data\\estimator.py:18: FutureWarning: Series.dt.weekofyear and Series.dt.week have been deprecated.  Please use Series.dt.isocalendar().week instead.\n",
      "  \n",
      "submissions\\use_external_data\\estimator.py:18: FutureWarning: Series.dt.weekofyear and Series.dt.week have been deprecated.  Please use Series.dt.isocalendar().week instead.\n",
      "  \n",
      "submissions\\use_external_data\\estimator.py:18: FutureWarning: Series.dt.weekofyear and Series.dt.week have been deprecated.  Please use Series.dt.isocalendar().week instead.\n",
      "  \n",
      "submissions\\use_external_data\\estimator.py:18: FutureWarning: Series.dt.weekofyear and Series.dt.week have been deprecated.  Please use Series.dt.isocalendar().week instead.\n",
      "  \n",
      "submissions\\use_external_data\\estimator.py:18: FutureWarning: Series.dt.weekofyear and Series.dt.week have been deprecated.  Please use Series.dt.isocalendar().week instead.\n",
      "  \n",
      "submissions\\use_external_data\\estimator.py:18: FutureWarning: Series.dt.weekofyear and Series.dt.week have been deprecated.  Please use Series.dt.isocalendar().week instead.\n",
      "  \n",
      "submissions\\use_external_data\\estimator.py:18: FutureWarning: Series.dt.weekofyear and Series.dt.week have been deprecated.  Please use Series.dt.isocalendar().week instead.\n",
      "  \n",
      "submissions\\use_external_data\\estimator.py:18: FutureWarning: Series.dt.weekofyear and Series.dt.week have been deprecated.  Please use Series.dt.isocalendar().week instead.\n",
      "  \n",
      "submissions\\use_external_data\\estimator.py:18: FutureWarning: Series.dt.weekofyear and Series.dt.week have been deprecated.  Please use Series.dt.isocalendar().week instead.\n",
      "  \n",
      "submissions\\use_external_data\\estimator.py:18: FutureWarning: Series.dt.weekofyear and Series.dt.week have been deprecated.  Please use Series.dt.isocalendar().week instead.\n",
      "  \n",
      "submissions\\use_external_data\\estimator.py:18: FutureWarning: Series.dt.weekofyear and Series.dt.week have been deprecated.  Please use Series.dt.isocalendar().week instead.\n",
      "  \n",
      "submissions\\use_external_data\\estimator.py:18: FutureWarning: Series.dt.weekofyear and Series.dt.week have been deprecated.  Please use Series.dt.isocalendar().week instead.\n",
      "  \n",
      "submissions\\use_external_data\\estimator.py:18: FutureWarning: Series.dt.weekofyear and Series.dt.week have been deprecated.  Please use Series.dt.isocalendar().week instead.\n",
      "  \n",
      "submissions\\use_external_data\\estimator.py:18: FutureWarning: Series.dt.weekofyear and Series.dt.week have been deprecated.  Please use Series.dt.isocalendar().week instead.\n",
      "  \n"
     ]
    },
    {
     "data": {
      "application/javascript": [
       "\n",
       "            setTimeout(function() {\n",
       "                var nbb_cell_id = 74;\n",
       "                var nbb_unformatted_code = \"from sklearn.inspection import permutation_importance\\n\\nfeature_importances = permutation_importance(\\n    predictor, X_test_augmented, y_test, n_repeats=10\\n)\";\n",
       "                var nbb_formatted_code = \"from sklearn.inspection import permutation_importance\\n\\nfeature_importances = permutation_importance(\\n    predictor, X_test_augmented, y_test, n_repeats=10\\n)\";\n",
       "                var nbb_cells = Jupyter.notebook.get_cells();\n",
       "                for (var i = 0; i < nbb_cells.length; ++i) {\n",
       "                    if (nbb_cells[i].input_prompt_number == nbb_cell_id) {\n",
       "                        if (nbb_cells[i].get_text() == nbb_unformatted_code) {\n",
       "                             nbb_cells[i].set_text(nbb_formatted_code);\n",
       "                        }\n",
       "                        break;\n",
       "                    }\n",
       "                }\n",
       "            }, 500);\n",
       "            "
      ],
      "text/plain": [
       "<IPython.core.display.Javascript object>"
      ]
     },
     "metadata": {},
     "output_type": "display_data"
    }
   ],
   "source": [
    "from sklearn.inspection import permutation_importance\n",
    "\n",
    "feature_importances = permutation_importance(\n",
    "    predictor, X_test_augmented, y_test, n_repeats=10\n",
    ")"
   ]
  },
  {
   "cell_type": "code",
   "execution_count": 75,
   "metadata": {},
   "outputs": [
    {
     "data": {
      "image/png": "[encoded data removed]",
      "text/plain": [
       "<Figure size 432x288 with 1 Axes>"
      ]
     },
     "metadata": {
      "needs_background": "light"
     },
     "output_type": "display_data"
    },
    {
     "data": {
      "application/javascript": [
       "\n",
       "            setTimeout(function() {\n",
       "                var nbb_cell_id = 75;\n",
       "                var nbb_unformatted_code = \"sorted_idx = feature_importances.importances_mean.argsort()\\n\\nfig, ax = plt.subplots()\\nax.boxplot(\\n    feature_importances.importances[sorted_idx].T,\\n    vert=False,\\n    labels=X_test_augmented.columns[sorted_idx],\\n)\\nax.set_title(\\\"Permutation Importances (test set)\\\")\\nfig.tight_layout()\\nplt.show()\";\n",
       "                var nbb_formatted_code = \"sorted_idx = feature_importances.importances_mean.argsort()\\n\\nfig, ax = plt.subplots()\\nax.boxplot(\\n    feature_importances.importances[sorted_idx].T,\\n    vert=False,\\n    labels=X_test_augmented.columns[sorted_idx],\\n)\\nax.set_title(\\\"Permutation Importances (test set)\\\")\\nfig.tight_layout()\\nplt.show()\";\n",
       "                var nbb_cells = Jupyter.notebook.get_cells();\n",
       "                for (var i = 0; i < nbb_cells.length; ++i) {\n",
       "                    if (nbb_cells[i].input_prompt_number == nbb_cell_id) {\n",
       "                        if (nbb_cells[i].get_text() == nbb_unformatted_code) {\n",
       "                             nbb_cells[i].set_text(nbb_formatted_code);\n",
       "                        }\n",
       "                        break;\n",
       "                    }\n",
       "                }\n",
       "            }, 500);\n",
       "            "
      ],
      "text/plain": [
       "<IPython.core.display.Javascript object>"
      ]
     },
     "metadata": {},
     "output_type": "display_data"
    }
   ],
   "source": [
    "sorted_idx = feature_importances.importances_mean.argsort()\n",
    "\n",
    "fig, ax = plt.subplots()\n",
    "ax.boxplot(\n",
    "    feature_importances.importances[sorted_idx].T,\n",
    "    vert=False,\n",
    "    labels=X_test_augmented.columns[sorted_idx],\n",
    ")\n",
    "ax.set_title(\"Permutation Importances (test set)\")\n",
    "fig.tight_layout()\n",
    "plt.show()"
   ]
  },
  {
   "cell_type": "markdown",
   "metadata": {},
   "source": [
    "With the current version of scikit-learn, it is not handy but still possible to check the feature importances at the latest stage of the pipeline (once all features have been preprocessed).\n",
    "\n",
    "The difficult part is to get the name of the features."
   ]
  },
  {
   "cell_type": "code",
   "execution_count": 76,
   "metadata": {},
   "outputs": [
    {
     "name": "stderr",
     "output_type": "stream",
     "text": [
      "submissions\\use_external_data\\estimator.py:18: FutureWarning: Series.dt.weekofyear and Series.dt.week have been deprecated.  Please use Series.dt.isocalendar().week instead.\n",
      "  \n",
      "submissions\\use_external_data\\estimator.py:18: FutureWarning: Series.dt.weekofyear and Series.dt.week have been deprecated.  Please use Series.dt.isocalendar().week instead.\n",
      "  \n"
     ]
    },
    {
     "data": {
      "application/javascript": [
       "\n",
       "            setTimeout(function() {\n",
       "                var nbb_cell_id = 76;\n",
       "                var nbb_unformatted_code = \"preprocessor = pipeline[:-1]\\npredictor = pipeline[-1]\\n\\nX_train_augmented = preprocessor.transform(X_train)\\nX_test_augmented = preprocessor.transform(X_test)\";\n",
       "                var nbb_formatted_code = \"preprocessor = pipeline[:-1]\\npredictor = pipeline[-1]\\n\\nX_train_augmented = preprocessor.transform(X_train)\\nX_test_augmented = preprocessor.transform(X_test)\";\n",
       "                var nbb_cells = Jupyter.notebook.get_cells();\n",
       "                for (var i = 0; i < nbb_cells.length; ++i) {\n",
       "                    if (nbb_cells[i].input_prompt_number == nbb_cell_id) {\n",
       "                        if (nbb_cells[i].get_text() == nbb_unformatted_code) {\n",
       "                             nbb_cells[i].set_text(nbb_formatted_code);\n",
       "                        }\n",
       "                        break;\n",
       "                    }\n",
       "                }\n",
       "            }, 500);\n",
       "            "
      ],
      "text/plain": [
       "<IPython.core.display.Javascript object>"
      ]
     },
     "metadata": {},
     "output_type": "display_data"
    }
   ],
   "source": [
    "preprocessor = pipeline[:-1]\n",
    "predictor = pipeline[-1]\n",
    "\n",
    "X_train_augmented = preprocessor.transform(X_train)\n",
    "X_test_augmented = preprocessor.transform(X_test)"
   ]
  },
  {
   "cell_type": "markdown",
   "metadata": {},
   "source": [
    "Let's find out the feature names (in the future, scikit-learn will provide a `get_feature_names` function to handle this case)."
   ]
  },
  {
   "cell_type": "code",
   "execution_count": 77,
   "metadata": {},
   "outputs": [
    {
     "name": "stderr",
     "output_type": "stream",
     "text": [
      "submissions\\use_external_data\\estimator.py:18: FutureWarning: Series.dt.weekofyear and Series.dt.week have been deprecated.  Please use Series.dt.isocalendar().week instead.\n",
      "  \n"
     ]
    },
    {
     "data": {
      "application/javascript": [
       "\n",
       "            setTimeout(function() {\n",
       "                var nbb_cell_id = 77;\n",
       "                var nbb_unformatted_code = \"date_cols_name = date_encoder.transform(X_train[date_cols]).columns.tolist()\\ncategorical_cols_name = categorical_cols\\nnumerical_cols_name = (\\n    pipeline[0].transform(X_train).columns[pipeline[1].transformers_[-1][-1]].tolist()\\n)\";\n",
       "                var nbb_formatted_code = \"date_cols_name = date_encoder.transform(X_train[date_cols]).columns.tolist()\\ncategorical_cols_name = categorical_cols\\nnumerical_cols_name = (\\n    pipeline[0].transform(X_train).columns[pipeline[1].transformers_[-1][-1]].tolist()\\n)\";\n",
       "                var nbb_cells = Jupyter.notebook.get_cells();\n",
       "                for (var i = 0; i < nbb_cells.length; ++i) {\n",
       "                    if (nbb_cells[i].input_prompt_number == nbb_cell_id) {\n",
       "                        if (nbb_cells[i].get_text() == nbb_unformatted_code) {\n",
       "                             nbb_cells[i].set_text(nbb_formatted_code);\n",
       "                        }\n",
       "                        break;\n",
       "                    }\n",
       "                }\n",
       "            }, 500);\n",
       "            "
      ],
      "text/plain": [
       "<IPython.core.display.Javascript object>"
      ]
     },
     "metadata": {},
     "output_type": "display_data"
    }
   ],
   "source": [
    "date_cols_name = date_encoder.transform(X_train[date_cols]).columns.tolist()\n",
    "categorical_cols_name = categorical_cols\n",
    "numerical_cols_name = (\n",
    "    pipeline[0].transform(X_train).columns[pipeline[1].transformers_[-1][-1]].tolist()\n",
    ")"
   ]
  },
  {
   "cell_type": "code",
   "execution_count": 78,
   "metadata": {},
   "outputs": [
    {
     "data": {
      "text/plain": [
       "array(['year', 'month', 'day', 'weekday', 'week', 'n_days', 'Arrival',\n",
       "       'Departure', 'school_break', 'WeeksToDeparture', 'std_wtd',\n",
       "       'PopulationDeparture', 'NbPassengersDeparture',\n",
       "       'AverageFlightFareDeparture', 'PopulationArrival',\n",
       "       'NbPassengersArrival', 'AverageFlightFareArrival', 'is_holidays'],\n",
       "      dtype='<U26')"
      ]
     },
     "execution_count": 78,
     "metadata": {},
     "output_type": "execute_result"
    },
    {
     "data": {
      "application/javascript": [
       "\n",
       "            setTimeout(function() {\n",
       "                var nbb_cell_id = 78;\n",
       "                var nbb_unformatted_code = \"feature_names = np.array(date_cols_name + categorical_cols_name + numerical_cols_name)\\nfeature_names\";\n",
       "                var nbb_formatted_code = \"feature_names = np.array(date_cols_name + categorical_cols_name + numerical_cols_name)\\nfeature_names\";\n",
       "                var nbb_cells = Jupyter.notebook.get_cells();\n",
       "                for (var i = 0; i < nbb_cells.length; ++i) {\n",
       "                    if (nbb_cells[i].input_prompt_number == nbb_cell_id) {\n",
       "                        if (nbb_cells[i].get_text() == nbb_unformatted_code) {\n",
       "                             nbb_cells[i].set_text(nbb_formatted_code);\n",
       "                        }\n",
       "                        break;\n",
       "                    }\n",
       "                }\n",
       "            }, 500);\n",
       "            "
      ],
      "text/plain": [
       "<IPython.core.display.Javascript object>"
      ]
     },
     "metadata": {},
     "output_type": "display_data"
    }
   ],
   "source": [
    "feature_names = np.array(date_cols_name + categorical_cols_name + numerical_cols_name)\n",
    "feature_names"
   ]
  },
  {
   "cell_type": "markdown",
   "metadata": {},
   "source": [
    "We can repeat the previous processing at this finer grain, where the transformed date columns are included."
   ]
  },
  {
   "cell_type": "code",
   "execution_count": 79,
   "metadata": {},
   "outputs": [
    {
     "data": {
      "application/javascript": [
       "\n",
       "            setTimeout(function() {\n",
       "                var nbb_cell_id = 79;\n",
       "                var nbb_unformatted_code = \"from sklearn.inspection import permutation_importance\\n\\nfeature_importances = permutation_importance(\\n    predictor, X_train_augmented, y_train, n_repeats=10\\n)\";\n",
       "                var nbb_formatted_code = \"from sklearn.inspection import permutation_importance\\n\\nfeature_importances = permutation_importance(\\n    predictor, X_train_augmented, y_train, n_repeats=10\\n)\";\n",
       "                var nbb_cells = Jupyter.notebook.get_cells();\n",
       "                for (var i = 0; i < nbb_cells.length; ++i) {\n",
       "                    if (nbb_cells[i].input_prompt_number == nbb_cell_id) {\n",
       "                        if (nbb_cells[i].get_text() == nbb_unformatted_code) {\n",
       "                             nbb_cells[i].set_text(nbb_formatted_code);\n",
       "                        }\n",
       "                        break;\n",
       "                    }\n",
       "                }\n",
       "            }, 500);\n",
       "            "
      ],
      "text/plain": [
       "<IPython.core.display.Javascript object>"
      ]
     },
     "metadata": {},
     "output_type": "display_data"
    }
   ],
   "source": [
    "from sklearn.inspection import permutation_importance\n",
    "\n",
    "feature_importances = permutation_importance(\n",
    "    predictor, X_train_augmented, y_train, n_repeats=10\n",
    ")"
   ]
  },
  {
   "cell_type": "markdown",
   "metadata": {},
   "source": [
    "Here, we plot the permutation importance using the training set. Basically, higher the value, more important is the feature."
   ]
  },
  {
   "cell_type": "code",
   "execution_count": 80,
   "metadata": {},
   "outputs": [
    {
     "data": {
      "image/png": "[encoded data removed]",
      "text/plain": [
       "<Figure size 432x288 with 1 Axes>"
      ]
     },
     "metadata": {
      "needs_background": "light"
     },
     "output_type": "display_data"
    },
    {
     "data": {
      "application/javascript": [
       "\n",
       "            setTimeout(function() {\n",
       "                var nbb_cell_id = 80;\n",
       "                var nbb_unformatted_code = \"sorted_idx = feature_importances.importances_mean.argsort()\\n\\nfig, ax = plt.subplots()\\nax.boxplot(\\n    feature_importances.importances[sorted_idx].T,\\n    vert=False,\\n    labels=feature_names[sorted_idx],\\n)\\nax.set_title(\\\"Permutation Importances (train set)\\\")\\nfig.tight_layout()\\nplt.show()\";\n",
       "                var nbb_formatted_code = \"sorted_idx = feature_importances.importances_mean.argsort()\\n\\nfig, ax = plt.subplots()\\nax.boxplot(\\n    feature_importances.importances[sorted_idx].T,\\n    vert=False,\\n    labels=feature_names[sorted_idx],\\n)\\nax.set_title(\\\"Permutation Importances (train set)\\\")\\nfig.tight_layout()\\nplt.show()\";\n",
       "                var nbb_cells = Jupyter.notebook.get_cells();\n",
       "                for (var i = 0; i < nbb_cells.length; ++i) {\n",
       "                    if (nbb_cells[i].input_prompt_number == nbb_cell_id) {\n",
       "                        if (nbb_cells[i].get_text() == nbb_unformatted_code) {\n",
       "                             nbb_cells[i].set_text(nbb_formatted_code);\n",
       "                        }\n",
       "                        break;\n",
       "                    }\n",
       "                }\n",
       "            }, 500);\n",
       "            "
      ],
      "text/plain": [
       "<IPython.core.display.Javascript object>"
      ]
     },
     "metadata": {},
     "output_type": "display_data"
    }
   ],
   "source": [
    "sorted_idx = feature_importances.importances_mean.argsort()\n",
    "\n",
    "fig, ax = plt.subplots()\n",
    "ax.boxplot(\n",
    "    feature_importances.importances[sorted_idx].T,\n",
    "    vert=False,\n",
    "    labels=feature_names[sorted_idx],\n",
    ")\n",
    "ax.set_title(\"Permutation Importances (train set)\")\n",
    "fig.tight_layout()\n",
    "plt.show()"
   ]
  },
  {
   "cell_type": "markdown",
   "metadata": {},
   "source": [
    "We can replicate the same processing on the test set and see if we can observe the same trend."
   ]
  },
  {
   "cell_type": "code",
   "execution_count": 81,
   "metadata": {},
   "outputs": [
    {
     "data": {
      "application/javascript": [
       "\n",
       "            setTimeout(function() {\n",
       "                var nbb_cell_id = 81;\n",
       "                var nbb_unformatted_code = \"from sklearn.inspection import permutation_importance\\n\\nfeature_importances = permutation_importance(\\n    predictor, X_test_augmented, y_test, n_repeats=10\\n)\";\n",
       "                var nbb_formatted_code = \"from sklearn.inspection import permutation_importance\\n\\nfeature_importances = permutation_importance(\\n    predictor, X_test_augmented, y_test, n_repeats=10\\n)\";\n",
       "                var nbb_cells = Jupyter.notebook.get_cells();\n",
       "                for (var i = 0; i < nbb_cells.length; ++i) {\n",
       "                    if (nbb_cells[i].input_prompt_number == nbb_cell_id) {\n",
       "                        if (nbb_cells[i].get_text() == nbb_unformatted_code) {\n",
       "                             nbb_cells[i].set_text(nbb_formatted_code);\n",
       "                        }\n",
       "                        break;\n",
       "                    }\n",
       "                }\n",
       "            }, 500);\n",
       "            "
      ],
      "text/plain": [
       "<IPython.core.display.Javascript object>"
      ]
     },
     "metadata": {},
     "output_type": "display_data"
    }
   ],
   "source": [
    "from sklearn.inspection import permutation_importance\n",
    "\n",
    "feature_importances = permutation_importance(\n",
    "    predictor, X_test_augmented, y_test, n_repeats=10\n",
    ")"
   ]
  },
  {
   "cell_type": "code",
   "execution_count": 82,
   "metadata": {},
   "outputs": [
    {
     "data": {
      "image/png": "[encoded data removed]",
      "text/plain": [
       "<Figure size 432x288 with 1 Axes>"
      ]
     },
     "metadata": {
      "needs_background": "light"
     },
     "output_type": "display_data"
    },
    {
     "data": {
      "application/javascript": [
       "\n",
       "            setTimeout(function() {\n",
       "                var nbb_cell_id = 82;\n",
       "                var nbb_unformatted_code = \"sorted_idx = feature_importances.importances_mean.argsort()\\n\\nfig, ax = plt.subplots()\\nax.boxplot(\\n    feature_importances.importances[sorted_idx].T,\\n    vert=False,\\n    labels=feature_names[sorted_idx],\\n)\\nax.set_title(\\\"Permutation Importances (test set)\\\")\\nfig.tight_layout()\\nplt.show()\";\n",
       "                var nbb_formatted_code = \"sorted_idx = feature_importances.importances_mean.argsort()\\n\\nfig, ax = plt.subplots()\\nax.boxplot(\\n    feature_importances.importances[sorted_idx].T,\\n    vert=False,\\n    labels=feature_names[sorted_idx],\\n)\\nax.set_title(\\\"Permutation Importances (test set)\\\")\\nfig.tight_layout()\\nplt.show()\";\n",
       "                var nbb_cells = Jupyter.notebook.get_cells();\n",
       "                for (var i = 0; i < nbb_cells.length; ++i) {\n",
       "                    if (nbb_cells[i].input_prompt_number == nbb_cell_id) {\n",
       "                        if (nbb_cells[i].get_text() == nbb_unformatted_code) {\n",
       "                             nbb_cells[i].set_text(nbb_formatted_code);\n",
       "                        }\n",
       "                        break;\n",
       "                    }\n",
       "                }\n",
       "            }, 500);\n",
       "            "
      ],
      "text/plain": [
       "<IPython.core.display.Javascript object>"
      ]
     },
     "metadata": {},
     "output_type": "display_data"
    }
   ],
   "source": [
    "sorted_idx = feature_importances.importances_mean.argsort()\n",
    "\n",
    "fig, ax = plt.subplots()\n",
    "ax.boxplot(\n",
    "    feature_importances.importances[sorted_idx].T,\n",
    "    vert=False,\n",
    "    labels=feature_names[sorted_idx],\n",
    ")\n",
    "ax.set_title(\"Permutation Importances (test set)\")\n",
    "fig.tight_layout()\n",
    "plt.show()"
   ]
  },
  {
   "cell_type": "markdown",
   "metadata": {},
   "source": [
    "## Submission\n",
    "\n",
    "To submit your code, you can refer to the [online documentation](https://paris-saclay-cds.github.io/ramp-docs/ramp-workflow/stable/using_kits.html)."
   ]
  },
  {
   "cell_type": "code",
   "execution_count": null,
   "metadata": {},
   "outputs": [],
   "source": [
    "!ramp-test --submission use_external_data"
   ]
  },
  {
   "cell_type": "code",
   "execution_count": 1,
   "metadata": {},
   "outputs": [
    {
     "name": "stdout",
     "output_type": "stream",
     "text": [
      "Requirement already up-to-date: ramp-workflow in c:\\users\\benja\\anaconda3\\lib\\site-packages (from -r requirements.txt (line 1)) (0.3.3)\n",
      "Requirement already up-to-date: numpy in c:\\users\\benja\\anaconda3\\lib\\site-packages (from -r requirements.txt (line 2)) (1.19.4)\n",
      "Requirement already up-to-date: scikit-learn>=0.22 in c:\\users\\benja\\anaconda3\\lib\\site-packages (from -r requirements.txt (line 3)) (0.23.2)\n",
      "Requirement already up-to-date: joblib in c:\\users\\benja\\anaconda3\\lib\\site-packages (from -r requirements.txt (line 4)) (0.17.0)\n",
      "Requirement already up-to-date: cloudpickle in c:\\users\\benja\\anaconda3\\lib\\site-packages (from -r requirements.txt (line 5)) (1.6.0)\n",
      "Requirement already up-to-date: pandas in c:\\users\\benja\\anaconda3\\lib\\site-packages (from -r requirements.txt (line 6)) (1.1.4)\n",
      "Collecting matplotlib (from -r requirements.txt (line 7))\n",
      "  Using cached https://files.pythonhosted.org/packages/24/02/202982cbc4ab7a5a87c7f8d16e51d464016af742d5fb2d2b6b23116caec5/matplotlib-3.3.3-cp37-cp37m-win_amd64.whl\n",
      "Requirement already up-to-date: holidays in c:\\users\\benja\\anaconda3\\lib\\site-packages (from -r requirements.txt (line 8)) (0.10.3)\n",
      "Requirement already up-to-date: geopy in c:\\users\\benja\\anaconda3\\lib\\site-packages (from -r requirements.txt (line 9)) (2.0.0)\n",
      "Requirement already satisfied, skipping upgrade: click in c:\\users\\benja\\anaconda3\\lib\\site-packages (from ramp-workflow->-r requirements.txt (line 1)) (7.0)\n",
      "Requirement already satisfied, skipping upgrade: scipy in c:\\users\\benja\\appdata\\roaming\\python\\python37\\site-packages (from ramp-workflow->-r requirements.txt (line 1)) (1.5.3)\n",
      "Requirement already satisfied, skipping upgrade: threadpoolctl>=2.0.0 in c:\\users\\benja\\anaconda3\\lib\\site-packages (from scikit-learn>=0.22->-r requirements.txt (line 3)) (2.1.0)\n",
      "Requirement already satisfied, skipping upgrade: python-dateutil>=2.7.3 in c:\\users\\benja\\anaconda3\\lib\\site-packages (from pandas->-r requirements.txt (line 6)) (2.8.0)\n",
      "Requirement already satisfied, skipping upgrade: pytz>=2017.2 in c:\\users\\benja\\anaconda3\\lib\\site-packages (from pandas->-r requirements.txt (line 6)) (2019.3)\n",
      "Requirement already satisfied, skipping upgrade: pyparsing!=2.0.4,!=2.1.2,!=2.1.6,>=2.0.3 in c:\\users\\benja\\anaconda3\\lib\\site-packages (from matplotlib->-r requirements.txt (line 7)) (2.4.2)\n",
      "Requirement already satisfied, skipping upgrade: cycler>=0.10 in c:\\users\\benja\\anaconda3\\lib\\site-packages (from matplotlib->-r requirements.txt (line 7)) (0.10.0)\n",
      "Requirement already satisfied, skipping upgrade: kiwisolver>=1.0.1 in c:\\users\\benja\\anaconda3\\lib\\site-packages (from matplotlib->-r requirements.txt (line 7)) (1.1.0)\n",
      "Requirement already satisfied, skipping upgrade: pillow>=6.2.0 in c:\\users\\benja\\anaconda3\\lib\\site-packages (from matplotlib->-r requirements.txt (line 7)) (6.2.0)\n",
      "Requirement already satisfied, skipping upgrade: six in c:\\users\\benja\\anaconda3\\lib\\site-packages (from holidays->-r requirements.txt (line 8)) (1.12.0)\n",
      "Requirement already satisfied, skipping upgrade: convertdate in c:\\users\\benja\\anaconda3\\lib\\site-packages (from holidays->-r requirements.txt (line 8)) (2.2.2)\n",
      "Requirement already satisfied, skipping upgrade: korean-lunar-calendar in c:\\users\\benja\\anaconda3\\lib\\site-packages (from holidays->-r requirements.txt (line 8)) (0.2.1)\n",
      "Requirement already satisfied, skipping upgrade: geographiclib<2,>=1.49 in c:\\users\\benja\\anaconda3\\lib\\site-packages (from geopy->-r requirements.txt (line 9)) (1.50)\n",
      "Requirement already satisfied, skipping upgrade: setuptools in c:\\users\\benja\\anaconda3\\lib\\site-packages (from kiwisolver>=1.0.1->matplotlib->-r requirements.txt (line 7)) (41.4.0)\n",
      "Requirement already satisfied, skipping upgrade: pymeeus<=1,>=0.3.6 in c:\\users\\benja\\anaconda3\\lib\\site-packages (from convertdate->holidays->-r requirements.txt (line 8)) (0.3.7)\n",
      "Installing collected packages: matplotlib\n",
      "Successfully installed matplotlib-3.3.3\n"
     ]
    }
   ],
   "source": [
    "!pip install -U -r requirements.txt  --user"
   ]
  },
  {
   "cell_type": "code",
   "execution_count": null,
   "metadata": {},
   "outputs": [],
   "source": []
  }
 ],
 "metadata": {
  "kernelspec": {
   "display_name": "Python 3",
   "language": "python",
   "name": "python3"
  },
  "language_info": {
   "codemirror_mode": {
    "name": "ipython",
    "version": 3
   },
   "file_extension": ".py",
   "mimetype": "text/x-python",
   "name": "python",
   "nbconvert_exporter": "python",
   "pygments_lexer": "ipython3",
   "version": "3.7.4"
  }
 },
 "nbformat": 4,
 "nbformat_minor": 2
}
